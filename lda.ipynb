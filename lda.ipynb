{
 "cells": [
  {
   "cell_type": "markdown",
   "metadata": {},
   "source": [
    "# Topic modeling first part\n",
    "This notebook contains the implementation for the following:\n",
    "* Load company data into DataFrame\n",
    "* Do feature preparation that inlcudes the following:\n",
    "    - Remove words with fewer than 3 words \n",
    "    - Remove stop words\n",
    "    - Words are lemmatized — words in third person are changed to first person and verbs in past and future tenses are changed into present.\n",
    "    - Words are stemmed — words are reduced to their root form.\n",
    "* Use LDA to compute most \n",
    "\n",
    "\n",
    "# Reference\n",
    "[topic model machinelearningplus](https://www.machinelearningplus.com/nlp/topic-modeling-gensim-python/#4whatdoesldado)\n",
    "\n",
    "[topic model towardsdatascience](https://towardsdatascience.com/topic-modeling-and-latent-dirichlet-allocation-in-python-9bf156893c24)"
   ]
  },
  {
   "cell_type": "markdown",
   "metadata": {},
   "source": [
    "## Step 1: Load data and necessary libraries and corpus"
   ]
  },
  {
   "cell_type": "code",
   "execution_count": 11,
   "metadata": {},
   "outputs": [],
   "source": [
    "\n",
    "import pandas as pd\n",
    "\n",
    "df = pd.read_csv(\"Sample 2001_2011/2001-2011-Table 1.csv\")"
   ]
  },
  {
   "cell_type": "code",
   "execution_count": 3,
   "metadata": {},
   "outputs": [
    {
     "data": {
      "text/html": [
       "<div>\n",
       "<style scoped>\n",
       "    .dataframe tbody tr th:only-of-type {\n",
       "        vertical-align: middle;\n",
       "    }\n",
       "\n",
       "    .dataframe tbody tr th {\n",
       "        vertical-align: top;\n",
       "    }\n",
       "\n",
       "    .dataframe thead th {\n",
       "        text-align: right;\n",
       "    }\n",
       "</style>\n",
       "<table border=\"1\" class=\"dataframe\">\n",
       "  <thead>\n",
       "    <tr style=\"text-align: right;\">\n",
       "      <th></th>\n",
       "      <th>Company</th>\n",
       "      <th>Overview Text</th>\n",
       "    </tr>\n",
       "  </thead>\n",
       "  <tbody>\n",
       "    <tr>\n",
       "      <th>0</th>\n",
       "      <td>Riverstone Networks</td>\n",
       "      <td>We are a leading provider of Internet infrastr...</td>\n",
       "    </tr>\n",
       "    <tr>\n",
       "      <th>1</th>\n",
       "      <td>Instinet Group LLC</td>\n",
       "      <td>We are the world's largest electronic agency s...</td>\n",
       "    </tr>\n",
       "    <tr>\n",
       "      <th>2</th>\n",
       "      <td>Alliance Data Systems</td>\n",
       "      <td>We are a leading provider of transaction servi...</td>\n",
       "    </tr>\n",
       "    <tr>\n",
       "      <th>3</th>\n",
       "      <td>Simplex Solutions</td>\n",
       "      <td>We provide software and services for integrate...</td>\n",
       "    </tr>\n",
       "    <tr>\n",
       "      <th>4</th>\n",
       "      <td>BAM! Entertainment</td>\n",
       "      <td>We are a rapidly emerging developer and publis...</td>\n",
       "    </tr>\n",
       "  </tbody>\n",
       "</table>\n",
       "</div>"
      ],
      "text/plain": [
       "                 Company                                      Overview Text\n",
       "0    Riverstone Networks  We are a leading provider of Internet infrastr...\n",
       "1     Instinet Group LLC  We are the world's largest electronic agency s...\n",
       "2  Alliance Data Systems  We are a leading provider of transaction servi...\n",
       "3      Simplex Solutions  We provide software and services for integrate...\n",
       "4     BAM! Entertainment  We are a rapidly emerging developer and publis..."
      ]
     },
     "execution_count": 3,
     "metadata": {},
     "output_type": "execute_result"
    }
   ],
   "source": [
    "df[['Company','Overview Text']].head()"
   ]
  },
  {
   "cell_type": "code",
   "execution_count": 35,
   "metadata": {},
   "outputs": [],
   "source": [
    "df.reset_index()[['index', 'Company']].to_csv(\"company_lookup.csv\", index=False)"
   ]
  },
  {
   "cell_type": "code",
   "execution_count": 12,
   "metadata": {},
   "outputs": [
    {
     "name": "stderr",
     "output_type": "stream",
     "text": [
      "[nltk_data] Downloading package wordnet to\n",
      "[nltk_data]     /Users/bohaocao/nltk_data...\n",
      "[nltk_data]   Package wordnet is already up-to-date!\n"
     ]
    },
    {
     "data": {
      "text/plain": [
       "True"
      ]
     },
     "execution_count": 12,
     "metadata": {},
     "output_type": "execute_result"
    }
   ],
   "source": [
    "import gensim\n",
    "from gensim.models import CoherenceModel\n",
    "from gensim import corpora, models\n",
    "from gensim.utils import simple_preprocess\n",
    "from gensim.parsing.preprocessing import STOPWORDS\n",
    "from nltk.stem import WordNetLemmatizer, SnowballStemmer\n",
    "from nltk.stem.porter import *\n",
    "import numpy as np\n",
    "np.random.seed(2018)\n",
    "import nltk\n",
    "nltk.download('wordnet')"
   ]
  },
  {
   "cell_type": "markdown",
   "metadata": {},
   "source": [
    "## Step 2: data preprocessing"
   ]
  },
  {
   "cell_type": "code",
   "execution_count": 13,
   "metadata": {},
   "outputs": [],
   "source": [
    "stemmer = SnowballStemmer('english')\n",
    "def lemmatize_stemming(text):\n",
    "    \"\"\"\n",
    "    Words are lemmatized — words in third person are changed to first person and verbs in past and future tenses are changed into present.\n",
    "    Words are stemmed — words are reduced to their root form.\n",
    "    \"\"\"\n",
    "    return stemmer.stem(WordNetLemmatizer().lemmatize(text, pos='v'))\n",
    "def preprocess(text):\n",
    "    \"\"\"\n",
    "    Words that have fewer than 3 characters are removed.\n",
    "    All stopwords are removed.\n",
    "    \"\"\"\n",
    "    result = []\n",
    "    for token in gensim.utils.simple_preprocess(text):\n",
    "        if token not in gensim.parsing.preprocessing.STOPWORDS and len(token) > 3:\n",
    "            result.append(lemmatize_stemming(token))\n",
    "    return result"
   ]
  },
  {
   "cell_type": "code",
   "execution_count": 14,
   "metadata": {},
   "outputs": [],
   "source": [
    "processed_docs = df['Overview Text'].map(preprocess)"
   ]
  },
  {
   "cell_type": "code",
   "execution_count": 7,
   "metadata": {},
   "outputs": [
    {
     "data": {
      "text/plain": [
       "0      [lead, provid, internet, infrastructur, equip,...\n",
       "1      [world, largest, electron, agenc, secur, broke...\n",
       "2      [lead, provid, transact, servic, credit, servi...\n",
       "3      [provid, softwar, servic, integr, circuit, des...\n",
       "4      [rapid, emerg, develop, publish, interact, ent...\n",
       "                             ...                        \n",
       "117    [provid, home, improv, inform, servic, interne...\n",
       "118    [oper, consum, drive, solut, member, research,...\n",
       "119    [jive, mission, chang, work, get, believ, soci...\n",
       "120    [boingo, make, simpl, connect, mobil, internet...\n",
       "121    [lead, provid, carrier, neutral, coloc, data, ...\n",
       "Name: Overview Text, Length: 122, dtype: object"
      ]
     },
     "execution_count": 7,
     "metadata": {},
     "output_type": "execute_result"
    }
   ],
   "source": [
    "#processed docs are \"features\" that are preprocessed. Each Company overview text is transformed into a list of processed word now.\n",
    "processed_docs"
   ]
  },
  {
   "cell_type": "code",
   "execution_count": 15,
   "metadata": {},
   "outputs": [
    {
     "data": {
      "text/plain": [
       "3215"
      ]
     },
     "execution_count": 15,
     "metadata": {},
     "output_type": "execute_result"
    }
   ],
   "source": [
    "\"\"\"\n",
    "Create a dictionary from ‘processed_docs’ containing the preprocessed words and their ids.\n",
    "\"\"\"\n",
    "dictionary = gensim.corpora.Dictionary(processed_docs)\n",
    "len(dictionary)"
   ]
  },
  {
   "cell_type": "code",
   "execution_count": 16,
   "metadata": {},
   "outputs": [
    {
     "data": {
      "text/plain": [
       "888"
      ]
     },
     "execution_count": 16,
     "metadata": {},
     "output_type": "execute_result"
    }
   ],
   "source": [
    "\"\"\"\n",
    "Filter:\n",
    "less than 5 documents (absolute number) or\n",
    "more than 0.5 documents (fraction of total corpus size, not absolute number).\n",
    "after the above two steps, keep only the first 100000 most frequent tokens.\n",
    "\"\"\"\n",
    "\n",
    "dictionary.filter_extremes(no_below=5, no_above=0.5, keep_n=100000)\n",
    "len(dictionary)"
   ]
  },
  {
   "cell_type": "code",
   "execution_count": 17,
   "metadata": {},
   "outputs": [],
   "source": [
    "\"\"\"\n",
    "For each document we create a dictionary reporting how many\n",
    "words and how many times those words appear. Save this to ‘bow_corpus’, then check our selected document earlier.\n",
    "\"\"\"\n",
    "bow_corpus = [dictionary.doc2bow(doc) for doc in processed_docs]"
   ]
  },
  {
   "cell_type": "code",
   "execution_count": 9,
   "metadata": {},
   "outputs": [],
   "source": [
    "tfidf = models.TfidfModel(bow_corpus)\n",
    "tfidf_corpus = tfidf[bow_corpus]"
   ]
  },
  {
   "cell_type": "code",
   "execution_count": 10,
   "metadata": {},
   "outputs": [],
   "source": [
    "def create_model_and_report_metrics(corpus, is_tfidf, num_topics, texts, id2word):\n",
    "    \"\"\"\n",
    "    Create a LDA model, and calculate the coherence metrica and perplexity.\n",
    "    If corpus is bag of words model, set is_tfidf = False\n",
    "    Else if corpus is turned into tfidf, set is_tfidf = True\n",
    "    \"\"\"\n",
    "    \n",
    "    model = gensim.models.LdaMulticore(corpus, num_topics=num_topics, id2word=id2word, passes=2, workers=4)\n",
    "\n",
    "    # Compute Coherence Score\n",
    "    coherence_model_lda = CoherenceModel(model=model, texts=texts, dictionary=dictionary, coherence='c_v')\n",
    "    coherence_lda = coherence_model_lda.get_coherence()\n",
    "    print(f\"model artifacts: num_topics:{num_topics}, is_tfidf:{is_tfidf}\")\n",
    "    print(f'Coherence Score for: ', coherence_lda)\n",
    "\n",
    "    # Compute perplexity. This is a measure of how good the model is. lower the better.\n",
    "    print(f'Perplexity: {model.log_perplexity(corpus)}')  \n",
    "\n",
    "    return model"
   ]
  },
  {
   "cell_type": "code",
   "execution_count": 13,
   "metadata": {},
   "outputs": [
    {
     "name": "stdout",
     "output_type": "stream",
     "text": [
      "model artifacts: num_topics:5, is_tfidf:False\n",
      "Coherence Score for:  0.26322951992943405\n",
      "Perplexity: -6.489503261554325\n",
      "model artifacts: num_topics:10, is_tfidf:False\n",
      "Coherence Score for:  0.314644582351184\n",
      "Perplexity: -6.618414945326977\n",
      "model artifacts: num_topics:15, is_tfidf:False\n",
      "Coherence Score for:  0.28617206875863677\n",
      "Perplexity: -6.761746520052021\n",
      "model artifacts: num_topics:20, is_tfidf:False\n",
      "Coherence Score for:  0.28637884310156664\n",
      "Perplexity: -6.93826133993981\n",
      "model artifacts: num_topics:25, is_tfidf:False\n",
      "Coherence Score for:  0.27679669011219155\n",
      "Perplexity: -7.0510043628415096\n",
      "model artifacts: num_topics:30, is_tfidf:False\n",
      "Coherence Score for:  0.3001195510235722\n",
      "Perplexity: -7.184997439144871\n"
     ]
    }
   ],
   "source": [
    "num_topics_choices = [5,10,15,20,25,30]\n",
    "for num_topics in num_topics_choices:\n",
    "    create_model_and_report_metrics(bow_corpus, False, num_topics, processed_docs, dictionary)"
   ]
  },
  {
   "cell_type": "markdown",
   "metadata": {},
   "source": [
    "## When topic is 10 and 30, the coherence score is highest. \n",
    "Reserve on 30 topics as it's too fragmented.\n",
    "10 topic could be a good num of topic candidate."
   ]
  },
  {
   "cell_type": "code",
   "execution_count": 14,
   "metadata": {},
   "outputs": [
    {
     "name": "stdout",
     "output_type": "stream",
     "text": [
      "model artifacts: num_topics:5, is_tfidf:True\n",
      "Coherence Score for:  0.31184845526771676\n",
      "Perplexity: -9.020624400098527\n",
      "model artifacts: num_topics:10, is_tfidf:True\n",
      "Coherence Score for:  0.3198289966666304\n",
      "Perplexity: -10.891994555185837\n",
      "model artifacts: num_topics:15, is_tfidf:True\n",
      "Coherence Score for:  0.3162272119929373\n",
      "Perplexity: -12.493137176564023\n",
      "model artifacts: num_topics:20, is_tfidf:True\n",
      "Coherence Score for:  0.3016396412496134\n",
      "Perplexity: -13.764095644214285\n",
      "model artifacts: num_topics:25, is_tfidf:True\n",
      "Coherence Score for:  0.29040513651075045\n",
      "Perplexity: -14.52806967155888\n",
      "model artifacts: num_topics:30, is_tfidf:True\n",
      "Coherence Score for:  0.287488957952191\n",
      "Perplexity: -15.260933775997827\n"
     ]
    }
   ],
   "source": [
    "num_topics_choices = [5,10,15,20,25, 30]\n",
    "for num_topics in num_topics_choices:\n",
    "    create_model_and_report_metrics(tfidf_corpus, True, num_topics, processed_docs, dictionary)"
   ]
  },
  {
   "cell_type": "markdown",
   "metadata": {},
   "source": [
    "With tfidf, coherence score is pretty stable but perplexity is getter better and better.\n",
    "\n",
    "Pick num of topic *10* for both models."
   ]
  },
  {
   "cell_type": "code",
   "execution_count": 11,
   "metadata": {},
   "outputs": [
    {
     "name": "stdout",
     "output_type": "stream",
     "text": [
      "model artifacts: num_topics:10, is_tfidf:False\n",
      "Coherence Score for:  0.3012992056288897\n",
      "Perplexity: -6.630464725838595\n"
     ]
    }
   ],
   "source": [
    "corpus_25 = create_model_and_report_metrics(bow_corpus, False, 10, processed_docs, dictionary)"
   ]
  },
  {
   "cell_type": "code",
   "execution_count": 12,
   "metadata": {},
   "outputs": [
    {
     "name": "stdout",
     "output_type": "stream",
     "text": [
      "model artifacts: num_topics:10, is_tfidf:True\n",
      "Coherence Score for:  0.2979577975563318\n",
      "Perplexity: -10.796514052033865\n"
     ]
    }
   ],
   "source": [
    "corpus_tfidf_25 = create_model_and_report_metrics(tfidf_corpus, True, 10, processed_docs, dictionary)"
   ]
  },
  {
   "cell_type": "markdown",
   "metadata": {},
   "source": [
    "## Step 3 :Visualize the topics\n",
    "\n",
    "A good topic model will have fairly big, non-overlapping bubbles scattered throughout the chart instead of being clustered in one quadrant.\n"
   ]
  },
  {
   "cell_type": "code",
   "execution_count": 13,
   "metadata": {},
   "outputs": [
    {
     "data": {
      "text/html": [
       "\n",
       "<link rel=\"stylesheet\" type=\"text/css\" href=\"https://cdn.jsdelivr.net/gh/bmabey/pyLDAvis@3.4.0/pyLDAvis/js/ldavis.v1.0.0.css\">\n",
       "\n",
       "\n",
       "<div id=\"ldavis_el21564115317724006690676112\" style=\"background-color:white;\"></div>\n",
       "<script type=\"text/javascript\">\n",
       "\n",
       "var ldavis_el21564115317724006690676112_data = {\"mdsDat\": {\"x\": [-0.07511272761714553, 0.019607734531160312, -0.009284302574345078, 0.026874700037245694, 0.06341659217198953, 0.008026007426611447, -0.03971318491763571, 0.03267624814283093, 0.01074323812363838, -0.037234305324349806], \"y\": [0.017879190270843958, 0.04681374214367625, -0.04820876192773889, -0.028081727168363227, 0.05477299511010849, -0.007761476874801473, 0.004809297671654626, -0.034518630421050946, -0.032776844257271495, 0.02707221545294252], \"topics\": [1, 2, 3, 4, 5, 6, 7, 8, 9, 10], \"cluster\": [1, 1, 1, 1, 1, 1, 1, 1, 1, 1], \"Freq\": [16.359621035367923, 16.29891021872581, 16.12356666343754, 12.665063813460135, 11.26966479423932, 7.12034699814565, 6.716455379467701, 6.635368832956683, 4.548857223266111, 2.262145040933131]}, \"tinfo\": {\"Term\": [\"trade\", \"process\", \"home\", \"merchant\", \"design\", \"print\", \"inform\", \"email\", \"supplier\", \"mobil\", \"enterpris\", \"advertis\", \"consum\", \"profession\", \"organ\", \"project\", \"financi\", \"subscrib\", \"improv\", \"wireless\", \"payment\", \"client\", \"health\", \"secur\", \"septemb\", \"event\", \"order\", \"purchas\", \"card\", \"content\", \"email\", \"famili\", \"imag\", \"half\", \"home\", \"highest\", \"messag\", \"histori\", \"project\", \"sit\", \"learn\", \"color\", \"satisfi\", \"chat\", \"assist\", \"massachusett\", \"permit\", \"regular\", \"campaign\", \"name\", \"link\", \"interest\", \"watch\", \"improv\", \"place\", \"comscor\", \"microsoft\", \"offlin\", \"contact\", \"advertis\", \"digit\", \"juli\", \"mail\", \"supplier\", \"attract\", \"qualiti\", \"respons\", \"user\", \"target\", \"categori\", \"program\", \"sourc\", \"brand\", \"content\", \"educ\", \"current\", \"design\", \"search\", \"direct\", \"media\", \"creat\", \"deliv\", \"small\", \"consum\", \"inform\", \"proprietari\", \"rang\", \"storag\", \"acceler\", \"protect\", \"technic\", \"circuit\", \"earli\", \"solv\", \"releas\", \"procur\", \"life\", \"vari\", \"chain\", \"caus\", \"instal\", \"train\", \"origin\", \"memori\", \"suppli\", \"dramat\", \"cycl\", \"reason\", \"south\", \"intellig\", \"error\", \"elimin\", \"download\", \"smaller\", \"interact\", \"lower\", \"archiv\", \"manufactur\", \"channel\", \"implement\", \"integr\", \"data\", \"purchas\", \"design\", \"common\", \"sell\", \"tradit\", \"game\", \"commerc\", \"function\", \"north\", \"autom\", \"requir\", \"report\", \"enterpris\", \"size\", \"reduc\", \"complex\", \"process\", \"supplier\", \"direct\", \"result\", \"user\", \"support\", \"platform\", \"demand\", \"inform\", \"organ\", \"profession\", \"system\", \"state\", \"perform\", \"consum\", \"payment\", \"exclud\", \"stockhold\", \"click\", \"bank\", \"card\", \"higher\", \"amort\", \"accept\", \"settlement\", \"balanc\", \"host\", \"merchant\", \"gain\", \"agent\", \"capit\", \"membership\", \"diversifi\", \"credit\", \"fund\", \"exposur\", \"second\", \"hold\", \"newspap\", \"account\", \"wholesal\", \"stock\", \"econom\", \"transact\", \"amount\", \"own\", \"marketplac\", \"research\", \"properti\", \"financi\", \"institut\", \"experi\", \"quarter\", \"annual\", \"invest\", \"repres\", \"global\", \"volum\", \"search\", \"fee\", \"growth\", \"retail\", \"total\", \"person\", \"advertis\", \"septemb\", \"march\", \"trade\", \"inform\", \"member\", \"client\", \"result\", \"dealer\", \"broker\", \"trade\", \"investor\", \"issu\", \"price\", \"understand\", \"commiss\", \"european\", \"vast\", \"reduct\", \"behavior\", \"music\", \"intermediari\", \"human\", \"talent\", \"tabl\", \"simultan\", \"client\", \"empow\", \"airlin\", \"forecast\", \"food\", \"practic\", \"warehous\", \"radio\", \"merchandis\", \"store\", \"purpos\", \"determin\", \"like\", \"travel\", \"optim\", \"retail\", \"initi\", \"secur\", \"captur\", \"electron\", \"book\", \"consum\", \"platform\", \"emerg\", \"institut\", \"volum\", \"incom\", \"inform\", \"object\", \"septemb\", \"total\", \"process\", \"advertis\", \"demand\", \"data\", \"result\", \"organ\", \"state\", \"billion\", \"deliv\", \"improv\", \"perform\", \"user\", \"voic\", \"bandwidth\", \"metropolitan\", \"broadband\", \"wireless\", \"converg\", \"telecom\", \"switch\", \"gateway\", \"applianc\", \"mobil\", \"centric\", \"architectur\", \"protocol\", \"transit\", \"problem\", \"carrier\", \"seamless\", \"screen\", \"incur\", \"provis\", \"simplifi\", \"fundament\", \"secur\", \"fortun\", \"control\", \"despit\", \"prospectus\", \"fast\", \"cabl\", \"enforc\", \"traffic\", \"central\", \"hotel\", \"deploy\", \"enterpris\", \"infrastructur\", \"area\", \"communic\", \"connect\", \"deliv\", \"demand\", \"data\", \"integr\", \"singl\", \"user\", \"perform\", \"organ\", \"complex\", \"california\", \"sell\", \"devic\", \"content\", \"benefit\", \"tradit\", \"septemb\", \"design\", \"inform\", \"process\", \"platform\", \"growth\", \"career\", \"insur\", \"rental\", \"financ\", \"texa\", \"automot\", \"prospect\", \"park\", \"owner\", \"bring\", \"regulatori\", \"asset\", \"headquart\", \"ebitda\", \"profession\", \"leas\", \"post\", \"hous\", \"properti\", \"provis\", \"domain\", \"error\", \"prepar\", \"contractu\", \"ineffici\", \"tailor\", \"simplifi\", \"health\", \"adjust\", \"self\", \"employ\", \"respect\", \"acquisit\", \"communic\", \"member\", \"process\", \"sourc\", \"special\", \"unit\", \"enterpris\", \"complex\", \"expens\", \"relationship\", \"financi\", \"incom\", \"subscript\", \"platform\", \"period\", \"state\", \"decemb\", \"integr\", \"march\", \"specif\", \"growth\", \"organ\", \"inform\", \"consum\", \"sell\", \"demand\", \"remot\", \"subscrib\", \"video\", \"entertain\", \"merchant\", \"minim\", \"robust\", \"want\", \"washington\", \"affili\", \"recommend\", \"possibl\", \"registr\", \"premium\", \"statist\", \"rich\", \"predict\", \"divid\", \"author\", \"free\", \"calcul\", \"metric\", \"fastest\", \"transit\", \"understand\", \"popular\", \"real\", \"forc\", \"declin\", \"domest\", \"live\", \"averag\", \"devic\", \"consum\", \"home\", \"process\", \"content\", \"health\", \"decemb\", \"subscript\", \"primarili\", \"card\", \"user\", \"profession\", \"plan\", \"uniqu\", \"connect\", \"loss\", \"platform\", \"brand\", \"proprietari\", \"billion\", \"inform\", \"total\", \"march\", \"mobil\", \"repres\", \"relationship\", \"payment\", \"retail\", \"neutral\", \"facil\", \"option\", \"degre\", \"answer\", \"social\", \"game\", \"engag\", \"question\", \"feder\", \"align\", \"supplement\", \"workforc\", \"cloud\", \"talent\", \"florida\", \"aspect\", \"great\", \"mass\", \"play\", \"seven\", \"govern\", \"defin\", \"day\", \"extern\", \"grant\", \"presenc\", \"mutual\", \"clear\", \"practic\", \"largest\", \"septemb\", \"organ\", \"engin\", \"perform\", \"trade\", \"incom\", \"focus\", \"decemb\", \"employe\", \"activ\", \"subsidiari\", \"identifi\", \"platform\", \"project\", \"broker\", \"result\", \"enterpris\", \"gain\", \"retail\", \"capit\", \"specif\", \"direct\", \"inform\", \"search\", \"larg\", \"design\", \"process\", \"improv\", \"account\", \"healthcar\", \"contrast\", \"event\", \"movi\", \"open\", \"health\", \"outsourc\", \"core\", \"complementari\", \"fulli\", \"medic\", \"connecticut\", \"grant\", \"permit\", \"affili\", \"consider\", \"center\", \"screen\", \"dispar\", \"agreement\", \"law\", \"entertain\", \"right\", \"centric\", \"negoti\", \"subject\", \"exclus\", \"ebitda\", \"contractu\", \"meet\", \"financi\", \"privat\", \"institut\", \"adjust\", \"live\", \"inform\", \"public\", \"licens\", \"client\", \"activ\", \"program\", \"advertis\", \"organ\", \"content\", \"member\", \"total\", \"distribut\", \"process\", \"septemb\", \"improv\", \"data\", \"consum\", \"enterpris\", \"support\", \"digit\", \"profession\", \"print\", \"graphic\", \"file\", \"meaning\", \"version\", \"law\", \"compel\", \"chain\", \"predecessor\", \"background\", \"day\", \"suppli\", \"shipment\", \"flat\", \"color\", \"character\", \"buyer\", \"immedi\", \"order\", \"heavili\", \"supplier\", \"procur\", \"catalog\", \"consid\", \"regular\", \"consider\", \"outstand\", \"card\", \"error\", \"expect\", \"aggreg\", \"design\", \"person\", \"tradit\", \"easili\", \"system\", \"small\", \"process\", \"purchas\", \"commerc\", \"relationship\", \"need\", \"individu\", \"june\", \"improv\", \"share\", \"inform\", \"multipl\", \"requir\", \"consum\", \"profession\", \"project\", \"valu\", \"state\", \"advertis\", \"integr\", \"enterpris\"], \"Freq\": [152.0, 207.0, 134.0, 82.0, 152.0, 38.0, 206.0, 113.0, 85.0, 104.0, 143.0, 184.0, 172.0, 102.0, 136.0, 105.0, 102.0, 69.0, 154.0, 72.0, 113.0, 106.0, 47.0, 109.0, 141.0, 40.0, 67.0, 128.0, 51.0, 141.0, 82.19182780987846, 20.25114617974685, 8.60536939305768, 11.735946176433, 76.5318587721071, 3.570261167527704, 15.337111444706862, 12.512686076911198, 58.28615587992961, 22.08797280060195, 17.760190051545187, 3.0560711614901632, 6.107651097914318, 5.282415484415633, 11.410084950315289, 7.121756618199338, 3.5360051504325773, 3.4734017610910426, 20.469432919915285, 4.547403501273401, 8.113546731724803, 11.320003573641001, 3.3520084556681327, 72.02753818007747, 11.197039081415634, 8.18398584277487, 4.525570631284637, 9.52221791298143, 18.93536102420026, 81.04760059502124, 26.64205557278644, 12.618168717347219, 16.320335123365055, 32.31461252631761, 17.068478963505004, 20.296257994925078, 11.654372388678325, 49.728096581973084, 29.289425253269847, 14.247858625855272, 21.057241509140027, 19.517786488474066, 25.377352793437808, 33.74385676257924, 16.736046435997565, 22.060520910167725, 28.422967285881157, 20.65947565202363, 23.887938319844316, 20.2837519517881, 20.17256483635654, 22.750791040046135, 19.268822076531983, 25.468348073264416, 26.06431526935397, 19.424324795884765, 18.666853617189137, 16.26413708658677, 5.610946431369862, 8.661299612266466, 9.003609166429207, 11.247284208144354, 4.632673553434057, 3.569472013758101, 3.448991084128887, 5.092488050822778, 7.715719506247862, 2.8326371529052436, 13.447836888248528, 3.6088699952973236, 9.41704466817803, 7.410006300514453, 14.959890844347798, 3.619566977688052, 18.112699016502948, 2.5552504945835954, 5.990096020728659, 2.9338449063504233, 2.85643765195933, 9.807332985917862, 3.414109209750788, 4.728763120070624, 4.808379359315716, 3.262428981809217, 36.02404954787861, 14.304253127894025, 2.9414346275629564, 26.074971412910184, 39.3786191471716, 12.64904288263898, 47.22873037585242, 69.45667488104893, 49.30552484519792, 57.54970306591764, 10.721610048316517, 39.21531026829079, 36.11525161444703, 20.288530234908503, 21.533214945076768, 16.869273524564402, 10.157858556675812, 17.601678690195385, 20.920272373684774, 20.668212570441415, 31.433070392386924, 18.649699003128944, 17.903734045403187, 17.836115555882078, 35.69593092434036, 21.369078142955043, 24.722868760282438, 23.884751459559034, 29.90720989859645, 21.50251041246965, 27.310379712184528, 20.599231882090418, 26.682630365786867, 23.209904292540138, 20.3720587173499, 19.73095452044789, 19.960589023493306, 19.39445674273001, 19.8571903832699, 68.96626047271438, 7.610356822099133, 8.182648095962277, 11.63774665070373, 17.98307154480794, 27.222690627213492, 16.12224499160673, 4.037969211335711, 15.194959006261788, 6.064663490160816, 4.077259306458238, 26.331762113438153, 40.574801096510456, 30.264118296352454, 6.237522862667934, 43.616668533102235, 10.893234474052818, 3.319237140805183, 16.72540824325012, 15.030239870516102, 3.481253118813353, 9.948303323983946, 13.606388851994, 2.639130723173454, 44.694574871038014, 7.6339771757921095, 18.241289679043316, 3.727518857828736, 46.85673391574705, 4.119601044765413, 11.31341512832618, 26.556630543407383, 29.220001430135643, 17.787253991389445, 35.72585657413334, 22.05790431330833, 25.074388291832072, 22.92294504854221, 20.101580643901755, 24.06538826882026, 26.730479897003818, 23.99153154412923, 23.054249927001155, 23.614578214914367, 20.490331037630803, 26.725826027675122, 25.092370342632243, 27.038736708611665, 21.82516444939, 29.74296158825052, 26.719152859170865, 23.021737394720887, 26.75115501913204, 26.510638533513614, 21.31307542340011, 22.387917510139403, 21.9890201884852, 29.28855597192932, 30.167836751876514, 85.41720449671519, 19.09890076322097, 6.688423001339293, 45.83180314191946, 7.744143060950498, 12.398106983274635, 4.892106956522909, 2.97010973529311, 3.3241091835051035, 8.810963862143826, 9.570956236260772, 2.678585927811465, 4.290435036915342, 5.6247424320538055, 3.0471391050440433, 4.2575226176688235, 42.71802096336211, 3.7945240046330513, 11.988218577305883, 4.040290033987944, 3.216520092539777, 3.7964730321323032, 3.7006200974053605, 7.70167248408163, 12.982533970951827, 9.60325225575346, 2.339045332179798, 5.18649250682053, 4.806819176959595, 22.03562250863487, 16.44618243137697, 33.45069310455598, 13.310914997646973, 31.56588526911654, 9.075526122552482, 16.600749819518885, 10.58667527945643, 39.730348786882395, 34.70769224470784, 8.796723284797663, 17.230402960342342, 19.242596380897545, 21.344807934139755, 36.39372462842681, 11.574105693846883, 21.980537920865352, 20.42927365813127, 25.76615304756534, 23.095061566246677, 16.40849964848289, 21.733810054362454, 17.341974484935715, 18.845647616033585, 17.339469271540334, 16.78845225972329, 15.857043709334716, 16.57270125385688, 15.300998840399684, 16.25099287334007, 16.630721959583532, 5.677242348618228, 6.08218695093105, 6.3926790476606525, 43.05069854541428, 3.339985925238855, 7.997092075357139, 5.370905144120479, 5.869484104492119, 7.634242767040063, 56.053295429589, 4.326964060390918, 18.616544012725416, 6.443227240249749, 3.4813354506159295, 3.349179069330373, 18.440923940766073, 2.9813799861155554, 18.051670428027247, 8.70416400027028, 3.0413328215099322, 3.8401419610194467, 3.643125974180237, 44.59780599661698, 4.961725280064574, 6.666905459941499, 2.32129285296248, 2.250861313794769, 2.179184928447641, 2.296919388690701, 3.208539827133682, 15.056090065771862, 8.286911582807939, 10.45189137639469, 15.90342441267334, 43.86224730994724, 17.243543712682953, 11.573232176914702, 25.96074237868238, 19.910094115947505, 28.275657840429226, 22.34376751546309, 32.494507283323614, 24.4725782090137, 12.180546503507761, 28.82043340735431, 18.793730585158023, 21.783181714688588, 14.191439614178982, 14.059791534802166, 18.003364121804026, 13.484448763772784, 18.47832537330773, 13.838257912067963, 15.82431966375211, 17.444798838741665, 17.184050534493153, 18.08197819370933, 17.296105373027064, 16.361302208070782, 14.124297232508125, 14.032651613122502, 13.447285572177552, 9.943400996190908, 10.983760129373898, 4.262757835132985, 7.736894116829593, 2.7959300930451745, 2.286857919328885, 5.622644098387518, 2.1986651352686004, 2.1435871835189575, 10.507856016506683, 3.327243555424316, 7.284873805055895, 27.444418828358668, 2.2635663135646054, 3.450636438763152, 4.581191887101515, 11.977221134068742, 1.8485888329815052, 2.023141914013325, 1.939530124961364, 1.262795404734258, 2.8153384653530327, 3.381550472864133, 2.5307374968936385, 2.0585210749860128, 10.319097374406706, 7.043274591528782, 1.5865665642130937, 5.376428478397644, 13.638698068938387, 5.963492932874289, 16.986913000363906, 14.110704694681987, 30.73030425484912, 10.708027391758806, 6.231780801942627, 14.48424698744295, 20.826373444829397, 10.444419179801407, 7.479110309629726, 13.239966873681368, 13.873331248051073, 12.897548354094754, 9.190818949402734, 18.030680541714887, 8.311095972944106, 13.373526407860544, 12.365163194113391, 12.242363396957996, 10.625095101747654, 9.103500984166539, 10.693915370381617, 11.475418107908322, 13.123262300960207, 11.024259252145718, 9.807390722108403, 9.39596752706849, 6.402017336264851, 26.007914603549644, 10.44677837241155, 12.477184803561668, 26.27029834880316, 3.0635818181680747, 2.1671683765262593, 1.8719139752842942, 3.009599548662096, 4.131767110280877, 2.7429032721647344, 2.0100704346119476, 4.426751558159224, 7.0988457479264, 2.1367247798451046, 3.6812088540703547, 2.7126466470739454, 1.809322819484396, 2.087831919044963, 6.858120875733, 3.2217887747178238, 1.994367552066947, 1.4706832363014046, 1.7055489650618894, 3.583499601749726, 3.980974312570655, 11.700142638507177, 7.03329981075741, 1.6077137695183121, 3.6812979281763267, 4.860521866359309, 12.310322953101945, 11.594312516751527, 30.072564374980704, 23.23639228331311, 31.851280155202705, 21.487958337834527, 8.123220655290421, 15.157076759049279, 9.316699391555046, 9.037456270941966, 8.453755335151726, 20.839766068677136, 13.638543921405885, 9.529927675460153, 8.079515520841388, 9.978391429697703, 10.478593794356847, 15.48658372540489, 10.81419981600627, 9.823802478461747, 11.669515431522674, 16.192659037652426, 11.73237065843391, 10.094775152367513, 10.043293680402783, 9.60851120464946, 9.52866971379374, 9.770714311302505, 9.445611471261977, 4.730997709150305, 8.254504234749627, 8.605218193940658, 2.3608760156075053, 2.421668195175227, 14.094995748785758, 17.674823952410055, 10.962388715836735, 2.859222580782885, 3.59906713361545, 2.0529526843680572, 2.8629612815624124, 1.4821944751810665, 3.32056173646019, 3.663688503223267, 1.735383737566905, 2.267243498499706, 1.6248074177339904, 2.189624882438179, 2.1630102475340225, 3.2422088291053375, 6.804312967676294, 3.436747041411186, 1.8146396696298581, 1.8508382794755611, 1.6310950723063324, 2.6489328032687407, 2.6434127508299103, 1.5328390935983591, 2.096712958708115, 13.052282188022495, 28.200926585096315, 24.675342127210737, 7.75236687520664, 17.632936556710746, 24.58675397129126, 14.52670091689206, 11.979126877756736, 14.941447235320513, 8.8341626645916, 12.891242020749248, 5.824001299106823, 5.622653147310697, 18.311290543824647, 12.7600375739857, 7.326121779272415, 11.973645220990393, 13.558515639415416, 8.256162097624438, 10.49308733540614, 9.540466210747212, 7.938157100510319, 10.068970812537021, 13.017662159176519, 8.512948204345772, 8.342991109111404, 9.401414933792015, 9.872405723812117, 8.4992893070602, 8.101566592092386, 10.856634796877229, 2.038089810117279, 14.84449700704103, 4.266836545848539, 5.931173047807463, 14.091334994097974, 4.770179650909293, 6.261058473882645, 2.3566543409683356, 3.3945697286615504, 2.9865630541599026, 2.1419414911869414, 1.7589100202529984, 1.5667248513270615, 3.4476372342494614, 1.5065190935316481, 8.694077600779906, 9.133719381367273, 1.5782078049379584, 7.537656270782989, 1.2085988661298155, 7.428453675042811, 1.277107021629279, 1.632353944968466, 1.656690020991501, 2.5489012599731655, 3.4887792914215052, 4.820561170346651, 2.2676646518128587, 6.977857373547331, 15.0961186188394, 4.176373533958187, 9.807295502307543, 5.246625332204547, 3.798805379912099, 24.305277246358642, 7.073662194105782, 6.0544205140261536, 11.048857954907001, 9.84784680757276, 7.619910790619221, 14.823876464566863, 11.994064420582388, 12.06381070784804, 8.476679191691822, 9.796566354959259, 6.823510063447517, 10.530161845207962, 8.603169533021404, 8.488765133400294, 8.767331975476855, 8.486235941228866, 7.588702243834241, 6.885091112170532, 6.16202443721693, 6.191185840833452, 11.199878354821895, 4.072404592257541, 2.408265657135802, 0.7169866064031301, 0.7652084595960125, 0.6339282481555146, 0.6739985357736454, 2.908418822037148, 0.9670910668882496, 0.7468697366368808, 0.7813743940226938, 3.858572426357586, 0.7816414995557797, 0.6094107904755384, 0.5364309077318209, 0.5681645663257202, 2.5421574885037694, 1.0408666764730488, 5.7747149246155765, 0.5364021452419667, 7.217069519889692, 0.7785173200305154, 0.8629876936472066, 0.43606807330046876, 0.5430912107329786, 0.5355707925370682, 0.6485399467835831, 3.8325017942254855, 0.5711471622293407, 1.5081210012265642, 1.7168882801677512, 9.251391110039807, 4.5727046475129765, 5.549098133352307, 1.5404872577061732, 5.26328969394871, 3.791355796562453, 8.390039658896603, 5.770689166626053, 3.2447895251549195, 4.2812707886915105, 3.327535776778312, 2.8210264200231467, 2.786575679038979, 5.011005086262149, 2.779693908403766, 5.751601911366388, 2.246397298367072, 2.916504867155307, 4.438579885968871, 3.3434021992257743, 3.2481213040534485, 2.6580548269572315, 2.908632789489347, 3.2615738000461407, 2.8877072821105902, 2.9216035756888608], \"Total\": [152.0, 207.0, 134.0, 82.0, 152.0, 38.0, 206.0, 113.0, 85.0, 104.0, 143.0, 184.0, 172.0, 102.0, 136.0, 105.0, 102.0, 69.0, 154.0, 72.0, 113.0, 106.0, 47.0, 109.0, 141.0, 40.0, 67.0, 128.0, 51.0, 141.0, 113.79359798720859, 31.22031428604362, 14.001870577510841, 19.80505220573636, 134.95996095523293, 6.355144460772431, 27.40643287644524, 22.69657001102046, 105.81705462105549, 40.73514506455903, 33.523760191036146, 5.810537054116324, 11.681200749989431, 10.261426407872774, 22.204710737561108, 14.081759103921415, 7.048429421642802, 6.933159461497674, 41.04715267856314, 9.15724566476575, 16.720306395396445, 24.040241513440336, 7.169657827730274, 154.55557540929365, 24.328361429713038, 18.04435920878012, 10.07826086748409, 21.306406760514005, 42.651491666400766, 184.86260949340783, 61.03150094458401, 29.404137328649085, 38.79648774857012, 85.46305093618535, 44.47440804112649, 55.07436628768757, 28.634223630127654, 185.09223603291002, 94.34421721638275, 37.223953419674295, 65.68006351614162, 60.70361397662865, 90.25771475222076, 141.7660923203145, 50.33690839092871, 86.71210202114106, 152.09814899890554, 82.12885758457267, 115.03057620870882, 80.67248498924731, 82.37050451866833, 117.01618511882334, 74.22251721520875, 172.81116319194106, 206.12374964630476, 76.58607112006786, 75.46606597915124, 22.366932595531125, 8.475693070212628, 13.377727588700361, 14.170899110637405, 19.34757839051793, 8.668045331937549, 6.838525634714228, 6.668515217502519, 9.862030597080988, 15.448301734791395, 5.734388839066794, 27.672568490946293, 7.510669319673815, 19.91504288178795, 15.761087881953022, 32.272157670453005, 7.81446915235343, 39.43088800217423, 5.733815792402166, 13.593361095121443, 6.659020423363007, 6.535169650035466, 22.501440127415922, 7.87469325894814, 10.96544199788575, 11.23136060074365, 7.626527555118743, 84.28160731894324, 33.67932856404114, 6.933728240500728, 62.42466408098726, 94.9905308641061, 30.599002264810302, 120.95198939480979, 182.92834918893405, 128.254732279648, 152.09814899890554, 26.3754605047086, 112.97586825924438, 103.73040610253256, 56.59219488052544, 61.19994493643716, 48.77501208341055, 26.337566250529843, 56.42835740013563, 73.64554773961962, 74.89984408643576, 143.47475063941337, 65.04644154251179, 61.26518278288567, 61.23318265616386, 207.11916267679072, 85.46305093618535, 115.03057620870882, 110.0680559232917, 185.09223603291002, 93.04454049623277, 164.42935884123523, 93.39195023098225, 206.12374964630476, 136.91558948330743, 102.75678972990148, 100.20839596863166, 113.90601790551537, 99.12530534478816, 172.81116319194106, 113.91681687355499, 13.43222172459393, 14.480415830860782, 20.650915193955516, 32.52974916912914, 51.31075147313931, 30.650909460549713, 7.736955799936111, 29.157304321351464, 11.967700889874386, 8.122266612139677, 53.61203145050794, 82.78678264902759, 63.55343003598737, 13.10255023182718, 92.71745810780794, 23.228551536381126, 7.083900052183449, 37.83281708613012, 34.40149777665925, 8.079649025514021, 23.124392367403505, 31.70263208748527, 6.154298099192998, 104.6515194543616, 17.94652213249978, 43.14407974542515, 8.874665692806786, 112.78413503562261, 9.987787320749753, 27.437859417962677, 65.91263807305378, 78.25152245518134, 46.68484489689796, 102.98095235294515, 66.16339551343987, 80.20673207440285, 71.80661599514535, 62.972574786769705, 80.42308002284655, 93.27983676580253, 81.51903714841674, 77.1693869783598, 82.12885758457267, 68.15066937231103, 109.06615275727646, 101.22537878926667, 124.2258849460849, 78.93223446511354, 184.86260949340783, 141.92831353538867, 95.62340108732386, 152.34343099479707, 206.12374964630476, 81.96090320890268, 106.48226361690347, 110.0680559232917, 46.3779998748994, 48.111411847812086, 152.34343099479707, 35.3779025128031, 13.188233601096524, 94.25804716414451, 16.041666330367857, 26.577264595138047, 10.51309751539934, 6.647683088997846, 7.444573787025972, 20.524536711159, 22.314304559983157, 6.382093065703784, 10.286788368995603, 13.51584109310864, 7.439048152128614, 10.60389626444498, 106.48226361690347, 9.588899503781096, 30.577160965201877, 10.333162614652563, 8.58929583381872, 10.192566321490398, 10.022060049757984, 21.009285202244598, 35.56527610659245, 26.331955302505094, 6.715202598442258, 14.925509680567409, 13.84070476792765, 64.45885151169169, 48.06307113989638, 101.22537878926667, 38.87074144903928, 109.91295412801291, 27.154959258015833, 56.62843964016277, 33.182173796441674, 172.81116319194106, 164.42935884123523, 27.30510928126925, 66.16339551343987, 77.1693869783598, 94.82098941778726, 206.12374964630476, 43.5828295244906, 141.92831353538867, 124.2258849460849, 207.11916267679072, 184.86260949340783, 93.39195023098225, 182.92834918893405, 110.0680559232917, 136.91558948330743, 113.90601790551537, 105.69118753202206, 117.01618511882334, 154.55557540929365, 99.12530534478816, 185.09223603291002, 21.89960536789158, 7.831374768832079, 9.697362906587673, 10.727661270925315, 72.5145439768892, 5.844421320430559, 14.126764932357982, 9.71746434321661, 10.846906595668564, 14.136638785734355, 104.08972156145366, 8.436594123221616, 37.616596106413624, 13.812927837263569, 7.611734498363837, 7.585407401786815, 42.30255946951285, 6.915260308675218, 42.93513764959684, 21.03288375623602, 7.402875033273642, 9.382990769182864, 8.968847033171931, 109.91295412801291, 12.374378723204359, 16.776073210601936, 5.865446775700359, 5.7756087386306145, 5.7652293962705885, 6.091343951753772, 8.522362181463157, 41.64888319904482, 23.096366695865225, 29.666679244236835, 46.78676258676065, 143.47475063941337, 53.25900412461716, 34.466455513220545, 97.7113414719719, 72.28836879460212, 117.01618511882334, 93.39195023098225, 182.92834918893405, 120.95198939480979, 42.03268011834381, 185.09223603291002, 99.12530534478816, 136.91558948330743, 61.23318265616386, 62.133858190819474, 112.97586825924438, 60.641967699274666, 141.7660923203145, 68.51494843513389, 103.73040610253256, 141.92831353538867, 152.09814899890554, 206.12374964630476, 207.11916267679072, 164.42935884123523, 109.06615275727646, 18.522904659161206, 29.42176640267129, 24.490605362568555, 27.78678897549168, 10.878942588528771, 20.56761747572504, 9.19745223944218, 7.553898532431802, 18.761178317200603, 7.5782473159289125, 7.400541457574234, 36.87496214168612, 11.961355659698956, 26.746816941443182, 102.75678972990148, 8.62418208768153, 13.171643601604268, 17.576507378294245, 46.68484489689796, 7.402875033273642, 8.189462623069508, 7.87469325894814, 5.377908796389841, 12.582119329763817, 15.164946276171277, 11.500440253595388, 9.382990769182864, 47.16125049484727, 32.50630478048208, 7.469910656259622, 26.00417928711181, 73.13245855179525, 29.863188715097643, 97.7113414719719, 81.96090320890268, 207.11916267679072, 60.70361397662865, 31.712040073812634, 90.8500575923852, 143.47475063941337, 61.23318265616386, 42.201197683001375, 96.17574308203878, 102.98095235294515, 94.82098941778726, 57.90676918720433, 164.42935884123523, 51.466552533170024, 113.90601790551537, 106.83668182864314, 120.95198939480979, 95.62340108732386, 68.84386312630375, 109.06615275727646, 136.91558948330743, 206.12374964630476, 172.81116319194106, 112.97586825924438, 93.39195023098225, 15.720785361666685, 69.47919049769291, 29.67646395965501, 36.944558048419424, 82.78678264902759, 10.181179727923745, 7.4595981247030725, 6.5765302677949595, 10.661886101314186, 15.789488435778198, 10.613431190575984, 7.92538986408955, 17.620001045951238, 28.357406451244437, 8.549654997814253, 14.793998142779166, 11.052391303831808, 7.464520001069879, 8.854894602115765, 29.495592462886318, 13.92205029460652, 8.747091311622865, 6.493839799655163, 7.611734498363837, 16.041666330367857, 18.13880362762776, 53.58149389141489, 32.254568042231355, 7.394348114515767, 17.109918694604385, 22.628052669123235, 60.196128945926105, 60.641967699274666, 172.81116319194106, 134.95996095523293, 207.11916267679072, 141.7660923203145, 47.16125049484727, 106.83668182864314, 57.90676918720433, 55.80944755623838, 51.31075147313931, 185.09223603291002, 102.75678972990148, 64.49979304507393, 51.816682412571325, 72.28836879460212, 84.59978550418361, 164.42935884123523, 90.25771475222076, 76.58607112006786, 105.69118753202206, 206.12374964630476, 124.2258849460849, 95.62340108732386, 104.08972156145366, 93.27983676580253, 96.17574308203878, 113.91681687355499, 101.22537878926667, 11.695729557599007, 21.70948224041428, 23.11717289162714, 6.503972756545746, 6.698613069837097, 44.14341412828041, 56.59219488052544, 37.032056921785006, 9.780849601816843, 12.360959084584735, 7.139477366696771, 10.05544392389263, 5.34138390496638, 12.235465880241033, 13.51584109310864, 6.420962092031977, 9.149098708332964, 6.730760647266583, 9.118363568983916, 9.179342681339751, 13.946374378148178, 29.2759846973167, 14.804093369700453, 7.865892685906133, 8.112918912570478, 7.4448452179091476, 12.113096910310816, 12.275585022189398, 7.404433132888845, 10.192566321490398, 64.26405084481546, 141.92831353538867, 136.91558948330743, 40.03324185576334, 99.12530534478816, 152.34343099479707, 94.82098941778726, 79.57788818193096, 106.83668182864314, 54.712369293234815, 92.48165074841492, 32.4404574657987, 31.86170349892214, 164.42935884123523, 105.81705462105549, 48.111411847812086, 110.0680559232917, 143.47475063941337, 63.55343003598737, 101.22537878926667, 92.71745810780794, 68.84386312630375, 115.03057620870882, 206.12374964630476, 82.12885758457267, 89.00281330982882, 152.09814899890554, 207.11916267679072, 154.55557540929365, 104.6515194543616, 20.94321205711091, 5.454768650182171, 40.78361785238617, 12.688728282425803, 19.380105851430447, 47.16125049484727, 17.849213296320873, 23.66176252618988, 9.023158423247091, 13.27817837104144, 11.916261552244881, 8.650494885649145, 7.4448452179091476, 7.048429421642802, 15.789488435778198, 6.928122237308813, 40.57091828818799, 42.93513764959684, 7.4650907592828455, 36.64577741552618, 5.890830277358168, 36.944558048419424, 6.569976893165111, 8.436594123221616, 8.622682732468187, 13.550124379159067, 19.195383713455115, 26.746816941443182, 12.582119329763817, 41.12535545899824, 102.98095235294515, 25.028034862646177, 66.16339551343987, 32.50630478048208, 22.628052669123235, 206.12374964630476, 56.03193405206215, 45.76481676041959, 106.48226361690347, 92.48165074841492, 65.68006351614162, 184.86260949340783, 136.91558948330743, 141.7660923203145, 81.96090320890268, 124.2258849460849, 76.06558293197205, 207.11916267679072, 141.92831353538867, 154.55557540929365, 182.92834918893405, 172.81116319194106, 143.47475063941337, 93.04454049623277, 61.03150094458401, 102.75678972990148, 38.00477514588938, 16.040759340420998, 13.767254043033683, 5.318341795202776, 6.26664245608404, 5.890830277358168, 6.367059817207019, 27.672568490946293, 9.350227205346721, 7.486426838657238, 7.865892685906133, 39.43088800217423, 8.097312027909794, 6.513274146953892, 5.810537054116324, 6.2421123891236014, 28.67070424903333, 12.122773532216058, 67.54270047294301, 6.3105217056341765, 85.46305093618535, 9.862030597080988, 10.93324777486546, 5.543452114742367, 6.933159461497674, 6.928122237308813, 8.475469507872582, 51.31075147313931, 7.87469325894814, 20.964745035847933, 23.88882064779047, 152.09814899890554, 78.93223446511354, 103.73040610253256, 23.40965046760595, 100.20839596863166, 74.22251721520875, 207.11916267679072, 128.254732279648, 61.19994493643716, 96.17574308203878, 73.96489781553282, 59.04854356796981, 58.565420811500246, 154.55557540929365, 60.508485389929604, 206.12374964630476, 43.92577812674917, 73.64554773961962, 172.81116319194106, 102.75678972990148, 105.81705462105549, 71.84992574146625, 113.90601790551537, 184.86260949340783, 120.95198939480979, 143.47475063941337], \"Category\": [\"Default\", \"Default\", \"Default\", \"Default\", \"Default\", \"Default\", \"Default\", \"Default\", \"Default\", \"Default\", \"Default\", \"Default\", \"Default\", \"Default\", \"Default\", \"Default\", \"Default\", \"Default\", \"Default\", \"Default\", \"Default\", \"Default\", \"Default\", \"Default\", \"Default\", \"Default\", \"Default\", \"Default\", \"Default\", \"Default\", \"Topic1\", \"Topic1\", \"Topic1\", \"Topic1\", \"Topic1\", \"Topic1\", \"Topic1\", \"Topic1\", \"Topic1\", \"Topic1\", \"Topic1\", \"Topic1\", \"Topic1\", \"Topic1\", \"Topic1\", \"Topic1\", \"Topic1\", \"Topic1\", \"Topic1\", \"Topic1\", \"Topic1\", \"Topic1\", \"Topic1\", \"Topic1\", \"Topic1\", \"Topic1\", \"Topic1\", \"Topic1\", \"Topic1\", \"Topic1\", \"Topic1\", \"Topic1\", \"Topic1\", \"Topic1\", \"Topic1\", \"Topic1\", \"Topic1\", \"Topic1\", \"Topic1\", \"Topic1\", \"Topic1\", \"Topic1\", \"Topic1\", \"Topic1\", \"Topic1\", \"Topic1\", \"Topic1\", \"Topic1\", \"Topic1\", \"Topic1\", \"Topic1\", \"Topic1\", \"Topic1\", \"Topic1\", \"Topic1\", \"Topic1\", \"Topic1\", \"Topic2\", \"Topic2\", \"Topic2\", \"Topic2\", \"Topic2\", \"Topic2\", \"Topic2\", \"Topic2\", \"Topic2\", \"Topic2\", \"Topic2\", \"Topic2\", \"Topic2\", \"Topic2\", \"Topic2\", \"Topic2\", \"Topic2\", \"Topic2\", \"Topic2\", \"Topic2\", \"Topic2\", \"Topic2\", \"Topic2\", \"Topic2\", \"Topic2\", \"Topic2\", \"Topic2\", \"Topic2\", \"Topic2\", \"Topic2\", \"Topic2\", \"Topic2\", \"Topic2\", \"Topic2\", \"Topic2\", \"Topic2\", \"Topic2\", \"Topic2\", \"Topic2\", \"Topic2\", \"Topic2\", \"Topic2\", \"Topic2\", \"Topic2\", \"Topic2\", \"Topic2\", \"Topic2\", \"Topic2\", \"Topic2\", \"Topic2\", \"Topic2\", \"Topic2\", \"Topic2\", \"Topic2\", \"Topic2\", \"Topic2\", \"Topic2\", \"Topic2\", \"Topic2\", \"Topic2\", \"Topic2\", \"Topic2\", \"Topic2\", \"Topic2\", \"Topic2\", \"Topic2\", \"Topic3\", \"Topic3\", \"Topic3\", \"Topic3\", \"Topic3\", \"Topic3\", \"Topic3\", \"Topic3\", \"Topic3\", \"Topic3\", \"Topic3\", \"Topic3\", \"Topic3\", \"Topic3\", \"Topic3\", \"Topic3\", \"Topic3\", \"Topic3\", \"Topic3\", \"Topic3\", \"Topic3\", \"Topic3\", \"Topic3\", \"Topic3\", \"Topic3\", \"Topic3\", \"Topic3\", \"Topic3\", \"Topic3\", \"Topic3\", \"Topic3\", \"Topic3\", \"Topic3\", \"Topic3\", \"Topic3\", \"Topic3\", \"Topic3\", \"Topic3\", \"Topic3\", \"Topic3\", \"Topic3\", \"Topic3\", \"Topic3\", \"Topic3\", \"Topic3\", \"Topic3\", \"Topic3\", \"Topic3\", \"Topic3\", \"Topic3\", \"Topic3\", \"Topic3\", \"Topic3\", \"Topic3\", \"Topic3\", \"Topic3\", \"Topic3\", \"Topic4\", \"Topic4\", \"Topic4\", \"Topic4\", \"Topic4\", \"Topic4\", \"Topic4\", \"Topic4\", \"Topic4\", \"Topic4\", \"Topic4\", \"Topic4\", \"Topic4\", \"Topic4\", \"Topic4\", \"Topic4\", \"Topic4\", \"Topic4\", \"Topic4\", \"Topic4\", \"Topic4\", \"Topic4\", \"Topic4\", \"Topic4\", \"Topic4\", \"Topic4\", \"Topic4\", \"Topic4\", \"Topic4\", \"Topic4\", \"Topic4\", \"Topic4\", \"Topic4\", \"Topic4\", \"Topic4\", \"Topic4\", \"Topic4\", \"Topic4\", \"Topic4\", \"Topic4\", \"Topic4\", \"Topic4\", \"Topic4\", \"Topic4\", \"Topic4\", \"Topic4\", \"Topic4\", \"Topic4\", \"Topic4\", \"Topic4\", \"Topic4\", \"Topic4\", \"Topic4\", \"Topic4\", \"Topic4\", \"Topic4\", \"Topic4\", \"Topic4\", \"Topic4\", \"Topic4\", \"Topic4\", \"Topic5\", \"Topic5\", \"Topic5\", \"Topic5\", \"Topic5\", \"Topic5\", \"Topic5\", \"Topic5\", \"Topic5\", \"Topic5\", \"Topic5\", \"Topic5\", \"Topic5\", \"Topic5\", \"Topic5\", \"Topic5\", \"Topic5\", \"Topic5\", \"Topic5\", \"Topic5\", \"Topic5\", \"Topic5\", \"Topic5\", \"Topic5\", \"Topic5\", \"Topic5\", \"Topic5\", \"Topic5\", \"Topic5\", \"Topic5\", \"Topic5\", \"Topic5\", \"Topic5\", \"Topic5\", \"Topic5\", \"Topic5\", \"Topic5\", \"Topic5\", \"Topic5\", \"Topic5\", \"Topic5\", \"Topic5\", \"Topic5\", \"Topic5\", \"Topic5\", \"Topic5\", \"Topic5\", \"Topic5\", \"Topic5\", \"Topic5\", \"Topic5\", \"Topic5\", \"Topic5\", \"Topic5\", \"Topic5\", \"Topic5\", \"Topic5\", \"Topic5\", \"Topic5\", \"Topic5\", \"Topic5\", \"Topic6\", \"Topic6\", \"Topic6\", \"Topic6\", \"Topic6\", \"Topic6\", \"Topic6\", \"Topic6\", \"Topic6\", \"Topic6\", \"Topic6\", \"Topic6\", \"Topic6\", \"Topic6\", \"Topic6\", \"Topic6\", \"Topic6\", \"Topic6\", \"Topic6\", \"Topic6\", \"Topic6\", \"Topic6\", \"Topic6\", \"Topic6\", \"Topic6\", \"Topic6\", \"Topic6\", \"Topic6\", \"Topic6\", \"Topic6\", \"Topic6\", \"Topic6\", \"Topic6\", \"Topic6\", \"Topic6\", \"Topic6\", \"Topic6\", \"Topic6\", \"Topic6\", \"Topic6\", \"Topic6\", \"Topic6\", \"Topic6\", \"Topic6\", \"Topic6\", \"Topic6\", \"Topic6\", \"Topic6\", \"Topic6\", \"Topic6\", \"Topic6\", \"Topic6\", \"Topic6\", \"Topic6\", \"Topic6\", \"Topic6\", \"Topic6\", \"Topic6\", \"Topic6\", \"Topic7\", \"Topic7\", \"Topic7\", \"Topic7\", \"Topic7\", \"Topic7\", \"Topic7\", \"Topic7\", \"Topic7\", \"Topic7\", \"Topic7\", \"Topic7\", \"Topic7\", \"Topic7\", \"Topic7\", \"Topic7\", \"Topic7\", \"Topic7\", \"Topic7\", \"Topic7\", \"Topic7\", \"Topic7\", \"Topic7\", \"Topic7\", \"Topic7\", \"Topic7\", \"Topic7\", \"Topic7\", \"Topic7\", \"Topic7\", \"Topic7\", \"Topic7\", \"Topic7\", \"Topic7\", \"Topic7\", \"Topic7\", \"Topic7\", \"Topic7\", \"Topic7\", \"Topic7\", \"Topic7\", \"Topic7\", \"Topic7\", \"Topic7\", \"Topic7\", \"Topic7\", \"Topic7\", \"Topic7\", \"Topic7\", \"Topic7\", \"Topic7\", \"Topic7\", \"Topic7\", \"Topic7\", \"Topic7\", \"Topic7\", \"Topic7\", \"Topic7\", \"Topic7\", \"Topic7\", \"Topic8\", \"Topic8\", \"Topic8\", \"Topic8\", \"Topic8\", \"Topic8\", \"Topic8\", \"Topic8\", \"Topic8\", \"Topic8\", \"Topic8\", \"Topic8\", \"Topic8\", \"Topic8\", \"Topic8\", \"Topic8\", \"Topic8\", \"Topic8\", \"Topic8\", \"Topic8\", \"Topic8\", \"Topic8\", \"Topic8\", \"Topic8\", \"Topic8\", \"Topic8\", \"Topic8\", \"Topic8\", \"Topic8\", \"Topic8\", \"Topic8\", \"Topic8\", \"Topic8\", \"Topic8\", \"Topic8\", \"Topic8\", \"Topic8\", \"Topic8\", \"Topic8\", \"Topic8\", \"Topic8\", \"Topic8\", \"Topic8\", \"Topic8\", \"Topic8\", \"Topic8\", \"Topic8\", \"Topic8\", \"Topic8\", \"Topic8\", \"Topic8\", \"Topic8\", \"Topic8\", \"Topic8\", \"Topic8\", \"Topic8\", \"Topic8\", \"Topic8\", \"Topic8\", \"Topic8\", \"Topic9\", \"Topic9\", \"Topic9\", \"Topic9\", \"Topic9\", \"Topic9\", \"Topic9\", \"Topic9\", \"Topic9\", \"Topic9\", \"Topic9\", \"Topic9\", \"Topic9\", \"Topic9\", \"Topic9\", \"Topic9\", \"Topic9\", \"Topic9\", \"Topic9\", \"Topic9\", \"Topic9\", \"Topic9\", \"Topic9\", \"Topic9\", \"Topic9\", \"Topic9\", \"Topic9\", \"Topic9\", \"Topic9\", \"Topic9\", \"Topic9\", \"Topic9\", \"Topic9\", \"Topic9\", \"Topic9\", \"Topic9\", \"Topic9\", \"Topic9\", \"Topic9\", \"Topic9\", \"Topic9\", \"Topic9\", \"Topic9\", \"Topic9\", \"Topic9\", \"Topic9\", \"Topic9\", \"Topic9\", \"Topic9\", \"Topic9\", \"Topic9\", \"Topic9\", \"Topic9\", \"Topic9\", \"Topic9\", \"Topic9\", \"Topic10\", \"Topic10\", \"Topic10\", \"Topic10\", \"Topic10\", \"Topic10\", \"Topic10\", \"Topic10\", \"Topic10\", \"Topic10\", \"Topic10\", \"Topic10\", \"Topic10\", \"Topic10\", \"Topic10\", \"Topic10\", \"Topic10\", \"Topic10\", \"Topic10\", \"Topic10\", \"Topic10\", \"Topic10\", \"Topic10\", \"Topic10\", \"Topic10\", \"Topic10\", \"Topic10\", \"Topic10\", \"Topic10\", \"Topic10\", \"Topic10\", \"Topic10\", \"Topic10\", \"Topic10\", \"Topic10\", \"Topic10\", \"Topic10\", \"Topic10\", \"Topic10\", \"Topic10\", \"Topic10\", \"Topic10\", \"Topic10\", \"Topic10\", \"Topic10\", \"Topic10\", \"Topic10\", \"Topic10\", \"Topic10\", \"Topic10\", \"Topic10\", \"Topic10\", \"Topic10\", \"Topic10\", \"Topic10\", \"Topic10\", \"Topic10\"], \"logprob\": [30.0, 29.0, 28.0, 27.0, 26.0, 25.0, 24.0, 23.0, 22.0, 21.0, 20.0, 19.0, 18.0, 17.0, 16.0, 15.0, 14.0, 13.0, 12.0, 11.0, 10.0, 9.0, 8.0, 7.0, 6.0, 5.0, 4.0, 3.0, 2.0, 1.0, -3.9793, -5.3801, -6.236, -5.9257, -4.0506, -7.1157, -5.6581, -5.8616, -4.323, -5.2933, -5.5114, -7.2712, -6.5788, -6.724, -5.9538, -6.4252, -7.1253, -7.1432, -5.3694, -6.8738, -6.2948, -5.9618, -7.1788, -4.1113, -5.9727, -6.2862, -6.8786, -6.1347, -5.4473, -3.9933, -5.1058, -5.8532, -5.5959, -4.9128, -5.5511, -5.3779, -5.9327, -4.4818, -5.0111, -5.7317, -5.3411, -5.417, -5.1545, -4.8695, -5.5708, -5.2945, -5.0411, -5.3602, -5.215, -5.3785, -5.384, -5.2637, -5.4298, -5.1509, -5.1278, -5.4218, -5.4616, -5.5957, -6.6599, -6.2258, -6.187, -5.9645, -6.8515, -7.1122, -7.1465, -6.7569, -6.3414, -7.3434, -5.7858, -7.1012, -6.1421, -6.3818, -5.6792, -7.0983, -5.488, -7.4465, -6.5945, -7.3083, -7.335, -6.1015, -7.1567, -6.831, -6.8143, -7.2021, -4.8004, -5.7241, -7.3057, -5.1236, -4.7114, -5.847, -4.5296, -4.1439, -4.4866, -4.332, -6.0124, -4.7156, -4.7979, -5.3746, -5.315, -5.5591, -6.0664, -5.5166, -5.3439, -5.356, -4.9368, -5.4588, -5.4996, -5.5034, -4.8096, -5.3227, -5.1769, -5.2114, -4.9865, -5.3164, -5.0774, -5.3594, -5.1006, -5.24, -5.3705, -5.4024, -5.3909, -5.4196, -5.3961, -4.1402, -6.3443, -6.2718, -5.9195, -5.4844, -5.0698, -5.5936, -6.9781, -5.6528, -6.5713, -6.9684, -5.103, -4.6707, -4.9638, -6.5432, -4.5984, -5.9857, -7.1741, -5.5569, -5.6637, -7.1264, -6.0764, -5.7633, -7.4034, -4.574, -6.3412, -5.4701, -7.0581, -4.5267, -6.958, -5.9478, -5.0945, -4.9989, -5.4953, -4.7979, -5.2801, -5.152, -5.2417, -5.373, -5.193, -5.088, -5.1961, -5.236, -5.2119, -5.3538, -5.0882, -5.1512, -5.0765, -5.2907, -4.9812, -5.0884, -5.2374, -5.0872, -5.0963, -5.3145, -5.2653, -5.2833, -4.7552, -4.7256, -3.6848, -5.1827, -6.232, -4.3074, -6.0854, -5.6148, -6.5447, -7.0438, -6.9312, -5.9564, -5.8736, -7.1471, -6.676, -6.4052, -7.0182, -6.6837, -4.3777, -6.7988, -5.6484, -6.7361, -6.9641, -6.7983, -6.8239, -6.0909, -5.5688, -5.8703, -7.2826, -6.4863, -6.5623, -5.0397, -5.3323, -4.6223, -5.5438, -4.6803, -5.9268, -5.3229, -5.7728, -4.4503, -4.5854, -5.958, -5.2857, -5.1752, -5.0716, -4.538, -5.6836, -5.0422, -5.1154, -4.8833, -4.9927, -5.3346, -5.0535, -5.2792, -5.1961, -5.2794, -5.3117, -5.3688, -5.3246, -5.4045, -5.3442, -5.2044, -6.2792, -6.2103, -6.1605, -4.2533, -6.8097, -5.9366, -6.3346, -6.2459, -5.983, -3.9893, -6.5508, -5.0916, -6.1526, -6.7682, -6.8069, -5.1011, -6.9232, -5.1224, -5.8518, -6.9033, -6.6701, -6.7228, -4.218, -6.4139, -6.1185, -7.1735, -7.2043, -7.2367, -7.1841, -6.8498, -5.3039, -5.901, -5.6689, -5.2491, -4.2346, -5.1682, -5.5669, -4.7591, -5.0244, -4.6736, -4.9091, -4.5346, -4.8181, -5.5158, -4.6546, -5.0821, -4.9345, -5.363, -5.3723, -5.1251, -5.4141, -5.099, -5.3882, -5.2541, -5.1566, -5.1717, -5.1207, -5.1652, -5.2207, -5.3677, -4.9151, -4.9577, -5.2596, -5.1601, -6.1066, -5.5105, -6.5283, -6.7293, -5.8297, -6.7686, -6.794, -5.2044, -6.3543, -5.5707, -4.2443, -6.7395, -6.3179, -6.0345, -5.0735, -6.9421, -6.8518, -6.894, -7.3231, -6.5214, -6.3381, -6.628, -6.8345, -5.2225, -5.6044, -7.0949, -5.8745, -4.9436, -5.7708, -4.724, -4.9095, -4.1312, -5.1855, -5.7268, -4.8834, -4.5203, -5.2104, -5.5444, -4.9732, -4.9265, -4.9994, -5.3383, -4.6644, -5.4389, -4.9632, -5.0416, -5.0516, -5.1933, -5.3478, -5.1868, -5.1163, -4.9821, -5.1564, -5.2733, -5.3162, -5.6415, -4.2397, -5.1518, -4.9742, -4.2296, -6.3785, -6.7247, -6.8711, -6.3963, -6.0794, -6.4891, -6.7999, -6.0104, -5.5381, -6.7388, -6.1948, -6.5002, -6.9051, -6.762, -5.5726, -6.3281, -6.8078, -7.1124, -6.9642, -6.2217, -6.1166, -5.0385, -5.5474, -7.0233, -6.1948, -5.9169, -4.9876, -5.0476, -4.0945, -4.3524, -4.037, -4.4306, -5.4034, -4.7796, -5.2663, -5.2967, -5.3635, -4.4612, -4.8852, -5.2436, -5.4087, -5.1977, -5.1487, -4.7581, -5.1172, -5.2133, -5.0411, -4.7135, -5.0357, -5.1861, -5.1912, -5.2354, -5.2438, -5.2187, -5.2525, -5.9318, -5.3752, -5.3336, -6.6269, -6.6015, -4.8401, -4.6138, -5.0915, -6.4354, -6.2053, -6.7667, -6.4341, -7.0924, -6.2858, -6.1875, -6.9347, -6.6674, -7.0005, -6.7022, -6.7144, -6.3097, -5.5684, -6.2514, -6.89, -6.8703, -6.9967, -6.5118, -6.5139, -7.0588, -6.7456, -4.917, -4.1466, -4.2801, -5.4379, -4.6162, -4.2837, -4.8099, -5.0028, -4.7818, -5.3073, -4.9294, -5.7239, -5.7591, -4.5784, -4.9396, -5.4945, -5.0032, -4.8789, -5.375, -5.1352, -5.2304, -5.4143, -5.1765, -4.9196, -5.3443, -5.3645, -5.2451, -5.1962, -5.346, -5.3939, -4.7236, -6.3964, -4.4108, -5.6575, -5.3282, -4.4628, -5.546, -5.274, -6.2512, -5.8862, -6.0143, -6.3467, -6.5437, -6.6594, -5.8707, -6.6986, -4.9458, -4.8964, -6.6521, -5.0885, -6.9189, -5.1031, -6.8638, -6.6184, -6.6036, -6.1727, -5.8588, -5.5355, -6.2896, -5.1657, -4.394, -5.679, -4.8253, -5.4508, -5.7737, -3.9177, -5.152, -5.3076, -4.7061, -4.8211, -5.0776, -4.4122, -4.624, -4.6182, -4.9711, -4.8264, -5.188, -4.7542, -4.9563, -4.9697, -4.9374, -4.97, -5.0817, -5.179, -5.29, -5.2853, -3.9939, -5.0056, -5.5309, -6.7425, -6.6774, -6.8657, -6.8044, -5.3422, -6.4433, -6.7017, -6.6565, -5.0595, -6.6562, -6.9051, -7.0327, -6.9752, -5.4768, -6.3698, -4.6563, -7.0327, -4.4334, -6.6602, -6.5572, -7.2398, -7.0203, -7.0343, -6.8429, -5.0663, -6.9699, -5.999, -5.8693, -4.1851, -4.8897, -4.6962, -5.9777, -4.7491, -5.0771, -4.2828, -4.657, -5.2328, -4.9556, -5.2076, -5.3727, -5.385, -4.7982, -5.3875, -4.6604, -5.6005, -5.3394, -4.9195, -5.2028, -5.2318, -5.4322, -5.3422, -5.2276, -5.3494, -5.3377], \"loglift\": [30.0, 29.0, 28.0, 27.0, 26.0, 25.0, 24.0, 23.0, 22.0, 21.0, 20.0, 19.0, 18.0, 17.0, 16.0, 15.0, 14.0, 13.0, 12.0, 11.0, 10.0, 9.0, 8.0, 7.0, 6.0, 5.0, 4.0, 3.0, 2.0, 1.0, 1.485, 1.3775, 1.3235, 1.2871, 1.2431, 1.2337, 1.2299, 1.2149, 1.214, 1.1983, 1.1751, 1.1678, 1.1619, 1.1463, 1.1445, 1.1286, 1.1205, 1.1192, 1.1146, 1.1104, 1.0873, 1.0572, 1.0501, 1.0468, 1.0344, 1.0197, 1.0097, 1.005, 0.9983, 0.9858, 0.9815, 0.9644, 0.9444, 0.8378, 0.8527, 0.8121, 0.9114, 0.4961, 0.6406, 0.85, 0.6728, 0.6757, 0.5415, 0.375, 0.7092, 0.4416, 0.133, 0.4302, 0.2385, 0.4298, 0.4035, 0.1726, 0.4618, -0.1044, -0.2576, 0.4385, 0.4134, 1.4955, 1.4016, 1.3793, 1.3605, 1.2716, 1.1876, 1.1639, 1.1548, 1.1531, 1.1198, 1.1088, 1.0924, 1.0811, 1.0651, 1.0594, 1.0452, 1.0444, 1.0361, 1.0058, 0.9946, 0.9944, 0.9864, 0.9836, 0.9783, 0.973, 0.9657, 0.9649, 0.9641, 0.9577, 0.9566, 0.9411, 0.9335, 0.9307, 0.8737, 0.8457, 0.8581, 0.8422, 0.9139, 0.756, 0.759, 0.7883, 0.7695, 0.7523, 0.8613, 0.6491, 0.5555, 0.5265, 0.2958, 0.5648, 0.5839, 0.5806, 0.0558, 0.4279, 0.2766, 0.2862, -0.0087, 0.3492, 0.0189, 0.3025, -0.2304, 0.0393, 0.1959, 0.189, 0.0725, 0.1827, -0.3496, 1.323, 1.2567, 1.2541, 1.2514, 1.2322, 1.191, 1.1824, 1.1746, 1.1731, 1.1452, 1.1357, 1.1139, 1.1118, 1.083, 1.0827, 1.0708, 1.0676, 1.0668, 1.0086, 0.9969, 0.9829, 0.9814, 0.979, 0.9782, 0.9741, 0.9701, 0.964, 0.9574, 0.9465, 0.9393, 0.939, 0.9158, 0.8398, 0.86, 0.7662, 0.7264, 0.6621, 0.683, 0.683, 0.6184, 0.5751, 0.6018, 0.6167, 0.5785, 0.6231, 0.4186, 0.4301, 0.3001, 0.5394, -0.0021, 0.1549, 0.4009, 0.0853, -0.226, 0.478, 0.2654, 0.2143, 1.6067, 1.5996, 1.4877, 1.4499, 1.3874, 1.3453, 1.3381, 1.3038, 1.3013, 1.2607, 1.26, 1.2207, 1.2198, 1.1981, 1.1919, 1.1896, 1.1738, 1.1538, 1.153, 1.1393, 1.13, 1.1273, 1.0841, 1.0787, 1.07, 1.0628, 1.0586, 1.0576, 1.0117, 1.0093, 1.0087, 0.993, 0.9939, 0.959, 0.9947, 0.8187, 0.9703, 0.8393, 0.9239, 0.5962, 0.5108, 0.9336, 0.7209, 0.6774, 0.5751, 0.3322, 0.7404, 0.2012, 0.2612, -0.0179, -0.0137, 0.3273, -0.0639, 0.2184, 0.0832, 0.1839, 0.2265, 0.0676, -0.1665, 0.1979, -0.3664, 1.9078, 1.8614, 1.7166, 1.6654, 1.6616, 1.6235, 1.6141, 1.5901, 1.5689, 1.5669, 1.5641, 1.5153, 1.4797, 1.4205, 1.4008, 1.3655, 1.3528, 1.3417, 1.3166, 1.3008, 1.2935, 1.2897, 1.2821, 1.2811, 1.2692, 1.2603, 1.2561, 1.2407, 1.2102, 1.2078, 1.2062, 1.1656, 1.1581, 1.1398, 1.104, 0.998, 1.0553, 1.0918, 0.8576, 0.8936, 0.7627, 0.7528, 0.455, 0.5852, 0.9444, 0.3233, 0.5202, 0.3448, 0.721, 0.6971, 0.3464, 0.6796, 0.1455, 0.5834, 0.3028, 0.0868, 0.0025, -0.2505, -0.2998, -0.1245, 0.139, 2.3646, 1.8593, 1.7408, 1.7141, 1.7053, 1.6645, 1.4515, 1.4473, 1.4372, 1.4048, 1.4031, 1.3868, 1.3627, 1.3416, 1.322, 1.3046, 1.3027, 1.2976, 1.2818, 1.2548, 1.244, 1.241, 1.1932, 1.145, 1.1416, 1.1283, 1.1253, 1.1226, 1.1129, 1.0929, 1.066, 0.9629, 1.0312, 0.8926, 0.8829, 0.7342, 0.9072, 1.0152, 0.8061, 0.7123, 0.8736, 0.9119, 0.6593, 0.6376, 0.6473, 0.8016, 0.4318, 0.8189, 0.5001, 0.4858, 0.3517, 0.445, 0.619, 0.3199, 0.1631, -0.1119, -0.1099, 0.1982, 0.3457, 1.8022, 1.718, 1.6565, 1.6151, 1.5528, 1.4997, 1.4645, 1.4441, 1.4357, 1.36, 1.3475, 1.3287, 1.3192, 1.3157, 1.314, 1.3096, 1.2959, 1.2834, 1.2558, 1.2418, 1.2371, 1.2222, 1.2155, 1.2048, 1.2018, 1.1841, 1.179, 1.1776, 1.1747, 1.1642, 1.1626, 1.1134, 1.0461, 0.952, 0.9414, 0.8284, 0.8139, 0.9418, 0.7478, 0.8736, 0.88, 0.8973, 0.5166, 0.6811, 0.7884, 0.8422, 0.7204, 0.612, 0.3381, 0.5788, 0.647, 0.4971, 0.1567, 0.3409, 0.4522, 0.3623, 0.4277, 0.3887, 0.2445, 0.3288, 1.8077, 1.7458, 1.7245, 1.6994, 1.6953, 1.5711, 1.549, 1.4954, 1.4829, 1.4789, 1.4664, 1.4565, 1.4308, 1.4086, 1.4074, 1.4044, 1.3177, 1.2915, 1.2862, 1.2673, 1.2538, 1.2535, 1.2524, 1.2461, 1.2349, 1.1945, 1.1926, 1.1772, 1.1378, 1.1315, 1.1187, 1.0968, 0.9992, 1.071, 0.9861, 0.8888, 0.8368, 0.8192, 0.7456, 0.8893, 0.7423, 0.9953, 0.9782, 0.5178, 0.5974, 0.8307, 0.4944, 0.3536, 0.6718, 0.4461, 0.4387, 0.5526, 0.277, -0.0494, 0.4461, 0.3455, -0.0709, -0.3308, -0.1878, 0.1542, 2.4333, 2.1058, 2.0796, 2.0005, 1.9063, 1.8823, 1.7707, 1.7608, 1.7477, 1.7263, 1.7065, 1.6944, 1.6475, 1.5865, 1.5686, 1.5645, 1.5499, 1.5426, 1.5363, 1.5089, 1.5064, 1.4862, 1.4524, 1.4477, 1.4407, 1.4196, 1.3852, 1.3768, 1.3768, 1.3164, 1.1702, 1.2997, 1.1813, 1.2664, 1.3058, 0.9525, 1.0208, 1.0676, 0.8246, 0.8505, 0.9363, 0.5669, 0.6553, 0.6263, 0.8214, 0.5502, 0.6791, 0.1112, 0.2871, 0.1885, 0.0522, 0.0765, 0.1508, 0.4866, 0.7973, 0.2811, 2.567, 2.418, 2.0455, 1.785, 1.686, 1.5596, 1.5432, 1.536, 1.52, 1.4839, 1.4796, 1.4646, 1.451, 1.4198, 1.4064, 1.3922, 1.366, 1.3338, 1.3296, 1.3238, 1.3172, 1.2498, 1.2497, 1.2463, 1.2421, 1.2288, 1.2186, 1.1945, 1.1651, 1.1569, 1.156, 0.9891, 0.9404, 0.8607, 1.0678, 0.8424, 0.8145, 0.5826, 0.6876, 0.8518, 0.6769, 0.6875, 0.7476, 0.7435, 0.3599, 0.7084, 0.2099, 0.8157, 0.56, 0.127, 0.3635, 0.3052, 0.4919, 0.1212, -0.2485, 0.0539, -0.1052]}, \"token.table\": {\"Topic\": [2, 5, 6, 1, 2, 3, 4, 5, 6, 7, 8, 9, 10, 1, 2, 3, 4, 5, 6, 7, 8, 9, 10, 1, 2, 3, 4, 5, 6, 7, 8, 9, 10, 1, 2, 3, 4, 5, 6, 7, 8, 9, 10, 1, 2, 3, 4, 5, 6, 8, 9, 1, 2, 3, 4, 5, 6, 7, 8, 9, 10, 1, 2, 3, 4, 6, 7, 9, 2, 3, 4, 5, 8, 9, 1, 2, 3, 4, 5, 6, 7, 8, 9, 10, 1, 2, 3, 4, 5, 6, 7, 8, 9, 10, 1, 2, 3, 4, 5, 8, 9, 4, 5, 6, 8, 2, 3, 6, 2, 3, 4, 5, 8, 1, 2, 3, 4, 5, 6, 7, 8, 9, 10, 1, 3, 8, 1, 2, 3, 4, 5, 1, 2, 3, 4, 5, 6, 8, 9, 1, 2, 4, 1, 2, 3, 4, 5, 6, 7, 8, 9, 2, 4, 5, 8, 1, 2, 3, 4, 5, 6, 8, 9, 10, 1, 2, 3, 4, 5, 7, 8, 9, 10, 1, 2, 3, 4, 5, 6, 7, 8, 9, 10, 3, 4, 5, 7, 1, 2, 3, 4, 5, 6, 7, 8, 9, 10, 1, 2, 4, 6, 7, 8, 1, 2, 3, 4, 5, 6, 7, 8, 9, 10, 1, 2, 5, 10, 2, 3, 4, 5, 2, 5, 1, 2, 3, 4, 5, 6, 7, 8, 1, 2, 3, 4, 5, 6, 7, 1, 2, 3, 4, 5, 6, 7, 8, 9, 10, 1, 2, 3, 4, 5, 6, 7, 8, 9, 10, 1, 2, 3, 4, 5, 6, 8, 9, 10, 1, 2, 3, 4, 5, 6, 7, 8, 9, 10, 1, 2, 3, 6, 2, 3, 5, 8, 1, 2, 3, 4, 5, 8, 9, 1, 2, 3, 4, 5, 6, 7, 8, 10, 1, 3, 5, 1, 2, 3, 4, 5, 6, 7, 8, 9, 1, 2, 3, 4, 5, 6, 7, 8, 9, 10, 1, 2, 3, 4, 5, 6, 7, 8, 9, 1, 2, 3, 4, 5, 6, 7, 8, 9, 10, 1, 2, 3, 4, 5, 6, 7, 8, 9, 1, 2, 3, 4, 5, 6, 7, 8, 9, 10, 2, 4, 6, 8, 2, 3, 4, 5, 6, 7, 8, 9, 1, 2, 3, 4, 8, 10, 1, 2, 3, 4, 5, 6, 7, 8, 2, 5, 6, 1, 2, 3, 4, 5, 6, 7, 8, 9, 10, 1, 2, 3, 4, 5, 6, 8, 9, 4, 5, 6, 9, 1, 2, 3, 6, 7, 8, 10, 1, 2, 3, 4, 5, 6, 7, 8, 9, 10, 1, 2, 6, 9, 10, 1, 2, 5, 6, 7, 1, 2, 3, 5, 9, 1, 3, 4, 6, 8, 1, 3, 4, 8, 9, 1, 2, 3, 4, 5, 6, 7, 8, 9, 10, 1, 2, 3, 6, 7, 8, 9, 10, 1, 2, 10, 1, 2, 3, 4, 5, 6, 7, 8, 10, 1, 2, 3, 4, 5, 7, 8, 1, 2, 3, 4, 5, 6, 7, 8, 10, 1, 2, 3, 4, 5, 6, 7, 8, 9, 10, 1, 2, 3, 8, 10, 3, 4, 5, 6, 9, 1, 2, 3, 4, 5, 6, 7, 8, 9, 10, 1, 2, 3, 4, 6, 7, 1, 2, 3, 4, 5, 6, 7, 8, 9, 10, 3, 6, 9, 2, 3, 6, 1, 2, 4, 6, 8, 9, 10, 1, 2, 3, 4, 5, 6, 7, 8, 9, 10, 1, 2, 3, 4, 5, 6, 7, 8, 9, 10, 1, 2, 3, 4, 5, 6, 7, 8, 9, 10, 1, 2, 3, 6, 9, 3, 5, 6, 9, 1, 2, 4, 5, 6, 8, 4, 5, 1, 2, 3, 4, 5, 6, 8, 9, 1, 2, 3, 4, 5, 6, 7, 8, 9, 10, 1, 2, 3, 4, 5, 6, 7, 8, 9, 10, 1, 2, 3, 4, 5, 6, 7, 8, 9, 10, 1, 2, 4, 5, 8, 9, 1, 2, 3, 4, 5, 6, 7, 8, 9, 10, 1, 2, 4, 5, 8, 10, 1, 2, 3, 4, 5, 6, 8, 1, 2, 3, 4, 5, 6, 7, 8, 9, 10, 2, 4, 7, 9, 1, 2, 3, 4, 6, 7, 8, 9, 3, 4, 8, 1, 2, 3, 4, 5, 6, 7, 8, 9, 10, 1, 2, 3, 4, 5, 6, 7, 8, 9, 10, 1, 2, 3, 4, 5, 6, 7, 8, 9, 10, 1, 2, 3, 4, 5, 6, 7, 8, 9, 10, 1, 2, 5, 1, 2, 3, 4, 5, 7, 8, 1, 2, 3, 4, 5, 6, 7, 8, 9, 10, 1, 2, 3, 4, 5, 6, 7, 8, 9, 10, 1, 2, 3, 4, 5, 6, 7, 8, 9, 10, 2, 5, 6, 9, 1, 2, 3, 4, 5, 6, 7, 8, 9, 10, 2, 3, 5, 1, 2, 5, 7, 8, 2, 3, 6, 8, 1, 2, 3, 4, 5, 6, 7, 8, 9, 2, 4, 5, 8, 2, 3, 5, 1, 2, 5, 7, 9, 1, 2, 3, 4, 5, 6, 7, 8, 9, 10, 1, 2, 3, 4, 5, 6, 8, 9, 1, 2, 3, 4, 5, 10, 1, 2, 3, 4, 5, 6, 7, 8, 9, 1, 2, 3, 4, 5, 6, 7, 8, 9, 10, 1, 2, 3, 4, 7, 8, 1, 2, 3, 5, 6, 7, 8, 9, 10, 1, 2, 3, 4, 5, 6, 7, 8, 1, 2, 3, 4, 5, 6, 7, 8, 9, 1, 2, 3, 4, 5, 6, 7, 8, 9, 2, 3, 4, 2, 4, 5, 6, 1, 2, 3, 4, 5, 6, 7, 8, 9, 1, 2, 3, 4, 5, 6, 7, 8, 9, 10, 1, 2, 3, 4, 5, 6, 7, 8, 9, 10, 1, 2, 4, 5, 6, 7, 8, 9, 2, 6, 10, 1, 2, 3, 4, 8, 9, 1, 2, 3, 4, 5, 6, 7, 8, 9, 1, 2, 3, 6, 8, 9, 1, 2, 3, 4, 5, 6, 7, 9, 1, 2, 3, 4, 5, 6, 7, 10, 1, 2, 3, 4, 5, 6, 7, 8, 9, 10, 1, 2, 3, 4, 5, 6, 7, 8, 9, 10, 1, 2, 3, 4, 5, 7, 2, 4, 5, 6, 7, 8, 1, 2, 3, 4, 5, 6, 7, 8, 9, 10, 1, 3, 4, 5, 6, 7, 10, 2, 5, 3, 5, 7, 8, 1, 2, 3, 4, 8, 1, 2, 3, 4, 5, 6, 7, 8, 9, 10, 1, 2, 3, 5, 6, 10, 1, 2, 3, 4, 5, 6, 7, 9, 1, 2, 3, 4, 5, 6, 7, 8, 9, 10, 1, 3, 5, 7, 10, 2, 3, 7, 8, 1, 2, 3, 4, 5, 6, 7, 8, 9, 10, 1, 2, 4, 1, 2, 3, 4, 5, 6, 7, 8, 10, 2, 4, 5, 1, 2, 3, 5, 6, 8, 1, 2, 3, 4, 5, 6, 7, 8, 9, 10, 1, 2, 3, 4, 5, 6, 9, 1, 2, 3, 4, 5, 6, 7, 8, 9, 10, 1, 2, 3, 4, 5, 6, 8, 9, 1, 4, 5, 1, 2, 3, 4, 5, 7, 8, 9, 1, 2, 3, 4, 5, 6, 7, 8, 9, 2, 3, 5, 8, 1, 2, 3, 4, 5, 6, 7, 8, 9, 10, 1, 2, 3, 4, 5, 6, 8, 9, 1, 2, 8, 9, 1, 2, 3, 5, 7, 8, 10, 3, 5, 8, 1, 2, 3, 4, 5, 6, 7, 8, 9, 10, 1, 2, 5, 6, 7, 8, 9, 2, 3, 4, 5, 6, 8, 9, 1, 2, 3, 4, 5, 6, 7, 8, 9, 4, 5, 7, 8, 9, 1, 2, 7, 10, 1, 2, 3, 4, 5, 6, 7, 8, 9, 1, 2, 1, 2, 3, 4, 5, 6, 7, 10, 1, 2, 3, 4, 5, 6, 7, 8, 9, 1, 2, 3, 4, 5, 6, 7, 8, 9, 10, 2, 3, 4, 5, 6, 7, 8, 9, 1, 2, 3, 4, 5, 7, 8, 9, 1, 2, 3, 4, 5, 6, 7, 9, 2, 4, 5, 8, 1, 2, 3, 4, 5, 6, 7, 8, 9, 10, 1, 2, 3, 4, 7, 1, 2, 3, 4, 5, 9, 10, 1, 2, 3, 4, 5, 6, 7, 8, 9, 10, 1, 2, 3, 4, 5, 6, 7, 8, 9, 10, 1, 2, 3, 4, 5, 6, 7, 8, 9, 10, 2, 3, 4, 5, 6, 7, 8, 1, 2, 3, 4, 5, 6, 7, 8, 9, 10, 1, 2, 3, 4, 5, 6, 10, 1, 2, 3, 4, 5, 6, 7, 8, 9, 10, 1, 2, 3, 4, 5, 6, 7, 8, 9, 10, 1, 2, 3, 4, 5, 6, 7, 8, 9, 1, 2, 3, 4, 5, 7, 8, 10, 1, 2, 3, 4, 5, 6, 7, 8, 9, 10, 1, 2, 3, 4, 6, 8, 1, 2, 3, 4, 5, 6, 7, 8, 9, 10, 1, 2, 3, 4, 5, 8, 9, 10, 1, 2, 3, 4, 5, 6, 7, 8, 9, 10, 1, 3, 4, 5, 7, 8, 9, 10, 3, 4, 8, 1, 2, 3, 4, 5, 6, 7, 8, 9, 10, 1, 2, 3, 4, 5, 6, 8, 9, 1, 2, 3, 4, 8, 1, 2, 3, 4, 5, 6, 7, 8, 9, 10, 1, 2, 3, 4, 5, 6, 7, 8, 9, 10, 1, 2, 3, 4, 5, 6, 7, 8, 9, 10, 1, 2, 3, 4, 5, 6, 7, 8, 9, 2, 6, 7, 9, 10, 1, 2, 4, 5, 6, 7, 8, 9, 3, 4, 5, 6, 1, 2, 3, 4, 5, 6, 7, 8, 9, 1, 2, 3, 4, 8, 9, 1, 2, 4, 5, 8, 9, 1, 2, 3, 4, 5, 6, 8, 1, 2, 3, 4, 6, 7, 8, 9, 1, 2, 3, 4, 5, 6, 7, 8, 9, 10, 1, 2, 3, 4, 5, 6, 7, 8, 9, 10, 1, 2, 3, 4, 5, 6, 7, 8, 9, 10, 1, 2, 3, 4, 5, 6, 7, 8, 9, 10, 1, 2, 3, 4, 5, 6, 7, 8, 9, 10, 1, 2, 3, 4, 5, 6, 7, 8, 9, 10, 1, 3, 6, 7, 8, 9, 1, 2, 4, 5, 6, 7, 1, 2, 4, 10, 1, 2, 3, 4, 5, 6, 7, 8, 9, 10, 2, 3, 4, 7, 8, 9, 1, 2, 3, 4, 5, 6, 7, 8, 9, 10, 1, 2, 3, 4, 5, 6, 7, 8, 9, 10, 1, 2, 3, 4, 5, 6, 7, 1, 2, 1, 2, 3, 4, 6, 7, 1, 2, 3, 4, 5, 6, 7, 8, 10, 1, 2, 3, 4, 5, 6, 7, 8, 1, 2, 3, 7, 8, 2, 5, 9, 1, 2, 4, 7, 8, 9, 1, 2, 3, 4, 5, 7, 1, 2, 3, 4, 5, 6, 7, 8, 10, 1, 2, 7, 9, 1, 2, 3, 4, 5, 6, 7, 8, 9, 10, 1, 2, 3, 4, 5, 6, 7, 9, 10, 1, 2, 3, 4, 7, 8, 9, 1, 3, 5, 8, 9, 1, 2, 3, 4, 5, 6, 7, 8, 9, 10, 1, 2, 3, 4, 7, 9, 1, 2, 3, 5, 8, 9, 1, 3, 7, 1, 2, 3, 4, 5, 6, 7, 8, 9, 1, 2, 3, 4, 5, 6, 7, 8, 9, 10, 1, 2, 3, 4, 5, 6, 7, 9, 1, 2, 3, 4, 5, 6, 8, 9, 10, 1, 2, 3, 4, 5, 6, 7, 8, 9, 1, 3, 4, 5, 6, 7, 8, 9, 1, 2, 3, 4, 5, 6, 7, 8, 9, 10, 1, 2, 3, 4, 5, 6, 7, 8, 9, 10, 1, 2, 3, 4, 5, 6, 7, 8, 9, 1, 2, 3, 5, 6, 7, 9, 10, 1, 2, 3, 5, 6, 10, 1, 2, 3, 4, 5, 6, 7, 8, 9, 10, 1, 2, 3, 6, 1, 2, 3, 6, 7, 1, 2, 3, 4, 5, 6, 7, 8, 9, 10, 1, 2, 3, 4, 5, 6, 7, 8, 9, 10, 1, 2, 3, 4, 5, 6, 7, 8, 9, 10, 1, 9, 1, 2, 3, 4, 5, 6, 7, 8, 9, 10, 1, 2, 3, 4, 5, 6, 7, 8, 10, 1, 2, 3, 4, 5, 6, 7, 8, 9, 10, 1, 2, 3, 4, 5, 6, 7, 8, 9, 10, 2, 4, 5, 8, 9, 1, 2, 3, 4, 5, 6, 7, 8, 1, 3, 4, 7, 1, 4, 6, 7, 8, 9, 1, 4, 5, 7, 8, 9, 2, 5, 6, 8, 10, 1, 2, 3, 4, 6, 7, 1, 2, 3, 4, 6, 7, 8, 9, 2, 6, 7, 1, 2, 3, 4, 7, 8, 9, 1, 2, 3, 4, 5, 6, 7, 8, 9, 10, 1, 2, 3, 4, 5, 6, 7, 8, 9, 10, 1, 2, 3, 4, 5, 6, 7, 8, 10, 1, 2, 3, 4, 5, 6, 7, 8, 9, 2, 5, 1, 2, 3, 4, 5, 6, 7, 8, 9, 10, 2, 3, 4, 5, 6, 10, 1, 2, 3, 4, 5, 6, 7, 8, 9, 10, 1, 2, 3, 4, 5, 6, 7, 8, 9, 10, 1, 2, 3, 4, 5, 6, 7, 8, 9, 10, 1, 2, 3, 4, 5, 6, 7, 8, 9, 1, 2, 3, 4, 5, 6, 7, 8, 9, 10, 2, 3, 6, 8, 9, 3, 4, 5, 1, 2, 3, 5, 2, 3, 5, 2, 5, 6, 1, 2, 3, 4, 5, 6, 7, 8, 9, 10, 1, 2, 3, 4, 5, 6, 7, 8, 9, 10, 1, 3, 4, 6, 1, 2, 3, 4, 5, 6, 7, 8, 9, 10, 1, 2, 3, 4, 5, 6, 7, 8, 9, 10, 1, 3, 8, 1, 2, 3, 4, 5, 6, 7, 10, 1, 2, 3, 4, 5, 6, 7, 8, 9, 10, 1, 2, 3, 4, 5, 6, 7, 8, 9, 10, 1, 2, 3, 1, 2, 4, 7, 9, 1, 2, 3, 4, 5, 6, 7, 8, 9, 10, 3, 4, 5, 6, 7, 1, 2, 3, 4, 6, 7, 8, 9, 1, 3, 7, 10, 3, 4, 5, 6, 1, 2, 3, 4, 5, 6, 7, 8, 9, 10, 2, 3, 4, 2, 4, 5, 6, 7, 1, 2, 3, 4, 6, 7, 9, 1, 2, 3, 4, 5, 6, 7, 8, 9, 10, 1, 2, 3, 4, 5, 6, 7, 8, 9, 10, 1, 2, 3, 4, 5, 6, 7, 8, 9, 10, 1, 2, 3, 4, 5, 6, 7, 8, 9, 10, 1, 2, 3, 4, 5, 6, 7, 8, 9, 10, 1, 2, 3, 4, 5, 6, 7, 8, 9, 1, 2, 3, 4, 5, 6, 7, 8, 9, 10, 1, 2, 3, 4, 5, 6, 7, 8, 9, 10, 1, 2, 3, 4, 5, 7, 1, 2, 3, 4, 8, 9, 2, 5, 7, 1, 2, 3, 1, 2, 3, 4, 5, 6, 7, 8, 9, 10, 1, 2, 3, 5, 1, 2, 3, 4, 5, 6, 7, 8, 9, 10, 1, 2, 3, 4, 5, 6, 7, 8, 10, 1, 2, 3, 4, 5, 6, 7, 8, 9, 10, 2, 3, 5, 6, 7, 8, 1, 2, 3, 4, 5, 6, 7, 8, 9, 10, 1, 2, 3, 4, 5, 6, 7, 8, 9, 10, 3, 4, 5, 7, 8, 1, 2, 3, 4, 5, 6, 8, 10, 1, 2, 3, 4, 5, 6, 7, 8, 9, 10, 1, 2, 4, 5, 7, 10, 2, 3, 5, 6, 2, 3, 4, 5, 8, 1, 2, 3, 4, 5, 6, 8, 9, 10, 1, 2, 3, 4, 5, 6, 7, 8, 9, 10, 1, 2, 3, 4, 5, 6, 7, 8, 9, 10, 1, 2, 3, 4, 5, 6, 7, 8, 9, 10, 2, 3, 5, 8, 1, 2, 3, 4, 5, 6, 7, 8, 9, 1, 2, 5, 1, 2, 3, 4, 5, 6, 7, 8, 9, 10, 1, 2, 4, 6, 8, 1, 2, 3, 4, 5, 6, 7, 8, 9, 10, 1, 2, 3, 4, 5, 6, 7, 8, 9, 10, 1, 2, 3, 4, 5, 6, 7, 8, 9, 10, 1, 2, 4, 5, 7, 1, 2, 3, 4, 5, 6, 7, 8, 10, 1, 2, 3, 5, 8, 1, 2, 3, 5, 6, 9, 1, 2, 3, 4, 6, 7, 8, 9, 10, 1, 2, 3, 4, 5, 6, 9, 1, 2, 3, 4, 5, 6, 7, 8, 10, 1, 2, 3, 4, 5, 6, 7, 8, 9, 10, 1, 2, 3, 4, 5, 6, 7, 8, 9, 10, 1, 2, 4, 8, 9, 10, 1, 2, 3, 4, 5, 6, 7, 8, 10, 1, 2, 3, 4, 5, 6, 7, 8, 9, 10, 1, 2, 3, 4, 5, 6, 7, 8, 9, 10, 3, 5, 8, 1, 2, 3, 4, 5, 6, 7, 8, 9, 10, 2, 4, 5, 6, 9, 1, 2, 3, 4, 5, 6, 7, 8, 4, 5, 6, 8, 1, 2, 3, 4, 5, 6, 7, 8, 9, 10, 1, 2, 3, 5, 6, 1, 2, 3, 5, 8, 2, 3, 4, 6, 1, 2, 3, 4, 5, 6, 7, 8, 9, 10, 1, 2, 3, 4, 5, 6, 7, 8, 9, 10, 1, 2, 3, 4, 5, 6, 7, 8, 9, 10, 1, 2, 3, 4, 5, 6, 7, 8, 9, 10, 1, 2, 3, 4, 5, 10, 1, 2, 3, 4, 5, 6, 7, 8, 9, 10, 5, 7, 1, 2, 3, 4, 5, 6, 7, 8, 9, 1, 2, 3, 4, 7, 1, 2, 3, 4, 5, 6, 7, 8, 9, 10, 1, 2, 3, 4, 5, 6, 7, 8, 9, 10, 1, 2, 3, 4, 5, 6, 7, 8, 9, 10, 1, 2, 3, 4, 5, 6, 7, 8, 9, 10, 1, 2, 4, 3, 4, 5, 9, 1, 2, 10, 1, 2, 3, 4, 5, 6, 7, 10, 3, 4, 5, 1, 2, 3, 4, 5, 6, 7, 8, 9, 10, 1, 2, 3, 4, 7, 8, 1, 2, 3, 4, 2, 3, 4, 5, 7, 1, 2, 4, 1, 2, 3, 4, 5, 8, 1, 2, 3, 4, 5, 6, 7, 9, 5, 6, 8], \"Freq\": [0.7079067104360681, 0.11798445173934469, 0.11798445173934469, 0.10289017005605501, 0.06859344670403668, 0.514450850280275, 0.06859344670403668, 0.03429672335201834, 0.03429672335201834, 0.06859344670403668, 0.03429672335201834, 0.03429672335201834, 0.03429672335201834, 0.08599970690272575, 0.13377732184868452, 0.42999853451362874, 0.076444183913534, 0.04777761494595875, 0.0573331379351505, 0.04777761494595875, 0.076444183913534, 0.038222091956767, 0.00955552298919175, 0.13394416912945933, 0.1004581268470945, 0.200916253694189, 0.033486042282364833, 0.06697208456472967, 0.200916253694189, 0.06697208456472967, 0.13394416912945933, 0.06697208456472967, 0.033486042282364833, 0.11894251357952251, 0.11894251357952251, 0.1297554693594791, 0.1513813809193923, 0.08650364623965273, 0.09731660201960933, 0.05406477889978296, 0.14056842513943568, 0.10812955779956591, 0.010812955779956591, 0.030763262904014696, 0.12305305161605878, 0.30763262904014693, 0.030763262904014696, 0.06152652580802939, 0.21534284032810286, 0.06152652580802939, 0.15381631452007347, 0.43816324037602883, 0.037865959044841996, 0.1622826816207514, 0.12441672257590941, 0.048684804486225426, 0.032456536324150284, 0.04327538176553371, 0.021637690882766854, 0.0811413408103757, 0.016228268162075142, 0.12666654832642324, 0.06333327416321162, 0.06333327416321162, 0.06333327416321162, 0.06333327416321162, 0.2533330966528465, 0.18999982248963487, 0.15264204026036354, 0.4579261207810906, 0.15264204026036354, 0.07632102013018177, 0.07632102013018177, 0.07632102013018177, 0.08372116939079553, 0.1255817540861933, 0.2511635081723866, 0.16744233878159107, 0.08372116939079553, 0.08372116939079553, 0.041860584695397766, 0.041860584695397766, 0.08372116939079553, 0.08372116939079553, 0.0818648207672885, 0.24559446230186552, 0.10915309435638468, 0.13644136794548084, 0.0818648207672885, 0.02728827358909617, 0.02728827358909617, 0.02728827358909617, 0.21830618871276936, 0.02728827358909617, 0.032704148077646676, 0.032704148077646676, 0.22892903654352675, 0.39244977693176014, 0.19622488846588007, 0.032704148077646676, 0.032704148077646676, 0.28013254994396625, 0.14006627497198312, 0.14006627497198312, 0.28013254994396625, 0.12924980132473518, 0.5169992052989407, 0.12924980132473518, 0.10012227612441121, 0.40048910449764485, 0.10012227612441121, 0.10012227612441121, 0.10012227612441121, 0.09527957242206614, 0.12703942989608819, 0.31759857474022046, 0.11115950115907716, 0.09527957242206614, 0.11115950115907716, 0.04763978621103307, 0.04763978621103307, 0.031759857474022046, 0.015879928737011023, 0.2985692678691528, 0.1492846339345764, 0.2985692678691528, 0.2122145189864635, 0.07073817299548785, 0.07073817299548785, 0.07073817299548785, 0.5659053839639028, 0.026584010875707602, 0.23925609788136842, 0.026584010875707602, 0.053168021751415204, 0.5050962066384445, 0.026584010875707602, 0.10633604350283041, 0.026584010875707602, 0.2884451092729252, 0.4326676639093878, 0.1442225546364626, 0.1740823043929927, 0.08704115219649634, 0.08704115219649634, 0.05802743479766423, 0.3481646087859854, 0.029013717398832115, 0.05802743479766423, 0.05802743479766423, 0.05802743479766423, 0.3279011513197045, 0.21860076754646965, 0.10930038377323482, 0.21860076754646965, 0.027118671909618797, 0.10847468763847519, 0.3254240629154256, 0.10847468763847519, 0.027118671909618797, 0.2983053910058068, 0.027118671909618797, 0.027118671909618797, 0.027118671909618797, 0.49539037594363206, 0.09007097744429673, 0.09007097744429673, 0.1351064661664451, 0.04503548872214837, 0.04503548872214837, 0.04503548872214837, 0.04503548872214837, 0.04503548872214837, 0.3822422995327946, 0.06745452344696376, 0.20236357034089125, 0.044969682297975835, 0.08993936459595167, 0.044969682297975835, 0.08993936459595167, 0.044969682297975835, 0.022484841148987918, 0.022484841148987918, 0.3387956757026998, 0.11293189190089994, 0.11293189190089994, 0.2258637838017999, 0.0886079310185269, 0.3189885516666968, 0.05316475861111614, 0.12405110342593766, 0.14177268962964304, 0.0886079310185269, 0.05316475861111614, 0.10632951722223229, 0.01772158620370538, 0.03544317240741076, 0.2917207113114345, 0.048620118551905754, 0.14586035565571726, 0.38896094841524603, 0.09724023710381151, 0.048620118551905754, 0.16612363909617764, 0.13289891127694212, 0.1827360030057954, 0.06644945563847106, 0.03322472781923553, 0.04983709172885329, 0.19934836691541316, 0.09967418345770658, 0.03322472781923553, 0.03322472781923553, 0.40072521439855263, 0.2671501429323684, 0.1335750714661842, 0.1335750714661842, 0.12311834217623231, 0.49247336870492925, 0.12311834217623231, 0.12311834217623231, 0.12769150111164115, 0.766149006669847, 0.030741091632793895, 0.09222327489838168, 0.5533396493902901, 0.09222327489838168, 0.030741091632793895, 0.030741091632793895, 0.09222327489838168, 0.09222327489838168, 0.2436108580848768, 0.1461665148509261, 0.04872217161697537, 0.4384995445527783, 0.04872217161697537, 0.04872217161697537, 0.04872217161697537, 0.11676284055842137, 0.13135819562822404, 0.1459535506980267, 0.1459535506980267, 0.2043349709772374, 0.058381420279210686, 0.07297677534901335, 0.04378606520940801, 0.058381420279210686, 0.029190710139605343, 0.17030748182809852, 0.17030748182809852, 0.15138442829164314, 0.16084595505987084, 0.12299984798696005, 0.04730763384113848, 0.11353832121873235, 0.028384580304683087, 0.018923053536455393, 0.018923053536455393, 0.09040998996641107, 0.09040998996641107, 0.24109330657709618, 0.33150329654350724, 0.12054665328854809, 0.030136663322137023, 0.060273326644274046, 0.060273326644274046, 0.030136663322137023, 0.2769846330436245, 0.13295262386093976, 0.1661907798261747, 0.09971446789570482, 0.055396926608724896, 0.03323815596523494, 0.12187323853919477, 0.044317541286979914, 0.044317541286979914, 0.022158770643489957, 0.13195663301962637, 0.26391326603925275, 0.26391326603925275, 0.26391326603925275, 0.09321696264872324, 0.09321696264872324, 0.5593017758923394, 0.09321696264872324, 0.06235526842341934, 0.020785089474473113, 0.08314035789789245, 0.6235526842341934, 0.020785089474473113, 0.1454956263213118, 0.020785089474473113, 0.10463642517958549, 0.2790304671455613, 0.24415165875236614, 0.10463642517958549, 0.03487880839319516, 0.03487880839319516, 0.03487880839319516, 0.03487880839319516, 0.10463642517958549, 0.16416738373673478, 0.32833476747346957, 0.32833476747346957, 0.14365700149602328, 0.14365700149602328, 0.07182850074801164, 0.07182850074801164, 0.07182850074801164, 0.14365700149602328, 0.2154855022440349, 0.07182850074801164, 0.07182850074801164, 0.1770371311277318, 0.1770371311277318, 0.12875427718380494, 0.09656570788785371, 0.22531998507165865, 0.048282853943926854, 0.032188569295951236, 0.06437713859190247, 0.016094284647975618, 0.016094284647975618, 0.48724451502442445, 0.09744890300488489, 0.12181112875610611, 0.09744890300488489, 0.048724451502442444, 0.07308667725366366, 0.024362225751221222, 0.024362225751221222, 0.024362225751221222, 0.05392727650262167, 0.08628364240419467, 0.47456003322307067, 0.097069097704719, 0.08628364240419467, 0.043141821202097336, 0.032356365901573, 0.10785455300524334, 0.010785455300524334, 0.010785455300524334, 0.036825685890315284, 0.2209541153418917, 0.2209541153418917, 0.33143117301283753, 0.036825685890315284, 0.036825685890315284, 0.07365137178063057, 0.036825685890315284, 0.036825685890315284, 0.07795637142624898, 0.05846727856968673, 0.5262055071271806, 0.019489092856562244, 0.019489092856562244, 0.019489092856562244, 0.15591274285249795, 0.019489092856562244, 0.019489092856562244, 0.07795637142624898, 0.0539872130424972, 0.0539872130424972, 0.7558209825949608, 0.1079744260849944, 0.21275308427818027, 0.07091769475939343, 0.023639231586464474, 0.42550616855636053, 0.07091769475939343, 0.07091769475939343, 0.023639231586464474, 0.07091769475939343, 0.1829282607678404, 0.2743923911517606, 0.0914641303839202, 0.1829282607678404, 0.1829282607678404, 0.0914641303839202, 0.37610191056709363, 0.05372884436672766, 0.21491537746691064, 0.10745768873345532, 0.02686442218336383, 0.10745768873345532, 0.05372884436672766, 0.02686442218336383, 0.5325757039418849, 0.26628785197094246, 0.13314392598547123, 0.0985927893370996, 0.1232409866713745, 0.0985927893370996, 0.0739445920028247, 0.1232409866713745, 0.0739445920028247, 0.1232409866713745, 0.0492963946685498, 0.2218337760084741, 0.0246481973342749, 0.2164842663714338, 0.08659370654857353, 0.1298905598228603, 0.08659370654857353, 0.3463748261942941, 0.04329685327428676, 0.04329685327428676, 0.04329685327428676, 0.11853124440910498, 0.4741249776364199, 0.11853124440910498, 0.23706248881820996, 0.036136869634171204, 0.4697793052442257, 0.07227373926834241, 0.14454747853668481, 0.036136869634171204, 0.07227373926834241, 0.10841060890251361, 0.14738311148116925, 0.41056723912611437, 0.052636825528989024, 0.13685574637537146, 0.07369155574058463, 0.052636825528989024, 0.031582095317393415, 0.031582095317393415, 0.010527365105797805, 0.02105473021159561, 0.16020217799064668, 0.16020217799064668, 0.16020217799064668, 0.16020217799064668, 0.16020217799064668, 0.48726169260093305, 0.0974523385201866, 0.0974523385201866, 0.0974523385201866, 0.0974523385201866, 0.05168605495817971, 0.5685466045399769, 0.05168605495817971, 0.20674421983271885, 0.05168605495817971, 0.13505422792708094, 0.13505422792708094, 0.2701084558541619, 0.13505422792708094, 0.2701084558541619, 0.14527201200642645, 0.5810880480257058, 0.04842400400214215, 0.0968480080042843, 0.04842400400214215, 0.028173706099949652, 0.08452111829984896, 0.20660717806629744, 0.403823120765945, 0.06573864756654918, 0.056347412199899305, 0.009391235366649884, 0.037564941466599534, 0.10330358903314872, 0.009391235366649884, 0.08172962188672299, 0.08172962188672299, 0.16345924377344598, 0.16345924377344598, 0.08172962188672299, 0.24518886566016898, 0.08172962188672299, 0.08172962188672299, 0.516303393655278, 0.17210113121842602, 0.17210113121842602, 0.24509825973829127, 0.3594774476161606, 0.065359535930211, 0.049019651947658255, 0.08169941991276376, 0.049019651947658255, 0.049019651947658255, 0.049019651947658255, 0.049019651947658255, 0.03762614457256585, 0.03762614457256585, 0.1505045782902634, 0.4515137348707902, 0.0752522891451317, 0.0752522891451317, 0.11287843371769755, 0.03791402996817735, 0.4170543296499509, 0.1516561198727094, 0.11374208990453206, 0.0758280599363547, 0.0758280599363547, 0.03791402996817735, 0.0758280599363547, 0.03791402996817735, 0.17398185045772174, 0.1432791709651826, 0.05117113248756522, 0.0716395854825913, 0.26608988893533914, 0.17398185045772174, 0.040936905990052175, 0.03070267949253913, 0.03070267949253913, 0.020468452995026087, 0.15705836425432879, 0.15705836425432879, 0.31411672850865757, 0.15705836425432879, 0.15705836425432879, 0.11082593844563554, 0.22165187689127108, 0.11082593844563554, 0.22165187689127108, 0.22165187689127108, 0.048993043801848074, 0.29395826281108844, 0.03266202920123205, 0.048993043801848074, 0.22863420440862436, 0.16331014600616026, 0.03266202920123205, 0.08165507300308013, 0.016331014600616024, 0.03266202920123205, 0.44335184793413546, 0.11083796198353386, 0.22167592396706773, 0.05541898099176693, 0.05541898099176693, 0.05541898099176693, 0.05533393638145956, 0.16600180914437868, 0.11066787276291912, 0.05533393638145956, 0.2766696819072978, 0.08300090457218934, 0.1383348409536489, 0.05533393638145956, 0.06916742047682445, 0.01383348409536489, 0.4624012906632491, 0.23120064533162454, 0.23120064533162454, 0.18039300769651823, 0.36078601539303645, 0.18039300769651823, 0.14433925467060524, 0.14433925467060524, 0.14433925467060524, 0.14433925467060524, 0.14433925467060524, 0.2886785093412105, 0.14433925467060524, 0.14466658020369055, 0.11573326416295245, 0.1273065905792477, 0.2314665283259049, 0.034719979248885736, 0.06365329528962385, 0.17359989624442868, 0.02893331604073811, 0.04629330566518098, 0.02314665283259049, 0.4454709380063132, 0.09378335536975015, 0.07033751652731261, 0.04689167768487507, 0.14067503305462523, 0.04689167768487507, 0.023445838842437536, 0.04689167768487507, 0.07033751652731261, 0.023445838842437536, 0.23983167937773467, 0.1269697126117419, 0.11286196676599279, 0.056430983382996396, 0.1269697126117419, 0.049377110460121845, 0.14813133138036552, 0.042323237537247295, 0.08464647507449459, 0.014107745845749099, 0.31791146587981733, 0.07947786646995433, 0.07947786646995433, 0.238433599409863, 0.15895573293990867, 0.18332583178694542, 0.18332583178694542, 0.18332583178694542, 0.36665166357389084, 0.05960870505548535, 0.2384348202219414, 0.05960870505548535, 0.4172609353883975, 0.1192174101109707, 0.1192174101109707, 0.17110333858106072, 0.5133100157431822, 0.16904911439173748, 0.12678683579380312, 0.08452455719586874, 0.12678683579380312, 0.08452455719586874, 0.04226227859793437, 0.08452455719586874, 0.25357367158760624, 0.24280535996313135, 0.1456832159778788, 0.12140267998156568, 0.09712214398525254, 0.12140267998156568, 0.06070133999078284, 0.08498187598709597, 0.04856107199262627, 0.04856107199262627, 0.024280535996313135, 0.0792962362059956, 0.05286415747066373, 0.4493453385006417, 0.10572831494132746, 0.05286415747066373, 0.13216039367665933, 0.0792962362059956, 0.026432078735331866, 0.026432078735331866, 0.026432078735331866, 0.25371314369286346, 0.13838898746883463, 0.1499214030912375, 0.13838898746883463, 0.0807269093568202, 0.04612966248961154, 0.06919449373441731, 0.06919449373441731, 0.03459724686720866, 0.02306483124480577, 0.1471306460561682, 0.4413919381685046, 0.0735653230280841, 0.0735653230280841, 0.0735653230280841, 0.0735653230280841, 0.054666212450601034, 0.37719686590914714, 0.08746593992096165, 0.12026566739132227, 0.1749318798419233, 0.04373296996048082, 0.04373296996048082, 0.03279972747036062, 0.04919959120554093, 0.005466621245060103, 0.1271311521693869, 0.2542623043387738, 0.1271311521693869, 0.1271311521693869, 0.2542623043387738, 0.1271311521693869, 0.02156194753325742, 0.02156194753325742, 0.02156194753325742, 0.6252964784644651, 0.02156194753325742, 0.15093363273280191, 0.08624779013302968, 0.13104113456513744, 0.16848145872660528, 0.10296089144403657, 0.07488064832293569, 0.07488064832293569, 0.11232097248440352, 0.14040121560550442, 0.14040121560550442, 0.03744032416146784, 0.01872016208073392, 0.2704768519179968, 0.1352384259589984, 0.2704768519179968, 0.1352384259589984, 0.06754888496222948, 0.13509776992445896, 0.20264665488668843, 0.13509776992445896, 0.13509776992445896, 0.06754888496222948, 0.20264665488668843, 0.06754888496222948, 0.307504363081342, 0.153752181540671, 0.307504363081342, 0.19655400641069265, 0.12818739548523433, 0.09400409002250518, 0.13673322185091663, 0.23928313823910408, 0.05982078455977602, 0.06836661092545832, 0.03418330546272916, 0.03418330546272916, 0.01709165273136458, 0.12849073148511111, 0.22485878009894444, 0.03212268287127778, 0.17132097531348148, 0.23556634105603702, 0.09636804861383333, 0.06424536574255556, 0.021415121914185185, 0.010707560957092592, 0.010707560957092592, 0.12824140137659007, 0.27785636964927846, 0.04274713379219669, 0.04274713379219669, 0.3419770703375735, 0.04274713379219669, 0.04274713379219669, 0.04274713379219669, 0.021373566896098345, 0.021373566896098345, 0.18409165518642492, 0.3813327143147373, 0.05917231773849373, 0.06574701970943747, 0.1117699335060437, 0.026298807883774988, 0.026298807883774988, 0.05917231773849373, 0.01972410591283124, 0.05917231773849373, 0.17048999645565716, 0.17048999645565716, 0.3409799929113143, 0.2679975481981622, 0.1339987740990811, 0.06699938704954055, 0.3349969352477027, 0.06699938704954055, 0.06699938704954055, 0.06699938704954055, 0.14841207074004045, 0.1978827609867206, 0.0989413804933603, 0.08245115041113359, 0.21437299106894733, 0.03298046016445343, 0.1978827609867206, 0.016490230082226717, 0.016490230082226717, 0.016490230082226717, 0.44239449435326406, 0.22938973781280358, 0.032769962544686226, 0.032769962544686226, 0.09830988763405868, 0.016384981272343113, 0.016384981272343113, 0.016384981272343113, 0.09830988763405868, 0.016384981272343113, 0.20864017890734507, 0.2173335196951511, 0.13909345260489672, 0.11301343024147859, 0.0782400670902544, 0.06085338551464231, 0.06085338551464231, 0.08693340787806045, 0.008693340787806045, 0.01738668157561209, 0.26791368845891106, 0.26791368845891106, 0.13395684422945553, 0.26791368845891106, 0.11831895126668518, 0.21034480225188476, 0.09202585098519958, 0.10517240112594238, 0.11831895126668518, 0.06573275070371398, 0.11831895126668518, 0.06573275070371398, 0.09202585098519958, 0.013146550140742798, 0.1411651763341541, 0.4234955290024623, 0.1411651763341541, 0.13396708694687287, 0.13396708694687287, 0.13396708694687287, 0.26793417389374574, 0.13396708694687287, 0.244216268154891, 0.1221081340774455, 0.244216268154891, 0.1221081340774455, 0.11689126264701072, 0.11689126264701072, 0.11689126264701072, 0.17533689397051608, 0.05844563132350536, 0.05844563132350536, 0.23378252529402144, 0.05844563132350536, 0.05844563132350536, 0.4451820378440115, 0.17807281513760462, 0.17807281513760462, 0.08903640756880231, 0.5232117857666925, 0.17440392858889747, 0.17440392858889747, 0.11536626329300383, 0.5768313164650192, 0.11536626329300383, 0.11536626329300383, 0.11536626329300383, 0.2563045530433162, 0.17086970202887744, 0.04271742550721936, 0.04271742550721936, 0.17086970202887744, 0.04271742550721936, 0.04271742550721936, 0.08543485101443872, 0.04271742550721936, 0.08543485101443872, 0.037387626430064574, 0.18693813215032287, 0.18693813215032287, 0.037387626430064574, 0.037387626430064574, 0.261713385010452, 0.07477525286012915, 0.18693813215032287, 0.22536060165298022, 0.11268030082649011, 0.45072120330596044, 0.11268030082649011, 0.11268030082649011, 0.11268030082649011, 0.3377243566087502, 0.07946455449617652, 0.29799207936066197, 0.07946455449617652, 0.059598415872132396, 0.03973227724808826, 0.01986613862404413, 0.03973227724808826, 0.07946455449617652, 0.22956662911086056, 0.15893074323059578, 0.10595382882039718, 0.3002025149911253, 0.035317942940132394, 0.07063588588026479, 0.017658971470066197, 0.07063588588026479, 0.017658971470066197, 0.017658971470066197, 0.09119559432194438, 0.45597797160972187, 0.09119559432194438, 0.09119559432194438, 0.09119559432194438, 0.18239118864388876, 0.7206029289030612, 0.03515136238551518, 0.06151488417465157, 0.04393920298189398, 0.07030272477103036, 0.01757568119275759, 0.008787840596378795, 0.008787840596378795, 0.01757568119275759, 0.14649272994281398, 0.036623182485703495, 0.10986954745711049, 0.3296086423713315, 0.21973909491422097, 0.07324636497140699, 0.036623182485703495, 0.036623182485703495, 0.0769107141555219, 0.03845535707776095, 0.0769107141555219, 0.1538214283110438, 0.23073214246656573, 0.19227678538880477, 0.11536607123328287, 0.03845535707776095, 0.11536607123328287, 0.05483220775765143, 0.10966441551530286, 0.12794181810118668, 0.21932883103060571, 0.1462192206870705, 0.09138701292941906, 0.036554805171767624, 0.1644966232729543, 0.036554805171767624, 0.2085745083897646, 0.2085745083897646, 0.4171490167795292, 0.23467671960130557, 0.11733835980065278, 0.35201507940195836, 0.11733835980065278, 0.13501815496126623, 0.18902541694577274, 0.08101089297675974, 0.0540072619845065, 0.0540072619845065, 0.108014523969013, 0.02700363099225325, 0.29703994091478575, 0.0540072619845065, 0.1748546876423462, 0.09991696436705498, 0.24979241091763746, 0.07493772327529123, 0.04995848218352749, 0.04995848218352749, 0.024979241091763745, 0.19983392873410996, 0.04995848218352749, 0.024979241091763745, 0.02090960246754304, 0.2160658921646114, 0.0557589399134481, 0.06272880740262912, 0.3066741695239646, 0.14636721727280128, 0.02090960246754304, 0.09757814484853418, 0.0557589399134481, 0.02090960246754304, 0.05413517188049201, 0.24360827346221406, 0.05413517188049201, 0.027067585940246004, 0.027067585940246004, 0.3248110312829521, 0.027067585940246004, 0.18947310158172204, 0.38096722009978634, 0.2539781467331909, 0.12698907336659546, 0.09511944491480492, 0.19023888982960985, 0.09511944491480492, 0.47559722457402465, 0.09511944491480492, 0.09511944491480492, 0.14711789478110146, 0.17163754391128505, 0.024519649130183577, 0.0980785965207343, 0.0980785965207343, 0.024519649130183577, 0.024519649130183577, 0.04903929826036715, 0.36779473695275366, 0.07444784790657787, 0.14889569581315573, 0.5955827832526229, 0.07444784790657787, 0.07444784790657787, 0.07444784790657787, 0.10419171764709702, 0.20838343529419404, 0.15628757647064553, 0.10419171764709702, 0.15628757647064553, 0.05209585882354851, 0.10419171764709702, 0.15628757647064553, 0.14309737585027887, 0.19079650113370517, 0.04769912528342629, 0.23849562641713146, 0.09539825056685258, 0.09539825056685258, 0.09539825056685258, 0.09539825056685258, 0.071088029835902, 0.18956807956240532, 0.18956807956240532, 0.16587206961710466, 0.04739201989060133, 0.16587206961710466, 0.071088029835902, 0.04739201989060133, 0.023696009945300665, 0.023696009945300665, 0.16208115782526458, 0.0498711254846968, 0.311694534279355, 0.0748066882270452, 0.0748066882270452, 0.0748066882270452, 0.0997422509693936, 0.0872744695982194, 0.0374033441135226, 0.0249355627423484, 0.1237677523914946, 0.1237677523914946, 0.3713032571744838, 0.1237677523914946, 0.1237677523914946, 0.1237677523914946, 0.12326019904507617, 0.12326019904507617, 0.12326019904507617, 0.12326019904507617, 0.24652039809015233, 0.24652039809015233, 0.04606282125597653, 0.09212564251195306, 0.09212564251195306, 0.09212564251195306, 0.1381884637679296, 0.04606282125597653, 0.04606282125597653, 0.36850257004781223, 0.09212564251195306, 0.04606282125597653, 0.6406085415014728, 0.03203042707507364, 0.03203042707507364, 0.03203042707507364, 0.1601521353753682, 0.03203042707507364, 0.03203042707507364, 0.3469072715985525, 0.3469072715985525, 0.30798419143419653, 0.15399209571709827, 0.15399209571709827, 0.15399209571709827, 0.08089987137382348, 0.16179974274764697, 0.24269961412147045, 0.08089987137382348, 0.32359948549529394, 0.20542718257860673, 0.14673370184186196, 0.2934674036837239, 0.07336685092093098, 0.08804022110511717, 0.08804022110511717, 0.04402011055255858, 0.02934674036837239, 0.02934674036837239, 0.014673370184186196, 0.29054450419065414, 0.14527225209532707, 0.07263612604766354, 0.14527225209532707, 0.07263612604766354, 0.14527225209532707, 0.07197665055015988, 0.07197665055015988, 0.2519182769255596, 0.10796497582523983, 0.03598832527507994, 0.39587157802587936, 0.03598832527507994, 0.03598832527507994, 0.04855266809791748, 0.06797373533708446, 0.3495792103050058, 0.11652640343500195, 0.04855266809791748, 0.13594747067416893, 0.019421067239166992, 0.06797373533708446, 0.14565800429375245, 0.009710533619583496, 0.30706522631714406, 0.15353261315857203, 0.15353261315857203, 0.15353261315857203, 0.15353261315857203, 0.31147980183248214, 0.15573990091624107, 0.15573990091624107, 0.31147980183248214, 0.1633619626884217, 0.10053043857749028, 0.175928267510608, 0.06283152411093143, 0.087964133755304, 0.10053043857749028, 0.06283152411093143, 0.15079565786623542, 0.07539782893311771, 0.012566304822186285, 0.11642397925831009, 0.23284795851662018, 0.34927193777493026, 0.031003360475659946, 0.31003360475659947, 0.15501680237829973, 0.09301008142697983, 0.12401344190263978, 0.031003360475659946, 0.21702352332961963, 0.06200672095131989, 0.031003360475659946, 0.19355158479398873, 0.38710316958797747, 0.2903273771909831, 0.08081213791564389, 0.16162427583128777, 0.08081213791564389, 0.40406068957821945, 0.08081213791564389, 0.16162427583128777, 0.13561348208323382, 0.20342022312485072, 0.13561348208323382, 0.10171011156242536, 0.06780674104161691, 0.06780674104161691, 0.23732359364565916, 0.033903370520808454, 0.033903370520808454, 0.033903370520808454, 0.15062307073399672, 0.07531153536699836, 0.15062307073399672, 0.07531153536699836, 0.15062307073399672, 0.07531153536699836, 0.22593460610099506, 0.10251150715143768, 0.3485391243148881, 0.08200920572115014, 0.08200920572115014, 0.14351611001201275, 0.08200920572115014, 0.020502301430287535, 0.04100460286057507, 0.061506904290862606, 0.020502301430287535, 0.029068501798735075, 0.1162740071949403, 0.4360275269810261, 0.05813700359747015, 0.029068501798735075, 0.05813700359747015, 0.17441101079241045, 0.05813700359747015, 0.334491154649453, 0.11149705154981766, 0.44598820619927065, 0.04720437588185624, 0.04720437588185624, 0.47204375881856236, 0.2045522954880437, 0.04720437588185624, 0.03146958392123749, 0.12587833568494997, 0.015734791960618746, 0.07068112499337756, 0.35340562496688777, 0.12369196873841072, 0.03534056249668878, 0.01767028124834439, 0.01767028124834439, 0.03534056249668878, 0.318065062470199, 0.01767028124834439, 0.0921921831980488, 0.1843843663960976, 0.5531530991882927, 0.0921921831980488, 0.09813658600303249, 0.17173902550530684, 0.29440975800909747, 0.12267073250379061, 0.12267073250379061, 0.08586951275265342, 0.024534146500758122, 0.049068293001516244, 0.012267073250379061, 0.012267073250379061, 0.0683153793349028, 0.170788448337257, 0.1366307586698056, 0.0341576896674514, 0.2049461380047084, 0.0683153793349028, 0.2391038276721598, 0.0683153793349028, 0.13432112699864104, 0.13432112699864104, 0.2686422539972821, 0.2686422539972821, 0.24936475357001509, 0.3117059419625189, 0.06234118839250377, 0.06234118839250377, 0.06234118839250377, 0.06234118839250377, 0.24936475357001509, 0.2971432360787063, 0.2971432360787063, 0.2971432360787063, 0.1375312103781827, 0.1283624630196372, 0.24755617868072888, 0.09168747358545513, 0.1283624630196372, 0.10085622094400065, 0.055012484151273085, 0.07334997886836411, 0.018337494717091028, 0.018337494717091028, 0.6059060019303714, 0.050492166827530945, 0.10098433365506189, 0.050492166827530945, 0.050492166827530945, 0.050492166827530945, 0.050492166827530945, 0.16720512765442977, 0.08360256382721488, 0.08360256382721488, 0.25080769148164467, 0.25080769148164467, 0.08360256382721488, 0.08360256382721488, 0.021203848276017567, 0.021203848276017567, 0.042407696552035135, 0.10601924138008784, 0.021203848276017567, 0.21203848276017567, 0.16963078620814054, 0.08481539310407027, 0.29685387586424594, 0.09549633525870423, 0.14324450288805635, 0.14324450288805635, 0.04774816762935211, 0.5252298439228733, 0.1584655035901671, 0.3169310071803342, 0.1584655035901671, 0.1584655035901671, 0.0652509186578678, 0.1305018373157356, 0.5220073492629425, 0.0652509186578678, 0.0326254593289339, 0.09787637798680171, 0.0326254593289339, 0.0326254593289339, 0.0326254593289339, 0.6294113414243023, 0.15735283535607558, 0.5727737712653397, 0.04405952086656459, 0.04405952086656459, 0.08811904173312918, 0.04405952086656459, 0.04405952086656459, 0.17623808346625836, 0.04405952086656459, 0.03154312226317491, 0.06308624452634982, 0.4416037116844488, 0.09462936678952474, 0.12617248905269965, 0.06308624452634982, 0.03154312226317491, 0.12617248905269965, 0.03154312226317491, 0.5705395841477857, 0.022228814966796847, 0.0815056548782551, 0.05927683991145826, 0.014819209977864565, 0.007409604988932283, 0.1704209147454425, 0.022228814966796847, 0.03704802494466141, 0.022228814966796847, 0.13056770673691157, 0.4849657678799572, 0.05595758860153353, 0.09326264766922254, 0.13056770673691157, 0.018652529533844508, 0.018652529533844508, 0.037305059067689016, 0.03370785087765642, 0.06741570175531283, 0.3707863596542206, 0.10112355263296925, 0.33707850877656415, 0.03370785087765642, 0.03370785087765642, 0.03370785087765642, 0.056894124553717076, 0.11378824910743415, 0.11378824910743415, 0.056894124553717076, 0.11378824910743415, 0.28447062276858537, 0.11378824910743415, 0.11378824910743415, 0.19442414174943107, 0.38884828349886214, 0.19442414174943107, 0.09721207087471553, 0.21969948970985828, 0.09415692416136784, 0.15692820693561305, 0.15692820693561305, 0.03138564138712261, 0.06277128277424522, 0.06277128277424522, 0.18831384832273568, 0.03138564138712261, 0.03138564138712261, 0.6427712604668254, 0.07141902894075838, 0.14283805788151677, 0.07141902894075838, 0.07141902894075838, 0.24746812204546695, 0.08248937401515564, 0.08248937401515564, 0.24746812204546695, 0.1649787480303113, 0.08248937401515564, 0.08248937401515564, 0.0653616082868184, 0.4248504538643196, 0.0326808041434092, 0.2287656290038644, 0.0980424124302276, 0.0326808041434092, 0.0326808041434092, 0.0326808041434092, 0.0326808041434092, 0.0326808041434092, 0.46585184526232587, 0.07117180969285533, 0.07764197421038764, 0.10999279679804916, 0.051761316140258425, 0.03882098710519382, 0.04529115162272612, 0.051761316140258425, 0.051761316140258425, 0.03235082258766152, 0.0527309410152818, 0.09491569382750724, 0.20037757585807084, 0.22146995226418356, 0.042184752812225446, 0.1371004466397327, 0.042184752812225446, 0.15819282304584542, 0.042184752812225446, 0.021092376406112723, 0.14263379357623904, 0.09508919571749269, 0.14263379357623904, 0.42790138072871714, 0.09508919571749269, 0.047544597858746346, 0.047544597858746346, 0.18628740584156966, 0.20322262455443965, 0.11854653099008979, 0.08467609356434985, 0.06774087485147988, 0.13548174970295976, 0.08467609356434985, 0.05080565613860991, 0.03387043742573994, 0.05080565613860991, 0.06594154583793699, 0.32970772918968494, 0.06594154583793699, 0.06594154583793699, 0.13188309167587398, 0.19782463751381096, 0.06594154583793699, 0.126137817910912, 0.13098927244594707, 0.13098927244594707, 0.17465236326126277, 0.08732618163063138, 0.063068908955456, 0.07762327256056123, 0.063068908955456, 0.11643490884084184, 0.02910872721021046, 0.09388083915915582, 0.13143317482281816, 0.22531401398197398, 0.056328503495493495, 0.31919485314112983, 0.03755233566366233, 0.03755233566366233, 0.056328503495493495, 0.018776167831831166, 0.018776167831831166, 0.05145258169623702, 0.15435774508871106, 0.18008403593682956, 0.3344417810255406, 0.10290516339247403, 0.02572629084811851, 0.05145258169623702, 0.02572629084811851, 0.05145258169623702, 0.05021329885834627, 0.4519196897251165, 0.15063989657503882, 0.05021329885834627, 0.10042659771669254, 0.05021329885834627, 0.05021329885834627, 0.05021329885834627, 0.04534229201387655, 0.0302281946759177, 0.3325101414350947, 0.25693965474530045, 0.0302281946759177, 0.04534229201387655, 0.01511409733795885, 0.0906845840277531, 0.1511409733795885, 0.01511409733795885, 0.1359537678756374, 0.0679768839378187, 0.16994220984454675, 0.10196532590672805, 0.4418497455958216, 0.03398844196890935, 0.024803229901473073, 0.38858393512307815, 0.09921291960589229, 0.06614194640392819, 0.19842583921178458, 0.09921291960589229, 0.024803229901473073, 0.024803229901473073, 0.041338716502455124, 0.024803229901473073, 0.2222079996518962, 0.4444159993037924, 0.04444159993037924, 0.1333247997911377, 0.04444159993037924, 0.04444159993037924, 0.04444159993037924, 0.04444159993037924, 0.13051483413662457, 0.42713945717440766, 0.03559495476453397, 0.05932492460755662, 0.0949198793720906, 0.0949198793720906, 0.0949198793720906, 0.03559495476453397, 0.03559495476453397, 0.02372996984302265, 0.45756611862032076, 0.20798459937287306, 0.08319383974914923, 0.04159691987457462, 0.08319383974914923, 0.04159691987457462, 0.04159691987457462, 0.04159691987457462, 0.15668840765952152, 0.47006522297856457, 0.15668840765952152, 0.049736966040888786, 0.18651362265333293, 0.2984217962453327, 0.16164513963288854, 0.09947393208177757, 0.049736966040888786, 0.024868483020444393, 0.07460544906133318, 0.03730272453066659, 0.012434241510222196, 0.028266231997165596, 0.08479869599149678, 0.08479869599149678, 0.5370584079461463, 0.028266231997165596, 0.05653246399433119, 0.141331159985828, 0.028266231997165596, 0.07582516584456435, 0.07582516584456435, 0.07582516584456435, 0.5307761609119505, 0.1516503316891287, 0.44211465395836724, 0.10202645860577707, 0.06801763907051804, 0.06801763907051804, 0.10202645860577707, 0.10202645860577707, 0.03400881953525902, 0.03400881953525902, 0.03400881953525902, 0.03400881953525902, 0.1878241434549716, 0.1878241434549716, 0.06829968852908057, 0.13659937705816114, 0.10244953279362086, 0.08537461066135071, 0.05122476639681043, 0.119524454925891, 0.034149844264540284, 0.05122476639681043, 0.1910051982381847, 0.1685339984454571, 0.10112039906727427, 0.11235599896363807, 0.1460627986527295, 0.07864919927454665, 0.056177999481819035, 0.08988479917091045, 0.03370679968909142, 0.011235599896363807, 0.10892559538307924, 0.09336479604263935, 0.07780399670219945, 0.1867295920852787, 0.09336479604263935, 0.09336479604263935, 0.07780399670219945, 0.20229039142571859, 0.046682398021319675, 0.16975535755011859, 0.16975535755011859, 0.16975535755011859, 0.16975535755011859, 0.16975535755011859, 0.5369326083179948, 0.11931835740399886, 0.11931835740399886, 0.05965917870199943, 0.029829589350999716, 0.029829589350999716, 0.05965917870199943, 0.05965917870199943, 0.3478590745764855, 0.1159530248588285, 0.1159530248588285, 0.231906049717657, 0.1529559276211078, 0.24035931483316939, 0.13110508081809238, 0.0874033872120616, 0.06555254040904619, 0.0874033872120616, 0.06555254040904619, 0.0437016936060308, 0.13110508081809238, 0.06473203444414102, 0.5178562755531282, 0.19419610333242304, 0.06473203444414102, 0.06473203444414102, 0.06473203444414102, 0.28900262429330864, 0.07225065607332716, 0.3612532803666358, 0.07225065607332716, 0.07225065607332716, 0.07225065607332716, 0.47846013169965695, 0.05980751646245712, 0.11961503292491424, 0.05980751646245712, 0.11961503292491424, 0.05980751646245712, 0.05980751646245712, 0.22096466156907413, 0.1767717292552593, 0.044192932313814826, 0.044192932313814826, 0.044192932313814826, 0.22096466156907413, 0.044192932313814826, 0.1767717292552593, 0.11820360938746685, 0.10638324844872016, 0.224586857836187, 0.1418443312649602, 0.11820360938746685, 0.10638324844872016, 0.11820360938746685, 0.02364072187749337, 0.011820360938746685, 0.02364072187749337, 0.11876721331881697, 0.41568524661585937, 0.059383606659408485, 0.1484590166485212, 0.1484590166485212, 0.029691803329704242, 0.029691803329704242, 0.029691803329704242, 0.029691803329704242, 0.029691803329704242, 0.4124084660367147, 0.07732658738188401, 0.10310211650917868, 0.10310211650917868, 0.10310211650917868, 0.02577552912729467, 0.10310211650917868, 0.02577552912729467, 0.02577552912729467, 0.02577552912729467, 0.192231711242077, 0.41650204102450017, 0.016019309270173084, 0.08009654635086542, 0.06407723708069234, 0.04805792781051925, 0.016019309270173084, 0.11213516489121159, 0.016019309270173084, 0.03203861854034617, 0.08366152959456391, 0.1882384415877688, 0.24052689758437126, 0.12549229439184587, 0.052288455996602444, 0.11503460319252538, 0.10457691199320489, 0.052288455996602444, 0.031373073597961466, 0.010457691199320489, 0.13654437545080378, 0.1972307645400499, 0.40963312635241134, 0.045514791816934595, 0.015171597272311531, 0.060686389089246125, 0.060686389089246125, 0.015171597272311531, 0.015171597272311531, 0.030343194544623062, 0.21933760206743602, 0.10966880103371801, 0.21933760206743602, 0.10966880103371801, 0.21933760206743602, 0.10966880103371801, 0.4970969854221321, 0.07101385506030458, 0.07101385506030458, 0.07101385506030458, 0.14202771012060916, 0.07101385506030458, 0.376057063839716, 0.188028531919858, 0.188028531919858, 0.188028531919858, 0.2479160026205436, 0.14874960157232617, 0.11156220117924462, 0.09916640104821745, 0.14874960157232617, 0.04958320052410872, 0.09916640104821745, 0.02479160026205436, 0.04958320052410872, 0.01239580013102718, 0.3356757471680745, 0.08391893679201863, 0.08391893679201863, 0.08391893679201863, 0.08391893679201863, 0.2517568103760559, 0.1945271940075012, 0.17021129475656355, 0.0972635970037506, 0.12157949625468825, 0.07294769775281296, 0.07294769775281296, 0.07294769775281296, 0.02431589925093765, 0.17021129475656355, 0.02431589925093765, 0.20741596705773543, 0.036602817716070955, 0.2562197240124967, 0.036602817716070955, 0.04880375695476128, 0.17081314934166447, 0.09760751390952256, 0.02440187847738064, 0.09760751390952256, 0.01220093923869032, 0.21525233685659984, 0.04305046737131997, 0.4735551410845197, 0.04305046737131997, 0.08610093474263994, 0.08610093474263994, 0.04305046737131997, 0.25593549107525415, 0.5118709821505083, 0.36552506891940856, 0.05623462598760132, 0.08435193898140197, 0.36552506891940856, 0.02811731299380066, 0.08435193898140197, 0.04831689156175927, 0.04831689156175927, 0.49524813850803256, 0.012079222890439818, 0.012079222890439818, 0.024158445780879636, 0.3140597951514353, 0.024158445780879636, 0.03623766867131945, 0.5473167583546386, 0.03648778389030923, 0.03648778389030923, 0.07297556778061846, 0.14595113556123693, 0.03648778389030923, 0.07297556778061846, 0.03648778389030923, 0.11432371795081535, 0.2286474359016307, 0.2286474359016307, 0.2286474359016307, 0.11432371795081535, 0.103120818477431, 0.6187249108645859, 0.103120818477431, 0.4961173426391161, 0.09922346852782322, 0.09922346852782322, 0.09922346852782322, 0.09922346852782322, 0.09922346852782322, 0.09822044465606647, 0.19644088931213294, 0.09822044465606647, 0.09822044465606647, 0.09822044465606647, 0.2946613339681994, 0.03842838601156633, 0.10567806153180741, 0.11528515803469899, 0.03842838601156633, 0.5379974041619286, 0.03842838601156633, 0.09607096502891582, 0.019214193005783167, 0.009607096502891583, 0.3152404173978646, 0.07881010434946616, 0.07881010434946616, 0.3152404173978646, 0.045531350502862784, 0.2959537782686081, 0.06829702575429418, 0.2504224277657453, 0.13659405150858836, 0.045531350502862784, 0.045531350502862784, 0.06829702575429418, 0.022765675251431392, 0.045531350502862784, 0.13444290822219845, 0.044814302740732816, 0.044814302740732816, 0.4481430274073282, 0.17925721096293126, 0.08962860548146563, 0.044814302740732816, 0.044814302740732816, 0.044814302740732816, 0.08146251263727113, 0.08146251263727113, 0.24438753791181336, 0.16292502527454225, 0.08146251263727113, 0.24438753791181336, 0.08146251263727113, 0.54601571073259, 0.10920314214651801, 0.10920314214651801, 0.10920314214651801, 0.10920314214651801, 0.06759963371368286, 0.18927897439831198, 0.12167934068462914, 0.20279890114104857, 0.10815941394189257, 0.06759963371368286, 0.08111956045641942, 0.06759963371368286, 0.05407970697094629, 0.04055978022820971, 0.11597318735091121, 0.3479195620527336, 0.11597318735091121, 0.11597318735091121, 0.11597318735091121, 0.23194637470182242, 0.08550129302111599, 0.17100258604223198, 0.08550129302111599, 0.08550129302111599, 0.42750646510557994, 0.17100258604223198, 0.1624880666945802, 0.48746420008374064, 0.1624880666945802, 0.1139057410036756, 0.3796858033455854, 0.15187432133823414, 0.07593716066911707, 0.07593716066911707, 0.037968580334558535, 0.037968580334558535, 0.07593716066911707, 0.037968580334558535, 0.13766889542195526, 0.11472407951829604, 0.13766889542195526, 0.2753377908439105, 0.09177926361463684, 0.04588963180731842, 0.06883444771097763, 0.06883444771097763, 0.02294481590365921, 0.02294481590365921, 0.46934239604082145, 0.04693423960408215, 0.04693423960408215, 0.1877369584163286, 0.04693423960408215, 0.0938684792081643, 0.04693423960408215, 0.0938684792081643, 0.05159930537356636, 0.1547979161206991, 0.1547979161206991, 0.05159930537356636, 0.05159930537356636, 0.10319861074713273, 0.05159930537356636, 0.3095958322413982, 0.05159930537356636, 0.10402997314604769, 0.12483596777525723, 0.06241798388762861, 0.3328959140673526, 0.06241798388762861, 0.12483596777525723, 0.08322397851683815, 0.08322397851683815, 0.020805994629209536, 0.04325788472007285, 0.1730315388802914, 0.12977365416021858, 0.0865157694401457, 0.04325788472007285, 0.04325788472007285, 0.3893209624806557, 0.0865157694401457, 0.19247083561913075, 0.2664980800880272, 0.08883269336267574, 0.14805448893779288, 0.029610897787558578, 0.029610897787558578, 0.059221795575117156, 0.08883269336267574, 0.014805448893779289, 0.08883269336267574, 0.10955655273885945, 0.1679867141995845, 0.05112639127813441, 0.13877163346922197, 0.16068294401699384, 0.08034147200849692, 0.0073037701825906295, 0.18259425456476575, 0.08764524219108756, 0.0073037701825906295, 0.06197292478621948, 0.46479693589664606, 0.06197292478621948, 0.06197292478621948, 0.09295938717932921, 0.09295938717932921, 0.03098646239310974, 0.06197292478621948, 0.03098646239310974, 0.224099512600059, 0.05602487815001475, 0.1120497563000295, 0.1120497563000295, 0.05602487815001475, 0.05602487815001475, 0.2801243907500737, 0.05602487815001475, 0.11798756388317287, 0.11798756388317287, 0.3539626916495186, 0.11798756388317287, 0.11798756388317287, 0.11798756388317287, 0.07289198364689721, 0.10933797547034581, 0.40090591005793463, 0.10933797547034581, 0.036445991823448605, 0.036445991823448605, 0.036445991823448605, 0.14578396729379442, 0.036445991823448605, 0.036445991823448605, 0.21320622470352646, 0.053301556175881615, 0.3198093370552897, 0.3198093370552897, 0.26476394823325045, 0.13238197411662522, 0.13238197411662522, 0.26476394823325045, 0.13238197411662522, 0.03511334067945303, 0.0614483461890428, 0.6057051267205648, 0.026335005509589775, 0.0614483461890428, 0.026335005509589775, 0.08778335169863258, 0.04389167584931629, 0.03511334067945303, 0.017556670339726514, 0.05044120653760883, 0.19167658484291356, 0.07061768915265236, 0.15132361961282648, 0.19167658484291356, 0.08070593046017413, 0.040352965230087065, 0.1815883435353918, 0.040352965230087065, 0.010088241307521766, 0.1360106643142364, 0.21373104392237144, 0.1360106643142364, 0.03886018980406754, 0.05829028470610131, 0.15544075921627015, 0.1360106643142364, 0.07772037960813508, 0.03886018980406754, 0.01943009490203377, 0.56750231302844, 0.28375115651422, 0.17736733407930722, 0.11402185762241178, 0.2787200964103399, 0.12669095291379087, 0.06334547645689544, 0.03800728587413726, 0.07601457174827451, 0.03800728587413726, 0.03800728587413726, 0.06334547645689544, 0.45214717940540516, 0.12331286711056505, 0.08220857807371003, 0.08220857807371003, 0.041104289036855014, 0.041104289036855014, 0.041104289036855014, 0.041104289036855014, 0.041104289036855014, 0.1240314057195411, 0.13953533143448374, 0.1240314057195411, 0.15503925714942637, 0.06201570285977055, 0.06201570285977055, 0.15503925714942637, 0.06201570285977055, 0.07751962857471319, 0.031007851429885276, 0.09730622385658513, 0.1642042527579874, 0.07297966789243884, 0.21285736468627997, 0.09730622385658513, 0.10946950183865826, 0.09122458486554856, 0.10946950183865826, 0.030408194955182852, 0.006081638991036571, 0.21788052472054506, 0.10894026236027253, 0.10894026236027253, 0.21788052472054506, 0.10894026236027253, 0.16539128277625817, 0.22052171036834423, 0.055130427592086056, 0.11026085518417211, 0.055130427592086056, 0.055130427592086056, 0.22052171036834423, 0.11026085518417211, 0.25235351626828206, 0.12617675813414103, 0.12617675813414103, 0.25235351626828206, 0.3036826778028531, 0.07592066945071327, 0.2277620083521398, 0.07592066945071327, 0.07592066945071327, 0.07592066945071327, 0.09811071799371682, 0.39244287197486727, 0.09811071799371682, 0.09811071799371682, 0.19622143598743363, 0.09811071799371682, 0.4277970911458374, 0.10694927278645935, 0.2138985455729187, 0.10694927278645935, 0.10694927278645935, 0.09047815739687981, 0.09047815739687981, 0.18095631479375962, 0.27143447219063943, 0.09047815739687981, 0.27143447219063943, 0.24684909080226594, 0.1057924674866854, 0.17632077914447566, 0.03526415582889513, 0.1057924674866854, 0.24684909080226594, 0.03526415582889513, 0.03526415582889513, 0.37189176606018093, 0.18594588303009046, 0.18594588303009046, 0.16511054231701686, 0.08255527115850843, 0.16511054231701686, 0.08255527115850843, 0.16511054231701686, 0.24766581347552527, 0.08255527115850843, 0.13791925879136144, 0.07426421627227155, 0.09548256377863484, 0.4880219926463559, 0.0424366950127266, 0.031827521259544946, 0.06365504251908989, 0.031827521259544946, 0.01060917375318165, 0.01060917375318165, 0.08959056609477403, 0.12542679253268366, 0.14334490575163847, 0.08959056609477403, 0.10750867931372884, 0.08959056609477403, 0.16126301897059325, 0.10750867931372884, 0.05375433965686442, 0.01791811321895481, 0.1841873810101235, 0.26312483001446213, 0.05262496600289243, 0.07893744900433865, 0.026312483001446216, 0.026312483001446216, 0.026312483001446216, 0.026312483001446216, 0.28943731301590836, 0.11986558339334255, 0.07991038892889503, 0.15982077785779006, 0.07991038892889503, 0.1997759723222376, 0.039955194464447515, 0.07991038892889503, 0.07991038892889503, 0.15982077785779006, 0.2636641506597102, 0.39549622598956535, 0.08690649270385949, 0.17381298540771897, 0.09173463118740724, 0.1255316005722415, 0.08207835422031175, 0.14967229298998025, 0.154500431473528, 0.048281384835477496, 0.05310952331902524, 0.038625107868382, 0.5069949794599019, 0.10139899589198038, 0.10139899589198038, 0.10139899589198038, 0.10139899589198038, 0.10139899589198038, 0.10704888726977307, 0.1946343404904965, 0.10704888726977307, 0.01946343404904965, 0.029195151073574475, 0.26275635966217026, 0.13624403834334756, 0.04865858512262412, 0.05839030214714895, 0.029195151073574475, 0.31973172490673696, 0.19792916303750382, 0.06090128093461656, 0.06090128093461656, 0.10657724163557898, 0.04567596070096242, 0.04567596070096242, 0.04567596070096242, 0.12180256186923312, 0.01522532023365414, 0.548115804278483, 0.02835081746268016, 0.08505245238804048, 0.04725136243780026, 0.03780108995024021, 0.018900544975120104, 0.02835081746268016, 0.12285354233828068, 0.04725136243780026, 0.02835081746268016, 0.06426068259679148, 0.12852136519358295, 0.3855640955807489, 0.042840455064527654, 0.021420227532263827, 0.2570427303871659, 0.06426068259679148, 0.021420227532263827, 0.021420227532263827, 0.2480868873690196, 0.09140043218858618, 0.143629250582064, 0.11751484138532509, 0.06528602299184727, 0.03917161379510836, 0.13057204598369454, 0.09140043218858618, 0.03917161379510836, 0.026114409196738908, 0.10872576165295199, 0.21745152330590398, 0.32617728495885595, 0.10872576165295199, 0.10872576165295199, 0.17314192239363813, 0.34628384478727625, 0.34628384478727625, 0.07475111100667504, 0.6727599990600754, 0.07475111100667504, 0.1495022220133501, 0.28958379042631893, 0.14479189521315947, 0.43437568563947837, 0.135082653091577, 0.405247959274731, 0.270165306183154, 0.2498575185177774, 0.21416358730095206, 0.07138786243365068, 0.08923482804206335, 0.053540896825238014, 0.03569393121682534, 0.10708179365047603, 0.053540896825238014, 0.1249287592588887, 0.01784696560841267, 0.14814268185108517, 0.38205217951069337, 0.12475173208512436, 0.085766815808523, 0.046781899531921634, 0.054578882787241906, 0.07017284929788245, 0.03118793302128109, 0.015593966510640545, 0.046781899531921634, 0.14891583468114164, 0.14891583468114164, 0.2978316693622833, 0.14891583468114164, 0.3631453496083386, 0.09078633740208465, 0.16341540732375237, 0.10894360488250159, 0.1271008723629185, 0.01815726748041693, 0.03631453496083386, 0.01815726748041693, 0.01815726748041693, 0.03631453496083386, 0.13926293366444217, 0.15318922703088642, 0.320304747428217, 0.09748405356510953, 0.09748405356510953, 0.04177888009933266, 0.05570517346577687, 0.027852586732888436, 0.027852586732888436, 0.027852586732888436, 0.4089624278914359, 0.10224060697285897, 0.3067218209185769, 0.19039200817611093, 0.09519600408805547, 0.04759800204402773, 0.38078401635222187, 0.1427940061320832, 0.04759800204402773, 0.04759800204402773, 0.04759800204402773, 0.251768788441272, 0.14576087751863115, 0.17226285524929136, 0.11925889978797093, 0.06625494432665052, 0.06625494432665052, 0.026501977730660205, 0.07950593319198063, 0.03975296659599031, 0.013250988865330103, 0.07465264048266675, 0.1306421208446668, 0.18663160120666686, 0.20529476132733354, 0.07465264048266675, 0.018663160120666687, 0.22395792144800025, 0.05598948036200006, 0.03732632024133337, 0.018663160120666687, 0.15017223802040386, 0.45051671406121163, 0.15017223802040386, 0.2826607103896617, 0.09422023679655388, 0.18844047359310775, 0.2826607103896617, 0.09422023679655388, 0.08161242279679841, 0.2938047220684743, 0.0979349073561581, 0.13057987647487745, 0.13057987647487745, 0.0979349073561581, 0.04896745367807905, 0.04896745367807905, 0.06528993823743873, 0.032644969118719364, 0.1343260243780174, 0.4029780731340522, 0.1343260243780174, 0.1343260243780174, 0.1343260243780174, 0.3405221137247715, 0.05675368562079525, 0.1135073712415905, 0.05675368562079525, 0.05675368562079525, 0.227014742483181, 0.05675368562079525, 0.05675368562079525, 0.4327031588787303, 0.1442343862929101, 0.1442343862929101, 0.1442343862929101, 0.13512524802851145, 0.13512524802851145, 0.2702504960570229, 0.2702504960570229, 0.15596448251202868, 0.17675974684696583, 0.13516921817709152, 0.051988160837342895, 0.11437395384215436, 0.13516921817709152, 0.10397632167468579, 0.06238579300481147, 0.020795264334937155, 0.04159052866987431, 0.4498752574075335, 0.14995841913584448, 0.14995841913584448, 0.25444021452983745, 0.06361005363245936, 0.19083016089737811, 0.06361005363245936, 0.38166032179475623, 0.12249595122647317, 0.040831983742157726, 0.24499190245294633, 0.08166396748431545, 0.40831983742157724, 0.08166396748431545, 0.040831983742157726, 0.1602139516625934, 0.2803744154095384, 0.12016046374694503, 0.14686278902404393, 0.1068093011083956, 0.09345813846984614, 0.0267023252770989, 0.04005348791564835, 0.0267023252770989, 0.01335116263854945, 0.053602152119471315, 0.15008602593451967, 0.2894516214451451, 0.11792473466283689, 0.09648387381504836, 0.07504301296725983, 0.10720430423894263, 0.07504301296725983, 0.03216129127168279, 0.010720430423894263, 0.06789276681976682, 0.28514962064302063, 0.12220698027558027, 0.13578553363953363, 0.12220698027558027, 0.054314213455813456, 0.054314213455813456, 0.09504987354767355, 0.027157106727906728, 0.04073566009186009, 0.11501373669956085, 0.20446886524366373, 0.3705998182541405, 0.05111721631091593, 0.03833791223318695, 0.0766758244663739, 0.0638965203886449, 0.025558608155457966, 0.03833791223318695, 0.012779304077728983, 0.027347637965480433, 0.06836909491370108, 0.2461287416893239, 0.09571673287918152, 0.10939055186192173, 0.19143346575836304, 0.10939055186192173, 0.10939055186192173, 0.041021456948220646, 0.013673818982740216, 0.4190789369743601, 0.10476973424359003, 0.10476973424359003, 0.10476973424359003, 0.06984648949572668, 0.03492324474786334, 0.06984648949572668, 0.03492324474786334, 0.03492324474786334, 0.08176759300874954, 0.2180469146899988, 0.19987633846583222, 0.1544498979054158, 0.08176759300874954, 0.06359701678458297, 0.0545117286724997, 0.1090234573449994, 0.018170576224166565, 0.018170576224166565, 0.0592736729836392, 0.049394727486365995, 0.24697363743182998, 0.3260052014100156, 0.0395157819890928, 0.049394727486365995, 0.0889105094754588, 0.09878945497273199, 0.0098789454972732, 0.0098789454972732, 0.20278493825986293, 0.0675949794199543, 0.0675949794199543, 0.0675949794199543, 0.2703799176798172, 0.2703799176798172, 0.15220753683933372, 0.15220753683933372, 0.15220753683933372, 0.15220753683933372, 0.15220753683933372, 0.15220753683933372, 0.26811095806580193, 0.26811095806580193, 0.26811095806580193, 0.5136458253236876, 0.17121527510789586, 0.08560763755394793, 0.18632757312413367, 0.04658189328103342, 0.02329094664051671, 0.02329094664051671, 0.41923703952930075, 0.04658189328103342, 0.02329094664051671, 0.02329094664051671, 0.20961851976465037, 0.02329094664051671, 0.14460771617599075, 0.14460771617599075, 0.14460771617599075, 0.4338231485279722, 0.2556957519879675, 0.0730559291394193, 0.2922237165576772, 0.10958389370912894, 0.06087994094951608, 0.03652796456970965, 0.02435197637980643, 0.10958389370912894, 0.02435197637980643, 0.012175988189903215, 0.08648875906548059, 0.1297331385982209, 0.43244379532740296, 0.08648875906548059, 0.1297331385982209, 0.043244379532740296, 0.043244379532740296, 0.043244379532740296, 0.043244379532740296, 0.01819621732367096, 0.08188297795651932, 0.08188297795651932, 0.29113947717873534, 0.40941488978259655, 0.03639243464734192, 0.027294325985506438, 0.0454905433091774, 0.00909810866183548, 0.00909810866183548, 0.13387040970323008, 0.13387040970323008, 0.13387040970323008, 0.26774081940646016, 0.13387040970323008, 0.13387040970323008, 0.04425723897537622, 0.34520646400793453, 0.11506882133597818, 0.0973659257458277, 0.1593260603113544, 0.08851447795075244, 0.04425723897537622, 0.05310868677045147, 0.026554343385225734, 0.01770289559015049, 0.07045810487635071, 0.10568715731452606, 0.1902368831661469, 0.15500783072797156, 0.1197787782897962, 0.028183241950540283, 0.056366483901080566, 0.19728269365378198, 0.06341229438871564, 0.007045810487635071, 0.5013494283665186, 0.08355823806108643, 0.08355823806108643, 0.16711647612217287, 0.08355823806108643, 0.21510967070413212, 0.14340644713608808, 0.14340644713608808, 0.07170322356804404, 0.07170322356804404, 0.07170322356804404, 0.21510967070413212, 0.07170322356804404, 0.18179268459809647, 0.16526607690736042, 0.1983192922888325, 0.09915964614441625, 0.09915964614441625, 0.06610643076294416, 0.04957982307220812, 0.06610643076294416, 0.03305321538147208, 0.04957982307220812, 0.24699554532496773, 0.12349777266248387, 0.12349777266248387, 0.24699554532496773, 0.24699554532496773, 0.12349777266248387, 0.10657582689779059, 0.10657582689779059, 0.42630330759116236, 0.21315165379558118, 0.0943049587681289, 0.1886099175362578, 0.3772198350725156, 0.1886099175362578, 0.0943049587681289, 0.07137303620786119, 0.28549214483144475, 0.047582024138574125, 0.14274607241572237, 0.28549214483144475, 0.047582024138574125, 0.023791012069287062, 0.047582024138574125, 0.023791012069287062, 0.5400741783325759, 0.09819530515137743, 0.12274413143922179, 0.04909765257568872, 0.02454882628784436, 0.02454882628784436, 0.04909765257568872, 0.02454882628784436, 0.04909765257568872, 0.02454882628784436, 0.23060446727430264, 0.29209899188078337, 0.06149452460648071, 0.07686815575810088, 0.09224178690972107, 0.046120893454860534, 0.06149452460648071, 0.09224178690972107, 0.030747262303240354, 0.015373631151620177, 0.25598700654289797, 0.1077840027549044, 0.20209500516544576, 0.0269460006887261, 0.0808380020661783, 0.06736500172181525, 0.1077840027549044, 0.0808380020661783, 0.0269460006887261, 0.0538920013774522, 0.3933638183718974, 0.13112127279063246, 0.13112127279063246, 0.13112127279063246, 0.06796030753946725, 0.2265343584648908, 0.02265343584648908, 0.02265343584648908, 0.04530687169297816, 0.1132671792324454, 0.1359206150789345, 0.31714810185084713, 0.02265343584648908, 0.14623035043163782, 0.5849214017265513, 0.14623035043163782, 0.3294696755237695, 0.0658939351047539, 0.09884090265713084, 0.08236741888094237, 0.08236741888094237, 0.1812083215380732, 0.04942045132856542, 0.03294696755237695, 0.08236741888094237, 0.016473483776188475, 0.15301821583079683, 0.4590546474923905, 0.15301821583079683, 0.15301821583079683, 0.15301821583079683, 0.3153376438956339, 0.09460129316869016, 0.06306752877912677, 0.06306752877912677, 0.03153376438956339, 0.18920258633738032, 0.06306752877912677, 0.12613505755825355, 0.03153376438956339, 0.03153376438956339, 0.23240996761971, 0.2178843446434781, 0.0581024919049275, 0.02905124595246375, 0.10167936083362313, 0.13073060678608686, 0.043576868928695625, 0.116204983809855, 0.043576868928695625, 0.02905124595246375, 0.15802501334855665, 0.17558334816506296, 0.14046667853205036, 0.14924584594030352, 0.07023333926602518, 0.11412917630729091, 0.07901250667427832, 0.03511666963301259, 0.03511666963301259, 0.026337502224759442, 0.11696378394866848, 0.11696378394866848, 0.23392756789733696, 0.11696378394866848, 0.23392756789733696, 0.09271260445470844, 0.09271260445470844, 0.417206720046188, 0.11589075556838555, 0.02317815111367711, 0.04635630222735422, 0.02317815111367711, 0.13906890668206265, 0.02317815111367711, 0.06905879027788633, 0.06905879027788633, 0.5524703222230907, 0.13811758055577267, 0.06905879027788633, 0.0894177148099242, 0.7153417184793937, 0.0447088574049621, 0.0447088574049621, 0.0447088574049621, 0.0447088574049621, 0.07595334174859888, 0.22786002524579665, 0.03797667087429944, 0.37976670874299445, 0.03797667087429944, 0.11393001262289833, 0.07595334174859888, 0.03797667087429944, 0.03797667087429944, 0.14760012115284524, 0.14760012115284524, 0.07380006057642262, 0.07380006057642262, 0.22140018172926784, 0.07380006057642262, 0.22140018172926784, 0.2590703759077, 0.1151423892923111, 0.05757119464615555, 0.014392798661538888, 0.10074959063077223, 0.028785597323077776, 0.3742127652000111, 0.028785597323077776, 0.014392798661538888, 0.2417679348460971, 0.12088396742304855, 0.08634569101646325, 0.05180741460987795, 0.1036148292197559, 0.15542224382963385, 0.15542224382963385, 0.0345382764065853, 0.01726913820329265, 0.01726913820329265, 0.09247711759807449, 0.09247711759807449, 0.3390827645262731, 0.09247711759807449, 0.09247711759807449, 0.03082570586602483, 0.03082570586602483, 0.18495423519614898, 0.03082570586602483, 0.03082570586602483, 0.19889723568024897, 0.19889723568024897, 0.09944861784012449, 0.29834585352037346, 0.09944861784012449, 0.09944861784012449, 0.101443315194409, 0.45649491837484046, 0.101443315194409, 0.0507216575972045, 0.02536082879860225, 0.0507216575972045, 0.02536082879860225, 0.0507216575972045, 0.101443315194409, 0.37443081717143667, 0.24572022376875532, 0.08190674125625177, 0.07020577821964438, 0.05850481518303698, 0.011700963036607396, 0.023401926073214792, 0.023401926073214792, 0.023401926073214792, 0.08190674125625177, 0.08598032681266138, 0.2364458987348188, 0.18270819447690542, 0.07523278596107871, 0.12897049021899207, 0.09672786766424406, 0.05373770425791336, 0.05373770425791336, 0.07523278596107871, 0.021495081703165345, 0.10290750392082083, 0.5145375196041042, 0.10290750392082083, 0.10977124115870832, 0.1995840748340151, 0.20956327857571586, 0.11975044490040906, 0.10977124115870832, 0.0698544261919053, 0.05987522245020453, 0.029937611225102266, 0.03991681496680302, 0.04989601870850378, 0.13442580012254113, 0.4032774003676234, 0.13442580012254113, 0.13442580012254113, 0.13442580012254113, 0.1739063858337718, 0.1739063858337718, 0.0869531929168859, 0.0869531929168859, 0.0869531929168859, 0.26085957875065774, 0.0869531929168859, 0.0869531929168859, 0.44392353821466846, 0.07398725636911141, 0.07398725636911141, 0.29594902547644564, 0.3073850295825465, 0.0953953540083765, 0.1589922566806275, 0.08479587022966799, 0.11659432156579348, 0.08479587022966799, 0.06359690267225099, 0.021198967557416997, 0.042397935114833994, 0.021198967557416997, 0.07056715259862012, 0.6351043733875811, 0.07056715259862012, 0.07056715259862012, 0.07056715259862012, 0.0707876151962758, 0.0707876151962758, 0.2123628455888274, 0.5663009215702064, 0.0707876151962758, 0.18384139669133714, 0.09192069834566857, 0.18384139669133714, 0.3676827933826743, 0.09659822512198728, 0.13684748558948198, 0.21734600652447136, 0.1609970418699788, 0.0804985209349894, 0.06439881674799151, 0.09659822512198728, 0.04829911256099364, 0.0804985209349894, 0.02414955628049682, 0.019692348927749025, 0.0262564652369987, 0.17723114034974125, 0.5579498862862224, 0.0262564652369987, 0.006564116309249675, 0.006564116309249675, 0.1641029077312419, 0.01312823261849935, 0.006564116309249675, 0.1156844984115706, 0.3470534952347118, 0.06748262407341618, 0.1156844984115706, 0.15424599788209412, 0.03856149947052353, 0.02892112460289265, 0.03856149947052353, 0.02892112460289265, 0.0578422492057853, 0.12005123825540347, 0.04802049530216139, 0.04802049530216139, 0.21609222885972623, 0.3601537147662104, 0.024010247651080695, 0.024010247651080695, 0.09604099060432278, 0.024010247651080695, 0.024010247651080695, 0.06344739700011658, 0.4441317790008161, 0.06344739700011658, 0.2537895880004663, 0.06344739700011658, 0.06344739700011658, 0.06206546690089937, 0.12413093380179874, 0.41672527776318147, 0.11526443853024168, 0.07093196217245643, 0.05319897162934232, 0.07979845744401347, 0.04433247635778526, 0.017732990543114106, 0.017732990543114106, 0.3941283029045296, 0.26275220193635307, 0.1241101852171372, 0.0310275463042843, 0.310275463042843, 0.3413030093471273, 0.0620550926085686, 0.0620550926085686, 0.01551377315214215, 0.0310275463042843, 0.0310275463042843, 0.12467532728902841, 0.06233766364451421, 0.06233766364451421, 0.49870130915611366, 0.24935065457805683, 0.28948206063383225, 0.07719521616902193, 0.19298804042255482, 0.07719521616902193, 0.038597608084510966, 0.057896412126766446, 0.15439043233804386, 0.07719521616902193, 0.019298804042255483, 0.019298804042255483, 0.11007147672780532, 0.12107862440058585, 0.2091358057828301, 0.15410006741892746, 0.05503573836390266, 0.15410006741892746, 0.08805718138224425, 0.044028590691122124, 0.0330214430183416, 0.0330214430183416, 0.2701355879190407, 0.16208135275142443, 0.1134569469259971, 0.08644338813409302, 0.1566786409930436, 0.02701355879190407, 0.1134569469259971, 0.04322169406704651, 0.021610847033523256, 0.016208135275142442, 0.15309688752610146, 0.125261089794083, 0.19485058412412912, 0.08350739319605534, 0.16701478639211068, 0.08350739319605534, 0.04175369659802767, 0.06958949433004612, 0.04175369659802767, 0.04175369659802767, 0.17438650012487444, 0.5231595003746233, 0.17438650012487444, 0.15042835024055762, 0.45128505072167285, 0.15042835024055762, 0.15042835024055762, 0.1595750845860272, 0.3191501691720544, 0.1595750845860272, 0.23587715873146012, 0.06739347392327431, 0.10109021088491148, 0.03369673696163716, 0.13478694784654863, 0.03369673696163716, 0.3369673696163716, 0.03369673696163716, 0.09132584658042874, 0.04566292329021437, 0.7762696959336441, 0.09070954524963343, 0.09070954524963343, 0.29804564867736694, 0.24621162282043357, 0.051834025856933384, 0.038875519392700036, 0.10366805171386677, 0.06479253232116673, 0.012958506464233346, 0.012958506464233346, 0.15205586521770686, 0.15205586521770686, 0.15205586521770686, 0.15205586521770686, 0.30411173043541373, 0.15205586521770686, 0.2993396552311064, 0.09977988507703546, 0.09977988507703546, 0.39911954030814184, 0.0937920355270668, 0.28137610658120044, 0.1875840710541336, 0.1875840710541336, 0.28137610658120044, 0.4184300104806705, 0.13947667016022353, 0.27895334032044705, 0.05572110254103643, 0.05572110254103643, 0.44576882032829146, 0.27860551270518213, 0.05572110254103643, 0.05572110254103643, 0.013790337015960628, 0.1516937071755669, 0.06895168507980315, 0.055161348063842514, 0.5929844916863071, 0.013790337015960628, 0.08274202209576377, 0.013790337015960628, 0.18721739867269366, 0.18721739867269366, 0.18721739867269366], \"Term\": [\"acceler\", \"acceler\", \"acceler\", \"accept\", \"accept\", \"accept\", \"accept\", \"accept\", \"accept\", \"accept\", \"accept\", \"accept\", \"accept\", \"account\", \"account\", \"account\", \"account\", \"account\", \"account\", \"account\", \"account\", \"account\", \"account\", \"acquisit\", \"acquisit\", \"acquisit\", \"acquisit\", \"acquisit\", \"acquisit\", \"acquisit\", \"acquisit\", \"acquisit\", \"acquisit\", \"activ\", \"activ\", \"activ\", \"activ\", \"activ\", \"activ\", \"activ\", \"activ\", \"activ\", \"activ\", \"adjust\", \"adjust\", \"adjust\", \"adjust\", \"adjust\", \"adjust\", \"adjust\", \"adjust\", \"advertis\", \"advertis\", \"advertis\", \"advertis\", \"advertis\", \"advertis\", \"advertis\", \"advertis\", \"advertis\", \"advertis\", \"affili\", \"affili\", \"affili\", \"affili\", \"affili\", \"affili\", \"affili\", \"agent\", \"agent\", \"agent\", \"agent\", \"agent\", \"agent\", \"aggreg\", \"aggreg\", \"aggreg\", \"aggreg\", \"aggreg\", \"aggreg\", \"aggreg\", \"aggreg\", \"aggreg\", \"aggreg\", \"agreement\", \"agreement\", \"agreement\", \"agreement\", \"agreement\", \"agreement\", \"agreement\", \"agreement\", \"agreement\", \"agreement\", \"airlin\", \"airlin\", \"airlin\", \"airlin\", \"airlin\", \"airlin\", \"airlin\", \"align\", \"align\", \"align\", \"align\", \"amort\", \"amort\", \"amort\", \"amount\", \"amount\", \"amount\", \"amount\", \"amount\", \"annual\", \"annual\", \"annual\", \"annual\", \"annual\", \"annual\", \"annual\", \"annual\", \"annual\", \"annual\", \"answer\", \"answer\", \"answer\", \"applianc\", \"applianc\", \"applianc\", \"applianc\", \"applianc\", \"architectur\", \"architectur\", \"architectur\", \"architectur\", \"architectur\", \"architectur\", \"architectur\", \"architectur\", \"archiv\", \"archiv\", \"archiv\", \"area\", \"area\", \"area\", \"area\", \"area\", \"area\", \"area\", \"area\", \"area\", \"aspect\", \"aspect\", \"aspect\", \"aspect\", \"asset\", \"asset\", \"asset\", \"asset\", \"asset\", \"asset\", \"asset\", \"asset\", \"asset\", \"assist\", \"assist\", \"assist\", \"assist\", \"assist\", \"assist\", \"assist\", \"assist\", \"assist\", \"attract\", \"attract\", \"attract\", \"attract\", \"attract\", \"attract\", \"attract\", \"attract\", \"attract\", \"attract\", \"author\", \"author\", \"author\", \"author\", \"autom\", \"autom\", \"autom\", \"autom\", \"autom\", \"autom\", \"autom\", \"autom\", \"autom\", \"autom\", \"automot\", \"automot\", \"automot\", \"automot\", \"automot\", \"automot\", \"averag\", \"averag\", \"averag\", \"averag\", \"averag\", \"averag\", \"averag\", \"averag\", \"averag\", \"averag\", \"background\", \"background\", \"background\", \"background\", \"balanc\", \"balanc\", \"balanc\", \"balanc\", \"bandwidth\", \"bandwidth\", \"bank\", \"bank\", \"bank\", \"bank\", \"bank\", \"bank\", \"bank\", \"bank\", \"behavior\", \"behavior\", \"behavior\", \"behavior\", \"behavior\", \"behavior\", \"behavior\", \"benefit\", \"benefit\", \"benefit\", \"benefit\", \"benefit\", \"benefit\", \"benefit\", \"benefit\", \"benefit\", \"benefit\", \"billion\", \"billion\", \"billion\", \"billion\", \"billion\", \"billion\", \"billion\", \"billion\", \"billion\", \"billion\", \"book\", \"book\", \"book\", \"book\", \"book\", \"book\", \"book\", \"book\", \"book\", \"brand\", \"brand\", \"brand\", \"brand\", \"brand\", \"brand\", \"brand\", \"brand\", \"brand\", \"brand\", \"bring\", \"bring\", \"bring\", \"bring\", \"broadband\", \"broadband\", \"broadband\", \"broadband\", \"broker\", \"broker\", \"broker\", \"broker\", \"broker\", \"broker\", \"broker\", \"buyer\", \"buyer\", \"buyer\", \"buyer\", \"buyer\", \"buyer\", \"buyer\", \"buyer\", \"buyer\", \"cabl\", \"cabl\", \"cabl\", \"calcul\", \"calcul\", \"calcul\", \"calcul\", \"calcul\", \"calcul\", \"calcul\", \"calcul\", \"calcul\", \"california\", \"california\", \"california\", \"california\", \"california\", \"california\", \"california\", \"california\", \"california\", \"california\", \"campaign\", \"campaign\", \"campaign\", \"campaign\", \"campaign\", \"campaign\", \"campaign\", \"campaign\", \"campaign\", \"capit\", \"capit\", \"capit\", \"capit\", \"capit\", \"capit\", \"capit\", \"capit\", \"capit\", \"capit\", \"captur\", \"captur\", \"captur\", \"captur\", \"captur\", \"captur\", \"captur\", \"captur\", \"captur\", \"card\", \"card\", \"card\", \"card\", \"card\", \"card\", \"card\", \"card\", \"card\", \"card\", \"career\", \"career\", \"career\", \"career\", \"carrier\", \"carrier\", \"carrier\", \"carrier\", \"carrier\", \"carrier\", \"carrier\", \"carrier\", \"catalog\", \"catalog\", \"catalog\", \"catalog\", \"catalog\", \"catalog\", \"categori\", \"categori\", \"categori\", \"categori\", \"categori\", \"categori\", \"categori\", \"categori\", \"caus\", \"caus\", \"caus\", \"center\", \"center\", \"center\", \"center\", \"center\", \"center\", \"center\", \"center\", \"center\", \"center\", \"central\", \"central\", \"central\", \"central\", \"central\", \"central\", \"central\", \"central\", \"centric\", \"centric\", \"centric\", \"centric\", \"chain\", \"chain\", \"chain\", \"chain\", \"chain\", \"chain\", \"chain\", \"channel\", \"channel\", \"channel\", \"channel\", \"channel\", \"channel\", \"channel\", \"channel\", \"channel\", \"channel\", \"character\", \"character\", \"character\", \"character\", \"character\", \"chat\", \"chat\", \"chat\", \"chat\", \"chat\", \"circuit\", \"circuit\", \"circuit\", \"circuit\", \"circuit\", \"clear\", \"clear\", \"clear\", \"clear\", \"clear\", \"click\", \"click\", \"click\", \"click\", \"click\", \"client\", \"client\", \"client\", \"client\", \"client\", \"client\", \"client\", \"client\", \"client\", \"client\", \"cloud\", \"cloud\", \"cloud\", \"cloud\", \"cloud\", \"cloud\", \"cloud\", \"cloud\", \"color\", \"color\", \"color\", \"commerc\", \"commerc\", \"commerc\", \"commerc\", \"commerc\", \"commerc\", \"commerc\", \"commerc\", \"commerc\", \"commiss\", \"commiss\", \"commiss\", \"commiss\", \"commiss\", \"commiss\", \"commiss\", \"common\", \"common\", \"common\", \"common\", \"common\", \"common\", \"common\", \"common\", \"common\", \"communic\", \"communic\", \"communic\", \"communic\", \"communic\", \"communic\", \"communic\", \"communic\", \"communic\", \"communic\", \"compel\", \"compel\", \"compel\", \"compel\", \"compel\", \"complementari\", \"complementari\", \"complementari\", \"complementari\", \"complementari\", \"complex\", \"complex\", \"complex\", \"complex\", \"complex\", \"complex\", \"complex\", \"complex\", \"complex\", \"complex\", \"comscor\", \"comscor\", \"comscor\", \"comscor\", \"comscor\", \"comscor\", \"connect\", \"connect\", \"connect\", \"connect\", \"connect\", \"connect\", \"connect\", \"connect\", \"connect\", \"connect\", \"connecticut\", \"connecticut\", \"connecticut\", \"consid\", \"consid\", \"consid\", \"consider\", \"consider\", \"consider\", \"consider\", \"consider\", \"consider\", \"consider\", \"consum\", \"consum\", \"consum\", \"consum\", \"consum\", \"consum\", \"consum\", \"consum\", \"consum\", \"consum\", \"contact\", \"contact\", \"contact\", \"contact\", \"contact\", \"contact\", \"contact\", \"contact\", \"contact\", \"contact\", \"content\", \"content\", \"content\", \"content\", \"content\", \"content\", \"content\", \"content\", \"content\", \"content\", \"contractu\", \"contractu\", \"contractu\", \"contractu\", \"contractu\", \"contrast\", \"contrast\", \"contrast\", \"contrast\", \"control\", \"control\", \"control\", \"control\", \"control\", \"control\", \"converg\", \"converg\", \"core\", \"core\", \"core\", \"core\", \"core\", \"core\", \"core\", \"core\", \"creat\", \"creat\", \"creat\", \"creat\", \"creat\", \"creat\", \"creat\", \"creat\", \"creat\", \"creat\", \"credit\", \"credit\", \"credit\", \"credit\", \"credit\", \"credit\", \"credit\", \"credit\", \"credit\", \"credit\", \"current\", \"current\", \"current\", \"current\", \"current\", \"current\", \"current\", \"current\", \"current\", \"current\", \"cycl\", \"cycl\", \"cycl\", \"cycl\", \"cycl\", \"cycl\", \"data\", \"data\", \"data\", \"data\", \"data\", \"data\", \"data\", \"data\", \"data\", \"data\", \"day\", \"day\", \"day\", \"day\", \"day\", \"day\", \"dealer\", \"dealer\", \"dealer\", \"dealer\", \"dealer\", \"dealer\", \"dealer\", \"decemb\", \"decemb\", \"decemb\", \"decemb\", \"decemb\", \"decemb\", \"decemb\", \"decemb\", \"decemb\", \"decemb\", \"declin\", \"declin\", \"declin\", \"declin\", \"defin\", \"defin\", \"defin\", \"defin\", \"defin\", \"defin\", \"defin\", \"defin\", \"degre\", \"degre\", \"degre\", \"deliv\", \"deliv\", \"deliv\", \"deliv\", \"deliv\", \"deliv\", \"deliv\", \"deliv\", \"deliv\", \"deliv\", \"demand\", \"demand\", \"demand\", \"demand\", \"demand\", \"demand\", \"demand\", \"demand\", \"demand\", \"demand\", \"deploy\", \"deploy\", \"deploy\", \"deploy\", \"deploy\", \"deploy\", \"deploy\", \"deploy\", \"deploy\", \"deploy\", \"design\", \"design\", \"design\", \"design\", \"design\", \"design\", \"design\", \"design\", \"design\", \"design\", \"despit\", \"despit\", \"despit\", \"determin\", \"determin\", \"determin\", \"determin\", \"determin\", \"determin\", \"determin\", \"devic\", \"devic\", \"devic\", \"devic\", \"devic\", \"devic\", \"devic\", \"devic\", \"devic\", \"devic\", \"digit\", \"digit\", \"digit\", \"digit\", \"digit\", \"digit\", \"digit\", \"digit\", \"digit\", \"digit\", \"direct\", \"direct\", \"direct\", \"direct\", \"direct\", \"direct\", \"direct\", \"direct\", \"direct\", \"direct\", \"dispar\", \"dispar\", \"dispar\", \"dispar\", \"distribut\", \"distribut\", \"distribut\", \"distribut\", \"distribut\", \"distribut\", \"distribut\", \"distribut\", \"distribut\", \"distribut\", \"diversifi\", \"diversifi\", \"diversifi\", \"divid\", \"divid\", \"divid\", \"divid\", \"divid\", \"domain\", \"domain\", \"domain\", \"domain\", \"domest\", \"domest\", \"domest\", \"domest\", \"domest\", \"domest\", \"domest\", \"domest\", \"domest\", \"download\", \"download\", \"download\", \"download\", \"dramat\", \"dramat\", \"dramat\", \"earli\", \"earli\", \"earli\", \"earli\", \"earli\", \"easili\", \"easili\", \"easili\", \"easili\", \"easili\", \"easili\", \"easili\", \"easili\", \"easili\", \"easili\", \"ebitda\", \"ebitda\", \"ebitda\", \"ebitda\", \"ebitda\", \"ebitda\", \"ebitda\", \"ebitda\", \"econom\", \"econom\", \"econom\", \"econom\", \"econom\", \"econom\", \"educ\", \"educ\", \"educ\", \"educ\", \"educ\", \"educ\", \"educ\", \"educ\", \"educ\", \"electron\", \"electron\", \"electron\", \"electron\", \"electron\", \"electron\", \"electron\", \"electron\", \"electron\", \"electron\", \"elimin\", \"elimin\", \"elimin\", \"elimin\", \"elimin\", \"elimin\", \"email\", \"email\", \"email\", \"email\", \"email\", \"email\", \"email\", \"email\", \"email\", \"emerg\", \"emerg\", \"emerg\", \"emerg\", \"emerg\", \"emerg\", \"emerg\", \"emerg\", \"employ\", \"employ\", \"employ\", \"employ\", \"employ\", \"employ\", \"employ\", \"employ\", \"employ\", \"employe\", \"employe\", \"employe\", \"employe\", \"employe\", \"employe\", \"employe\", \"employe\", \"employe\", \"empow\", \"empow\", \"empow\", \"enforc\", \"enforc\", \"enforc\", \"enforc\", \"engag\", \"engag\", \"engag\", \"engag\", \"engag\", \"engag\", \"engag\", \"engag\", \"engag\", \"engin\", \"engin\", \"engin\", \"engin\", \"engin\", \"engin\", \"engin\", \"engin\", \"engin\", \"engin\", \"enterpris\", \"enterpris\", \"enterpris\", \"enterpris\", \"enterpris\", \"enterpris\", \"enterpris\", \"enterpris\", \"enterpris\", \"enterpris\", \"entertain\", \"entertain\", \"entertain\", \"entertain\", \"entertain\", \"entertain\", \"entertain\", \"entertain\", \"error\", \"error\", \"error\", \"european\", \"european\", \"european\", \"european\", \"european\", \"european\", \"event\", \"event\", \"event\", \"event\", \"event\", \"event\", \"event\", \"event\", \"event\", \"exclud\", \"exclud\", \"exclud\", \"exclud\", \"exclud\", \"exclud\", \"exclus\", \"exclus\", \"exclus\", \"exclus\", \"exclus\", \"exclus\", \"exclus\", \"exclus\", \"expect\", \"expect\", \"expect\", \"expect\", \"expect\", \"expect\", \"expect\", \"expect\", \"expens\", \"expens\", \"expens\", \"expens\", \"expens\", \"expens\", \"expens\", \"expens\", \"expens\", \"expens\", \"experi\", \"experi\", \"experi\", \"experi\", \"experi\", \"experi\", \"experi\", \"experi\", \"experi\", \"experi\", \"exposur\", \"exposur\", \"exposur\", \"exposur\", \"exposur\", \"exposur\", \"extern\", \"extern\", \"extern\", \"extern\", \"extern\", \"extern\", \"facil\", \"facil\", \"facil\", \"facil\", \"facil\", \"facil\", \"facil\", \"facil\", \"facil\", \"facil\", \"famili\", \"famili\", \"famili\", \"famili\", \"famili\", \"famili\", \"famili\", \"fast\", \"fast\", \"fastest\", \"fastest\", \"fastest\", \"fastest\", \"feder\", \"feder\", \"feder\", \"feder\", \"feder\", \"fee\", \"fee\", \"fee\", \"fee\", \"fee\", \"fee\", \"fee\", \"fee\", \"fee\", \"fee\", \"file\", \"file\", \"file\", \"file\", \"file\", \"file\", \"financ\", \"financ\", \"financ\", \"financ\", \"financ\", \"financ\", \"financ\", \"financ\", \"financi\", \"financi\", \"financi\", \"financi\", \"financi\", \"financi\", \"financi\", \"financi\", \"financi\", \"financi\", \"flat\", \"flat\", \"flat\", \"flat\", \"flat\", \"florida\", \"florida\", \"florida\", \"florida\", \"focus\", \"focus\", \"focus\", \"focus\", \"focus\", \"focus\", \"focus\", \"focus\", \"focus\", \"focus\", \"food\", \"food\", \"food\", \"forc\", \"forc\", \"forc\", \"forc\", \"forc\", \"forc\", \"forc\", \"forc\", \"forc\", \"forecast\", \"forecast\", \"forecast\", \"fortun\", \"fortun\", \"fortun\", \"fortun\", \"fortun\", \"fortun\", \"free\", \"free\", \"free\", \"free\", \"free\", \"free\", \"free\", \"free\", \"free\", \"free\", \"fulli\", \"fulli\", \"fulli\", \"fulli\", \"fulli\", \"fulli\", \"fulli\", \"function\", \"function\", \"function\", \"function\", \"function\", \"function\", \"function\", \"function\", \"function\", \"function\", \"fund\", \"fund\", \"fund\", \"fund\", \"fund\", \"fund\", \"fund\", \"fund\", \"fundament\", \"fundament\", \"fundament\", \"gain\", \"gain\", \"gain\", \"gain\", \"gain\", \"gain\", \"gain\", \"gain\", \"game\", \"game\", \"game\", \"game\", \"game\", \"game\", \"game\", \"game\", \"game\", \"gateway\", \"gateway\", \"gateway\", \"gateway\", \"global\", \"global\", \"global\", \"global\", \"global\", \"global\", \"global\", \"global\", \"global\", \"global\", \"govern\", \"govern\", \"govern\", \"govern\", \"govern\", \"govern\", \"govern\", \"govern\", \"grant\", \"grant\", \"grant\", \"grant\", \"graphic\", \"graphic\", \"graphic\", \"graphic\", \"graphic\", \"graphic\", \"graphic\", \"great\", \"great\", \"great\", \"growth\", \"growth\", \"growth\", \"growth\", \"growth\", \"growth\", \"growth\", \"growth\", \"growth\", \"growth\", \"half\", \"half\", \"half\", \"half\", \"half\", \"half\", \"half\", \"headquart\", \"headquart\", \"headquart\", \"headquart\", \"headquart\", \"headquart\", \"headquart\", \"health\", \"health\", \"health\", \"health\", \"health\", \"health\", \"health\", \"health\", \"health\", \"healthcar\", \"healthcar\", \"healthcar\", \"healthcar\", \"healthcar\", \"heavili\", \"heavili\", \"heavili\", \"heavili\", \"higher\", \"higher\", \"higher\", \"higher\", \"higher\", \"higher\", \"higher\", \"higher\", \"higher\", \"highest\", \"highest\", \"histori\", \"histori\", \"histori\", \"histori\", \"histori\", \"histori\", \"histori\", \"histori\", \"hold\", \"hold\", \"hold\", \"hold\", \"hold\", \"hold\", \"hold\", \"hold\", \"hold\", \"home\", \"home\", \"home\", \"home\", \"home\", \"home\", \"home\", \"home\", \"home\", \"home\", \"host\", \"host\", \"host\", \"host\", \"host\", \"host\", \"host\", \"host\", \"hotel\", \"hotel\", \"hotel\", \"hotel\", \"hotel\", \"hotel\", \"hotel\", \"hotel\", \"hous\", \"hous\", \"hous\", \"hous\", \"hous\", \"hous\", \"hous\", \"hous\", \"human\", \"human\", \"human\", \"human\", \"identifi\", \"identifi\", \"identifi\", \"identifi\", \"identifi\", \"identifi\", \"identifi\", \"identifi\", \"identifi\", \"identifi\", \"imag\", \"imag\", \"imag\", \"imag\", \"imag\", \"immedi\", \"immedi\", \"immedi\", \"immedi\", \"immedi\", \"immedi\", \"immedi\", \"implement\", \"implement\", \"implement\", \"implement\", \"implement\", \"implement\", \"implement\", \"implement\", \"implement\", \"implement\", \"improv\", \"improv\", \"improv\", \"improv\", \"improv\", \"improv\", \"improv\", \"improv\", \"improv\", \"improv\", \"incom\", \"incom\", \"incom\", \"incom\", \"incom\", \"incom\", \"incom\", \"incom\", \"incom\", \"incom\", \"incur\", \"incur\", \"incur\", \"incur\", \"incur\", \"incur\", \"incur\", \"individu\", \"individu\", \"individu\", \"individu\", \"individu\", \"individu\", \"individu\", \"individu\", \"individu\", \"individu\", \"ineffici\", \"ineffici\", \"ineffici\", \"ineffici\", \"ineffici\", \"ineffici\", \"ineffici\", \"inform\", \"inform\", \"inform\", \"inform\", \"inform\", \"inform\", \"inform\", \"inform\", \"inform\", \"inform\", \"infrastructur\", \"infrastructur\", \"infrastructur\", \"infrastructur\", \"infrastructur\", \"infrastructur\", \"infrastructur\", \"infrastructur\", \"infrastructur\", \"infrastructur\", \"initi\", \"initi\", \"initi\", \"initi\", \"initi\", \"initi\", \"initi\", \"initi\", \"initi\", \"instal\", \"instal\", \"instal\", \"instal\", \"instal\", \"instal\", \"instal\", \"instal\", \"institut\", \"institut\", \"institut\", \"institut\", \"institut\", \"institut\", \"institut\", \"institut\", \"institut\", \"institut\", \"insur\", \"insur\", \"insur\", \"insur\", \"insur\", \"insur\", \"integr\", \"integr\", \"integr\", \"integr\", \"integr\", \"integr\", \"integr\", \"integr\", \"integr\", \"integr\", \"intellig\", \"intellig\", \"intellig\", \"intellig\", \"intellig\", \"intellig\", \"intellig\", \"intellig\", \"interact\", \"interact\", \"interact\", \"interact\", \"interact\", \"interact\", \"interact\", \"interact\", \"interact\", \"interact\", \"interest\", \"interest\", \"interest\", \"interest\", \"interest\", \"interest\", \"interest\", \"interest\", \"intermediari\", \"intermediari\", \"intermediari\", \"invest\", \"invest\", \"invest\", \"invest\", \"invest\", \"invest\", \"invest\", \"invest\", \"invest\", \"invest\", \"investor\", \"investor\", \"investor\", \"investor\", \"investor\", \"investor\", \"investor\", \"investor\", \"issu\", \"issu\", \"issu\", \"issu\", \"issu\", \"juli\", \"juli\", \"juli\", \"juli\", \"juli\", \"juli\", \"juli\", \"juli\", \"juli\", \"juli\", \"june\", \"june\", \"june\", \"june\", \"june\", \"june\", \"june\", \"june\", \"june\", \"june\", \"larg\", \"larg\", \"larg\", \"larg\", \"larg\", \"larg\", \"larg\", \"larg\", \"larg\", \"larg\", \"largest\", \"largest\", \"largest\", \"largest\", \"largest\", \"largest\", \"largest\", \"largest\", \"largest\", \"law\", \"law\", \"law\", \"law\", \"law\", \"learn\", \"learn\", \"learn\", \"learn\", \"learn\", \"learn\", \"learn\", \"learn\", \"leas\", \"leas\", \"leas\", \"leas\", \"licens\", \"licens\", \"licens\", \"licens\", \"licens\", \"licens\", \"licens\", \"licens\", \"licens\", \"life\", \"life\", \"life\", \"life\", \"life\", \"life\", \"like\", \"like\", \"like\", \"like\", \"like\", \"like\", \"link\", \"link\", \"link\", \"link\", \"link\", \"link\", \"link\", \"live\", \"live\", \"live\", \"live\", \"live\", \"live\", \"live\", \"live\", \"loss\", \"loss\", \"loss\", \"loss\", \"loss\", \"loss\", \"loss\", \"loss\", \"loss\", \"loss\", \"lower\", \"lower\", \"lower\", \"lower\", \"lower\", \"lower\", \"lower\", \"lower\", \"lower\", \"lower\", \"mail\", \"mail\", \"mail\", \"mail\", \"mail\", \"mail\", \"mail\", \"mail\", \"mail\", \"mail\", \"manufactur\", \"manufactur\", \"manufactur\", \"manufactur\", \"manufactur\", \"manufactur\", \"manufactur\", \"manufactur\", \"manufactur\", \"manufactur\", \"march\", \"march\", \"march\", \"march\", \"march\", \"march\", \"march\", \"march\", \"march\", \"march\", \"marketplac\", \"marketplac\", \"marketplac\", \"marketplac\", \"marketplac\", \"marketplac\", \"marketplac\", \"marketplac\", \"marketplac\", \"marketplac\", \"mass\", \"mass\", \"mass\", \"mass\", \"mass\", \"mass\", \"massachusett\", \"massachusett\", \"massachusett\", \"massachusett\", \"massachusett\", \"massachusett\", \"meaning\", \"meaning\", \"meaning\", \"meaning\", \"media\", \"media\", \"media\", \"media\", \"media\", \"media\", \"media\", \"media\", \"media\", \"media\", \"medic\", \"medic\", \"medic\", \"medic\", \"medic\", \"medic\", \"meet\", \"meet\", \"meet\", \"meet\", \"meet\", \"meet\", \"meet\", \"meet\", \"meet\", \"meet\", \"member\", \"member\", \"member\", \"member\", \"member\", \"member\", \"member\", \"member\", \"member\", \"member\", \"membership\", \"membership\", \"membership\", \"membership\", \"membership\", \"membership\", \"membership\", \"memori\", \"memori\", \"merchandis\", \"merchandis\", \"merchandis\", \"merchandis\", \"merchandis\", \"merchandis\", \"merchant\", \"merchant\", \"merchant\", \"merchant\", \"merchant\", \"merchant\", \"merchant\", \"merchant\", \"merchant\", \"messag\", \"messag\", \"messag\", \"messag\", \"messag\", \"messag\", \"messag\", \"messag\", \"metric\", \"metric\", \"metric\", \"metric\", \"metric\", \"metropolitan\", \"metropolitan\", \"metropolitan\", \"microsoft\", \"microsoft\", \"microsoft\", \"microsoft\", \"microsoft\", \"microsoft\", \"minim\", \"minim\", \"minim\", \"minim\", \"minim\", \"minim\", \"mobil\", \"mobil\", \"mobil\", \"mobil\", \"mobil\", \"mobil\", \"mobil\", \"mobil\", \"mobil\", \"movi\", \"movi\", \"movi\", \"movi\", \"multipl\", \"multipl\", \"multipl\", \"multipl\", \"multipl\", \"multipl\", \"multipl\", \"multipl\", \"multipl\", \"multipl\", \"music\", \"music\", \"music\", \"music\", \"music\", \"music\", \"music\", \"music\", \"music\", \"mutual\", \"mutual\", \"mutual\", \"mutual\", \"mutual\", \"mutual\", \"mutual\", \"name\", \"name\", \"name\", \"name\", \"name\", \"need\", \"need\", \"need\", \"need\", \"need\", \"need\", \"need\", \"need\", \"need\", \"need\", \"negoti\", \"negoti\", \"negoti\", \"negoti\", \"negoti\", \"negoti\", \"neutral\", \"neutral\", \"neutral\", \"neutral\", \"neutral\", \"neutral\", \"newspap\", \"newspap\", \"newspap\", \"north\", \"north\", \"north\", \"north\", \"north\", \"north\", \"north\", \"north\", \"north\", \"object\", \"object\", \"object\", \"object\", \"object\", \"object\", \"object\", \"object\", \"object\", \"object\", \"offlin\", \"offlin\", \"offlin\", \"offlin\", \"offlin\", \"offlin\", \"offlin\", \"offlin\", \"open\", \"open\", \"open\", \"open\", \"open\", \"open\", \"open\", \"open\", \"open\", \"optim\", \"optim\", \"optim\", \"optim\", \"optim\", \"optim\", \"optim\", \"optim\", \"optim\", \"option\", \"option\", \"option\", \"option\", \"option\", \"option\", \"option\", \"option\", \"order\", \"order\", \"order\", \"order\", \"order\", \"order\", \"order\", \"order\", \"order\", \"order\", \"organ\", \"organ\", \"organ\", \"organ\", \"organ\", \"organ\", \"organ\", \"organ\", \"organ\", \"organ\", \"origin\", \"origin\", \"origin\", \"origin\", \"origin\", \"origin\", \"origin\", \"origin\", \"origin\", \"outsourc\", \"outsourc\", \"outsourc\", \"outsourc\", \"outsourc\", \"outsourc\", \"outsourc\", \"outsourc\", \"outstand\", \"outstand\", \"outstand\", \"outstand\", \"outstand\", \"outstand\", \"own\", \"own\", \"own\", \"own\", \"own\", \"own\", \"own\", \"own\", \"own\", \"own\", \"owner\", \"owner\", \"owner\", \"owner\", \"park\", \"park\", \"park\", \"park\", \"park\", \"payment\", \"payment\", \"payment\", \"payment\", \"payment\", \"payment\", \"payment\", \"payment\", \"payment\", \"payment\", \"perform\", \"perform\", \"perform\", \"perform\", \"perform\", \"perform\", \"perform\", \"perform\", \"perform\", \"perform\", \"period\", \"period\", \"period\", \"period\", \"period\", \"period\", \"period\", \"period\", \"period\", \"period\", \"permit\", \"permit\", \"person\", \"person\", \"person\", \"person\", \"person\", \"person\", \"person\", \"person\", \"person\", \"person\", \"place\", \"place\", \"place\", \"place\", \"place\", \"place\", \"place\", \"place\", \"place\", \"plan\", \"plan\", \"plan\", \"plan\", \"plan\", \"plan\", \"plan\", \"plan\", \"plan\", \"plan\", \"platform\", \"platform\", \"platform\", \"platform\", \"platform\", \"platform\", \"platform\", \"platform\", \"platform\", \"platform\", \"play\", \"play\", \"play\", \"play\", \"play\", \"popular\", \"popular\", \"popular\", \"popular\", \"popular\", \"popular\", \"popular\", \"popular\", \"possibl\", \"possibl\", \"possibl\", \"possibl\", \"post\", \"post\", \"post\", \"post\", \"post\", \"post\", \"practic\", \"practic\", \"practic\", \"practic\", \"practic\", \"practic\", \"predecessor\", \"predecessor\", \"predecessor\", \"predecessor\", \"predecessor\", \"predict\", \"predict\", \"predict\", \"predict\", \"predict\", \"predict\", \"premium\", \"premium\", \"premium\", \"premium\", \"premium\", \"premium\", \"premium\", \"premium\", \"prepar\", \"prepar\", \"prepar\", \"presenc\", \"presenc\", \"presenc\", \"presenc\", \"presenc\", \"presenc\", \"presenc\", \"price\", \"price\", \"price\", \"price\", \"price\", \"price\", \"price\", \"price\", \"price\", \"price\", \"primarili\", \"primarili\", \"primarili\", \"primarili\", \"primarili\", \"primarili\", \"primarili\", \"primarili\", \"primarili\", \"primarili\", \"print\", \"print\", \"print\", \"print\", \"print\", \"print\", \"print\", \"print\", \"print\", \"privat\", \"privat\", \"privat\", \"privat\", \"privat\", \"privat\", \"privat\", \"privat\", \"privat\", \"problem\", \"problem\", \"process\", \"process\", \"process\", \"process\", \"process\", \"process\", \"process\", \"process\", \"process\", \"process\", \"procur\", \"procur\", \"procur\", \"procur\", \"procur\", \"procur\", \"profession\", \"profession\", \"profession\", \"profession\", \"profession\", \"profession\", \"profession\", \"profession\", \"profession\", \"profession\", \"program\", \"program\", \"program\", \"program\", \"program\", \"program\", \"program\", \"program\", \"program\", \"program\", \"project\", \"project\", \"project\", \"project\", \"project\", \"project\", \"project\", \"project\", \"project\", \"project\", \"properti\", \"properti\", \"properti\", \"properti\", \"properti\", \"properti\", \"properti\", \"properti\", \"properti\", \"proprietari\", \"proprietari\", \"proprietari\", \"proprietari\", \"proprietari\", \"proprietari\", \"proprietari\", \"proprietari\", \"proprietari\", \"proprietari\", \"prospect\", \"prospect\", \"prospect\", \"prospect\", \"prospect\", \"prospectus\", \"prospectus\", \"prospectus\", \"protect\", \"protect\", \"protect\", \"protect\", \"protocol\", \"protocol\", \"protocol\", \"provis\", \"provis\", \"provis\", \"public\", \"public\", \"public\", \"public\", \"public\", \"public\", \"public\", \"public\", \"public\", \"public\", \"purchas\", \"purchas\", \"purchas\", \"purchas\", \"purchas\", \"purchas\", \"purchas\", \"purchas\", \"purchas\", \"purchas\", \"purpos\", \"purpos\", \"purpos\", \"purpos\", \"qualiti\", \"qualiti\", \"qualiti\", \"qualiti\", \"qualiti\", \"qualiti\", \"qualiti\", \"qualiti\", \"qualiti\", \"qualiti\", \"quarter\", \"quarter\", \"quarter\", \"quarter\", \"quarter\", \"quarter\", \"quarter\", \"quarter\", \"quarter\", \"quarter\", \"question\", \"question\", \"question\", \"radio\", \"radio\", \"radio\", \"radio\", \"radio\", \"radio\", \"radio\", \"radio\", \"rang\", \"rang\", \"rang\", \"rang\", \"rang\", \"rang\", \"rang\", \"rang\", \"rang\", \"rang\", \"real\", \"real\", \"real\", \"real\", \"real\", \"real\", \"real\", \"real\", \"real\", \"real\", \"reason\", \"reason\", \"reason\", \"recommend\", \"recommend\", \"recommend\", \"recommend\", \"recommend\", \"reduc\", \"reduc\", \"reduc\", \"reduc\", \"reduc\", \"reduc\", \"reduc\", \"reduc\", \"reduc\", \"reduc\", \"reduct\", \"reduct\", \"reduct\", \"reduct\", \"reduct\", \"registr\", \"registr\", \"registr\", \"registr\", \"registr\", \"registr\", \"registr\", \"registr\", \"regular\", \"regular\", \"regular\", \"regular\", \"regulatori\", \"regulatori\", \"regulatori\", \"regulatori\", \"relationship\", \"relationship\", \"relationship\", \"relationship\", \"relationship\", \"relationship\", \"relationship\", \"relationship\", \"relationship\", \"relationship\", \"releas\", \"releas\", \"releas\", \"remot\", \"remot\", \"remot\", \"remot\", \"remot\", \"rental\", \"rental\", \"rental\", \"rental\", \"rental\", \"rental\", \"rental\", \"report\", \"report\", \"report\", \"report\", \"report\", \"report\", \"report\", \"report\", \"report\", \"report\", \"repres\", \"repres\", \"repres\", \"repres\", \"repres\", \"repres\", \"repres\", \"repres\", \"repres\", \"repres\", \"requir\", \"requir\", \"requir\", \"requir\", \"requir\", \"requir\", \"requir\", \"requir\", \"requir\", \"requir\", \"research\", \"research\", \"research\", \"research\", \"research\", \"research\", \"research\", \"research\", \"research\", \"research\", \"respect\", \"respect\", \"respect\", \"respect\", \"respect\", \"respect\", \"respect\", \"respect\", \"respect\", \"respect\", \"respons\", \"respons\", \"respons\", \"respons\", \"respons\", \"respons\", \"respons\", \"respons\", \"respons\", \"result\", \"result\", \"result\", \"result\", \"result\", \"result\", \"result\", \"result\", \"result\", \"result\", \"retail\", \"retail\", \"retail\", \"retail\", \"retail\", \"retail\", \"retail\", \"retail\", \"retail\", \"retail\", \"rich\", \"rich\", \"rich\", \"rich\", \"rich\", \"rich\", \"right\", \"right\", \"right\", \"right\", \"right\", \"right\", \"robust\", \"robust\", \"robust\", \"satisfi\", \"satisfi\", \"satisfi\", \"screen\", \"screen\", \"screen\", \"screen\", \"screen\", \"screen\", \"screen\", \"screen\", \"screen\", \"screen\", \"seamless\", \"seamless\", \"seamless\", \"seamless\", \"search\", \"search\", \"search\", \"search\", \"search\", \"search\", \"search\", \"search\", \"search\", \"search\", \"second\", \"second\", \"second\", \"second\", \"second\", \"second\", \"second\", \"second\", \"second\", \"secur\", \"secur\", \"secur\", \"secur\", \"secur\", \"secur\", \"secur\", \"secur\", \"secur\", \"secur\", \"self\", \"self\", \"self\", \"self\", \"self\", \"self\", \"sell\", \"sell\", \"sell\", \"sell\", \"sell\", \"sell\", \"sell\", \"sell\", \"sell\", \"sell\", \"septemb\", \"septemb\", \"septemb\", \"septemb\", \"septemb\", \"septemb\", \"septemb\", \"septemb\", \"septemb\", \"septemb\", \"settlement\", \"settlement\", \"settlement\", \"settlement\", \"settlement\", \"seven\", \"seven\", \"seven\", \"seven\", \"seven\", \"seven\", \"seven\", \"seven\", \"share\", \"share\", \"share\", \"share\", \"share\", \"share\", \"share\", \"share\", \"share\", \"share\", \"shipment\", \"shipment\", \"shipment\", \"shipment\", \"shipment\", \"shipment\", \"simplifi\", \"simplifi\", \"simplifi\", \"simplifi\", \"simultan\", \"simultan\", \"simultan\", \"simultan\", \"simultan\", \"singl\", \"singl\", \"singl\", \"singl\", \"singl\", \"singl\", \"singl\", \"singl\", \"singl\", \"sit\", \"sit\", \"sit\", \"sit\", \"sit\", \"sit\", \"sit\", \"sit\", \"sit\", \"sit\", \"size\", \"size\", \"size\", \"size\", \"size\", \"size\", \"size\", \"size\", \"size\", \"size\", \"small\", \"small\", \"small\", \"small\", \"small\", \"small\", \"small\", \"small\", \"small\", \"small\", \"smaller\", \"smaller\", \"smaller\", \"smaller\", \"social\", \"social\", \"social\", \"social\", \"social\", \"social\", \"social\", \"social\", \"social\", \"solv\", \"solv\", \"solv\", \"sourc\", \"sourc\", \"sourc\", \"sourc\", \"sourc\", \"sourc\", \"sourc\", \"sourc\", \"sourc\", \"sourc\", \"south\", \"south\", \"south\", \"south\", \"south\", \"special\", \"special\", \"special\", \"special\", \"special\", \"special\", \"special\", \"special\", \"special\", \"special\", \"specif\", \"specif\", \"specif\", \"specif\", \"specif\", \"specif\", \"specif\", \"specif\", \"specif\", \"specif\", \"state\", \"state\", \"state\", \"state\", \"state\", \"state\", \"state\", \"state\", \"state\", \"state\", \"statist\", \"statist\", \"statist\", \"statist\", \"statist\", \"stock\", \"stock\", \"stock\", \"stock\", \"stock\", \"stock\", \"stock\", \"stock\", \"stock\", \"stockhold\", \"stockhold\", \"stockhold\", \"stockhold\", \"stockhold\", \"storag\", \"storag\", \"storag\", \"storag\", \"storag\", \"storag\", \"store\", \"store\", \"store\", \"store\", \"store\", \"store\", \"store\", \"store\", \"store\", \"subject\", \"subject\", \"subject\", \"subject\", \"subject\", \"subject\", \"subject\", \"subscrib\", \"subscrib\", \"subscrib\", \"subscrib\", \"subscrib\", \"subscrib\", \"subscrib\", \"subscrib\", \"subscrib\", \"subscript\", \"subscript\", \"subscript\", \"subscript\", \"subscript\", \"subscript\", \"subscript\", \"subscript\", \"subscript\", \"subscript\", \"subsidiari\", \"subsidiari\", \"subsidiari\", \"subsidiari\", \"subsidiari\", \"subsidiari\", \"subsidiari\", \"subsidiari\", \"subsidiari\", \"subsidiari\", \"supplement\", \"supplement\", \"supplement\", \"supplement\", \"supplement\", \"supplement\", \"suppli\", \"suppli\", \"suppli\", \"suppli\", \"suppli\", \"suppli\", \"suppli\", \"suppli\", \"suppli\", \"supplier\", \"supplier\", \"supplier\", \"supplier\", \"supplier\", \"supplier\", \"supplier\", \"supplier\", \"supplier\", \"supplier\", \"support\", \"support\", \"support\", \"support\", \"support\", \"support\", \"support\", \"support\", \"support\", \"support\", \"switch\", \"switch\", \"switch\", \"system\", \"system\", \"system\", \"system\", \"system\", \"system\", \"system\", \"system\", \"system\", \"system\", \"tabl\", \"tabl\", \"tabl\", \"tabl\", \"tabl\", \"tailor\", \"tailor\", \"tailor\", \"tailor\", \"tailor\", \"tailor\", \"tailor\", \"tailor\", \"talent\", \"talent\", \"talent\", \"talent\", \"target\", \"target\", \"target\", \"target\", \"target\", \"target\", \"target\", \"target\", \"target\", \"target\", \"technic\", \"technic\", \"technic\", \"technic\", \"technic\", \"telecom\", \"telecom\", \"telecom\", \"telecom\", \"telecom\", \"texa\", \"texa\", \"texa\", \"texa\", \"total\", \"total\", \"total\", \"total\", \"total\", \"total\", \"total\", \"total\", \"total\", \"total\", \"trade\", \"trade\", \"trade\", \"trade\", \"trade\", \"trade\", \"trade\", \"trade\", \"trade\", \"trade\", \"tradit\", \"tradit\", \"tradit\", \"tradit\", \"tradit\", \"tradit\", \"tradit\", \"tradit\", \"tradit\", \"tradit\", \"traffic\", \"traffic\", \"traffic\", \"traffic\", \"traffic\", \"traffic\", \"traffic\", \"traffic\", \"traffic\", \"traffic\", \"train\", \"train\", \"train\", \"train\", \"train\", \"train\", \"transact\", \"transact\", \"transact\", \"transact\", \"transact\", \"transact\", \"transact\", \"transact\", \"transact\", \"transact\", \"transit\", \"transit\", \"travel\", \"travel\", \"travel\", \"travel\", \"travel\", \"travel\", \"travel\", \"travel\", \"travel\", \"understand\", \"understand\", \"understand\", \"understand\", \"understand\", \"uniqu\", \"uniqu\", \"uniqu\", \"uniqu\", \"uniqu\", \"uniqu\", \"uniqu\", \"uniqu\", \"uniqu\", \"uniqu\", \"unit\", \"unit\", \"unit\", \"unit\", \"unit\", \"unit\", \"unit\", \"unit\", \"unit\", \"unit\", \"user\", \"user\", \"user\", \"user\", \"user\", \"user\", \"user\", \"user\", \"user\", \"user\", \"valu\", \"valu\", \"valu\", \"valu\", \"valu\", \"valu\", \"valu\", \"valu\", \"valu\", \"valu\", \"vari\", \"vari\", \"vari\", \"vast\", \"vast\", \"vast\", \"vast\", \"version\", \"version\", \"version\", \"video\", \"video\", \"video\", \"video\", \"video\", \"video\", \"video\", \"video\", \"voic\", \"voic\", \"voic\", \"volum\", \"volum\", \"volum\", \"volum\", \"volum\", \"volum\", \"volum\", \"volum\", \"volum\", \"volum\", \"want\", \"want\", \"want\", \"want\", \"want\", \"want\", \"warehous\", \"warehous\", \"warehous\", \"warehous\", \"washington\", \"washington\", \"washington\", \"washington\", \"washington\", \"watch\", \"watch\", \"watch\", \"wholesal\", \"wholesal\", \"wholesal\", \"wholesal\", \"wholesal\", \"wholesal\", \"wireless\", \"wireless\", \"wireless\", \"wireless\", \"wireless\", \"wireless\", \"wireless\", \"wireless\", \"workforc\", \"workforc\", \"workforc\"]}, \"R\": 30, \"lambda.step\": 0.01, \"plot.opts\": {\"xlab\": \"PC1\", \"ylab\": \"PC2\"}, \"topic.order\": [1, 5, 10, 2, 9, 8, 7, 4, 6, 3]};\n",
       "\n",
       "function LDAvis_load_lib(url, callback){\n",
       "  var s = document.createElement('script');\n",
       "  s.src = url;\n",
       "  s.async = true;\n",
       "  s.onreadystatechange = s.onload = callback;\n",
       "  s.onerror = function(){console.warn(\"failed to load library \" + url);};\n",
       "  document.getElementsByTagName(\"head\")[0].appendChild(s);\n",
       "}\n",
       "\n",
       "if(typeof(LDAvis) !== \"undefined\"){\n",
       "   // already loaded: just create the visualization\n",
       "   !function(LDAvis){\n",
       "       new LDAvis(\"#\" + \"ldavis_el21564115317724006690676112\", ldavis_el21564115317724006690676112_data);\n",
       "   }(LDAvis);\n",
       "}else if(typeof define === \"function\" && define.amd){\n",
       "   // require.js is available: use it to load d3/LDAvis\n",
       "   require.config({paths: {d3: \"https://d3js.org/d3.v5\"}});\n",
       "   require([\"d3\"], function(d3){\n",
       "      window.d3 = d3;\n",
       "      LDAvis_load_lib(\"https://cdn.jsdelivr.net/gh/bmabey/pyLDAvis@3.4.0/pyLDAvis/js/ldavis.v3.0.0.js\", function(){\n",
       "        new LDAvis(\"#\" + \"ldavis_el21564115317724006690676112\", ldavis_el21564115317724006690676112_data);\n",
       "      });\n",
       "    });\n",
       "}else{\n",
       "    // require.js not available: dynamically load d3 & LDAvis\n",
       "    LDAvis_load_lib(\"https://d3js.org/d3.v5.js\", function(){\n",
       "         LDAvis_load_lib(\"https://cdn.jsdelivr.net/gh/bmabey/pyLDAvis@3.4.0/pyLDAvis/js/ldavis.v3.0.0.js\", function(){\n",
       "                 new LDAvis(\"#\" + \"ldavis_el21564115317724006690676112\", ldavis_el21564115317724006690676112_data);\n",
       "            })\n",
       "         });\n",
       "}\n",
       "</script>"
      ],
      "text/plain": [
       "PreparedData(topic_coordinates=              x         y  topics  cluster       Freq\n",
       "topic                                                \n",
       "0     -0.075113  0.017879       1        1  16.359621\n",
       "4      0.019608  0.046814       2        1  16.298910\n",
       "9     -0.009284 -0.048209       3        1  16.123567\n",
       "1      0.026875 -0.028082       4        1  12.665064\n",
       "8      0.063417  0.054773       5        1  11.269665\n",
       "7      0.008026 -0.007761       6        1   7.120347\n",
       "6     -0.039713  0.004809       7        1   6.716455\n",
       "3      0.032676 -0.034519       8        1   6.635369\n",
       "5      0.010743 -0.032777       9        1   4.548857\n",
       "2     -0.037234  0.027072      10        1   2.262145, topic_info=          Term        Freq       Total Category  logprob  loglift\n",
       "209      trade  152.000000  152.000000  Default  30.0000  30.0000\n",
       "178    process  207.000000  207.000000  Default  29.0000  29.0000\n",
       "416       home  134.000000  134.000000  Default  28.0000  28.0000\n",
       "517   merchant   82.000000   82.000000  Default  27.0000  27.0000\n",
       "90      design  152.000000  152.000000  Default  26.0000  26.0000\n",
       "..         ...         ...         ...      ...      ...      ...\n",
       "51        valu    2.658055   71.849926  Topic10  -5.4322   0.4919\n",
       "201      state    2.908633  113.906018  Topic10  -5.3422   0.1212\n",
       "751   advertis    3.261574  184.862609  Topic10  -5.2276  -0.2485\n",
       "31      integr    2.887707  120.951989  Topic10  -5.3494   0.0539\n",
       "545  enterpris    2.921604  143.474751  Topic10  -5.3377  -0.1052\n",
       "\n",
       "[624 rows x 6 columns], token_table=      Topic      Freq      Term\n",
       "term                           \n",
       "249       2  0.707907   acceler\n",
       "249       5  0.117984   acceler\n",
       "249       6  0.117984   acceler\n",
       "329       1  0.102890    accept\n",
       "329       2  0.068593    accept\n",
       "...     ...       ...       ...\n",
       "328       7  0.082742  wireless\n",
       "328       9  0.013790  wireless\n",
       "841       5  0.187217  workforc\n",
       "841       6  0.187217  workforc\n",
       "841       8  0.187217  workforc\n",
       "\n",
       "[2989 rows x 3 columns], R=30, lambda_step=0.01, plot_opts={'xlab': 'PC1', 'ylab': 'PC2'}, topic_order=[1, 5, 10, 2, 9, 8, 7, 4, 6, 3])"
      ]
     },
     "execution_count": 13,
     "metadata": {},
     "output_type": "execute_result"
    }
   ],
   "source": [
    "import pyLDAvis\n",
    "import pyLDAvis.gensim  # don't skip this\n",
    "import matplotlib.pyplot as plt\n",
    "%matplotlib inline\n",
    "\n",
    "pyLDAvis.enable_notebook()\n",
    "vis = pyLDAvis.gensim.prepare(corpus_25, bow_corpus, dictionary)\n",
    "vis"
   ]
  },
  {
   "cell_type": "code",
   "execution_count": 14,
   "metadata": {},
   "outputs": [
    {
     "data": {
      "text/html": [
       "\n",
       "<link rel=\"stylesheet\" type=\"text/css\" href=\"https://cdn.jsdelivr.net/gh/bmabey/pyLDAvis@3.4.0/pyLDAvis/js/ldavis.v1.0.0.css\">\n",
       "\n",
       "\n",
       "<div id=\"ldavis_el21564115317757606474734681\" style=\"background-color:white;\"></div>\n",
       "<script type=\"text/javascript\">\n",
       "\n",
       "var ldavis_el21564115317757606474734681_data = {\"mdsDat\": {\"x\": [0.0030875179426835615, -0.05403835761527755, -0.011418588617354088, 0.024916577509834097, 0.005662556397847413, 0.01670561927548675, 0.0004628185380115964, 0.004224836805086015, 0.0057121280525514045, 0.004684891711130849], \"y\": [-0.047012523468353704, 0.012919464185487865, -0.011838304687323413, 0.02554149123775614, 0.0031510378354477724, -0.00025091290613644105, 0.006237450293352757, -0.00020766838866026924, 0.002303211450207846, 0.009156754448221458], \"topics\": [1, 2, 3, 4, 5, 6, 7, 8, 9, 10], \"cluster\": [1, 1, 1, 1, 1, 1, 1, 1, 1, 1], \"Freq\": [43.792881514990064, 15.095791862127156, 11.35401983128927, 6.412467979568616, 6.254606727655719, 5.833373232815607, 3.0993904250978326, 3.0621363808024076, 3.034111547734345, 2.0612204979189848]}, \"tinfo\": {\"Term\": [\"travel\", \"septemb\", \"hotel\", \"digit\", \"subscrib\", \"host\", \"client\", \"merchant\", \"wireless\", \"advertis\", \"entertain\", \"rental\", \"supplier\", \"health\", \"airlin\", \"print\", \"merchandis\", \"email\", \"carrier\", \"book\", \"retail\", \"origin\", \"member\", \"content\", \"mobil\", \"enterpris\", \"respect\", \"insur\", \"game\", \"healthcar\", \"screen\", \"traffic\", \"famili\", \"travel\", \"music\", \"storag\", \"remot\", \"fiscal\", \"asset\", \"neutral\", \"radio\", \"gateway\", \"multi\", \"premium\", \"common\", \"ebitda\", \"payment\", \"total\", \"adjust\", \"domest\", \"record\", \"talent\", \"dealer\", \"deploy\", \"wholesal\", \"protect\", \"devic\", \"add\", \"studi\", \"facil\", \"connect\", \"communic\", \"advertis\", \"search\", \"client\", \"media\", \"demand\", \"data\", \"trade\", \"enterpris\", \"profession\", \"septemb\", \"organ\", \"user\", \"march\", \"platform\", \"member\", \"merchant\", \"outsourc\", \"complementari\", \"real\", \"survey\", \"retail\", \"fulli\", \"shift\", \"institut\", \"card\", \"open\", \"risk\", \"complianc\", \"centric\", \"understand\", \"financi\", \"financ\", \"portfolio\", \"polici\", \"connecticut\", \"dispar\", \"contact\", \"agenc\", \"self\", \"gain\", \"credit\", \"site\", \"today\", \"estim\", \"trillion\", \"process\", \"home\", \"inform\", \"interact\", \"consum\", \"quarter\", \"marketplac\", \"client\", \"research\", \"invest\", \"channel\", \"trade\", \"billion\", \"repres\", \"event\", \"price\", \"option\", \"comscor\", \"membership\", \"intellig\", \"project\", \"game\", \"contractu\", \"email\", \"mainten\", \"insight\", \"member\", \"characterist\", \"depart\", \"univers\", \"statist\", \"compens\", \"behavior\", \"implement\", \"discount\", \"import\", \"geographi\", \"adopt\", \"architectur\", \"registr\", \"sit\", \"period\", \"hold\", \"analyz\", \"messag\", \"rat\", \"user\", \"focus\", \"autom\", \"price\", \"advertis\", \"rapid\", \"decemb\", \"enterpris\", \"mobil\", \"liquid\", \"wireless\", \"perform\", \"subscrib\", \"data\", \"septemb\", \"demand\", \"trade\", \"inform\", \"virtual\", \"file\", \"chain\", \"catalog\", \"supplement\", \"wireless\", \"carrier\", \"suppli\", \"print\", \"physic\", \"margin\", \"game\", \"appeal\", \"ship\", \"qualiti\", \"satisfi\", \"law\", \"order\", \"difficult\", \"seven\", \"brand\", \"wholli\", \"europ\", \"cloud\", \"databas\", \"server\", \"background\", \"guarante\", \"section\", \"center\", \"feder\", \"deliveri\", \"supplier\", \"june\", \"learn\", \"mobil\", \"system\", \"price\", \"stock\", \"educ\", \"fiscal\", \"enterpris\", \"connect\", \"retail\", \"integr\", \"graphic\", \"campaign\", \"career\", \"print\", \"circuit\", \"space\", \"metropolitan\", \"bandwidth\", \"practic\", \"financ\", \"entertain\", \"region\", \"goal\", \"kingdom\", \"track\", \"asia\", \"automobil\", \"post\", \"publish\", \"placement\", \"strateg\", \"intend\", \"liabil\", \"attribut\", \"deliveri\", \"learn\", \"shipment\", \"engin\", \"click\", \"manufactur\", \"subscrib\", \"design\", \"commerc\", \"studi\", \"dealer\", \"merchant\", \"mobil\", \"carrier\", \"employe\", \"advertis\", \"perform\", \"automot\", \"content\", \"profession\", \"client\", \"wireless\", \"system\", \"integr\", \"host\", \"cloud\", \"server\", \"digit\", \"rich\", \"qualifi\", \"court\", \"download\", \"click\", \"class\", \"line\", \"particip\", \"cycl\", \"higher\", \"imag\", \"phone\", \"collabor\", \"case\", \"hundr\", \"event\", \"voic\", \"earli\", \"south\", \"element\", \"protocol\", \"task\", \"sign\", \"basic\", \"solv\", \"warehous\", \"face\", \"fix\", \"educ\", \"communic\", \"communiti\", \"deliv\", \"devic\", \"vendor\", \"model\", \"integr\", \"public\", \"media\", \"content\", \"activ\", \"capit\", \"enterpris\", \"mobil\", \"connect\", \"user\", \"insur\", \"merchandis\", \"health\", \"healthcar\", \"cycl\", \"close\", \"rental\", \"cloud\", \"administr\", \"post\", \"respond\", \"submit\", \"social\", \"easi\", \"flagship\", \"afford\", \"soni\", \"california\", \"analyt\", \"respect\", \"realiz\", \"packard\", \"hewlett\", \"decreas\", \"forrest\", \"fulfil\", \"court\", \"septemb\", \"express\", \"list\", \"divis\", \"medium\", \"commerc\", \"small\", \"supplier\", \"reincorpor\", \"format\", \"home\", \"improv\", \"decemb\", \"singl\", \"payment\", \"demand\", \"enterpris\", \"relationship\", \"resourc\", \"retail\", \"entertain\", \"affili\", \"applianc\", \"origin\", \"sophist\", \"afford\", \"live\", \"presenc\", \"rat\", \"airlin\", \"sport\", \"publish\", \"movi\", \"document\", \"registr\", \"express\", \"close\", \"assist\", \"workflow\", \"statist\", \"structur\", \"catalog\", \"consolid\", \"establish\", \"excess\", \"produc\", \"electron\", \"studio\", \"workforc\", \"event\", \"investor\", \"subscrib\", \"general\", \"hardwar\", \"video\", \"retail\", \"varieti\", \"credit\", \"secur\", \"agreement\", \"medium\", \"travel\", \"client\", \"interact\", \"game\", \"subscript\", \"american\", \"health\", \"half\", \"hundr\", \"caus\", \"bandwidth\", \"massachusett\", \"stockhold\", \"area\", \"bring\", \"healthcar\", \"decis\", \"applianc\", \"vertic\", \"park\", \"reli\", \"attribut\", \"personnel\", \"sign\", \"special\", \"specif\", \"character\", \"telecom\", \"vendor\", \"speed\", \"magazin\", \"upgrad\", \"ineffici\", \"suppli\", \"affili\", \"reach\", \"contact\", \"email\", \"distribut\", \"comput\", \"campaign\", \"fee\", \"individu\", \"content\", \"enterpris\", \"mobil\", \"organ\", \"consolid\", \"fulfil\", \"warehous\", \"shop\", \"hotel\", \"memori\", \"personnel\", \"airlin\", \"hour\", \"supplier\", \"print\", \"order\", \"book\", \"expenditur\", \"citi\", \"meaning\", \"store\", \"inventori\", \"reason\", \"consid\", \"commenc\", \"rat\", \"prospectus\", \"calendar\", \"express\", \"way\", \"initi\", \"physic\", \"accumul\", \"respond\", \"distributor\", \"captur\", \"purchas\", \"merchandis\", \"person\", \"suppli\", \"card\", \"manufactur\", \"commerc\", \"digit\", \"incom\", \"consum\"], \"Freq\": [2.0, 2.0, 1.0, 1.0, 1.0, 1.0, 3.0, 1.0, 1.0, 3.0, 0.0, 1.0, 1.0, 0.0, 0.0, 1.0, 1.0, 1.0, 1.0, 1.0, 1.0, 1.0, 2.0, 2.0, 2.0, 3.0, 1.0, 0.0, 1.0, 0.0, 1.7760445756575163, 2.007263763492766, 1.634749984861158, 1.9356042881086635, 1.1893076300963867, 1.2916560979691343, 1.2572126749634251, 1.683377100795771, 1.6419507560509652, 0.9205528295613805, 0.9972020520721929, 0.7967828873588386, 1.199032712753522, 1.2279864371370397, 0.981546463944636, 1.0713024987388595, 1.7345010169754298, 1.3114132777705032, 1.1438566713322984, 0.7839045884852641, 1.0509622064834487, 0.77140759336026, 0.9873285701183167, 1.195615675565099, 0.811497806755786, 0.7215228471536288, 1.2531368022498575, 0.8401472946583641, 0.8690457277580115, 0.9169255600359079, 1.370657843630939, 1.687286024300505, 2.054142169356967, 1.3596052324823058, 2.3675168567490714, 1.3177707000583607, 1.4961981822745518, 1.530898615656501, 1.5937991272350163, 1.8096321039270102, 1.321561244655489, 1.3043985433802334, 1.2831459897475144, 1.364995639787596, 1.2303322393053895, 1.2367775720462078, 1.2143374655871535, 1.1346347283177816, 0.5739970479411675, 0.37380574682551726, 0.6426867274635552, 0.5175261379201952, 0.734759902897278, 0.418232727152174, 0.3531495356719647, 0.8285367470661914, 0.6063627381544998, 0.48725339758146563, 0.48928175557680237, 0.38840227592264187, 0.34342214075044813, 0.3269108995326018, 0.793356321301101, 0.44882289750110843, 0.4803627321945083, 0.3952308824452063, 0.3567961812670106, 0.31036144685868067, 0.429309508521314, 0.40924426209384446, 0.29067778985472814, 0.4012495729072841, 0.3766453800600531, 0.43425265615589936, 0.27357635617143083, 0.3591384786544953, 0.21137550393871068, 0.8091033951783044, 0.605302455197097, 0.6498750529885363, 0.6141511410810224, 0.6274506430013779, 0.5370428321754949, 0.5501178842657463, 0.835913936651351, 0.4889855163983415, 0.4733566292882696, 0.5111599919545379, 0.5901713364000303, 0.4961743670605525, 0.4434719344719411, 0.4312607640151452, 0.46698226646948704, 0.3917276457485085, 0.3956687250910505, 0.4028173041833702, 0.48472985074353353, 0.6243358510149404, 0.47503221383653904, 0.227917329236182, 0.5570336059139865, 0.23749043372355222, 0.23214225420755788, 0.7063654487560863, 0.2094230800052991, 0.19429172886162996, 0.16047656505205657, 0.16546484355197072, 0.3343642029492693, 0.26088749643465, 0.2808781095621562, 0.22071847250280502, 0.20446864133172502, 0.14555737207812602, 0.22021720628015698, 0.3644138293372841, 0.1764961971161147, 0.24047282253793076, 0.2851354454897589, 0.245472241577996, 0.24161482664647396, 0.1999809204278174, 0.16883572240152414, 0.6141685688970718, 0.3250530347489968, 0.3105502586700151, 0.35769807010413984, 0.5109339810678001, 0.27629522358534164, 0.31030714164782325, 0.4447237644719171, 0.3548713003469709, 0.280648444829323, 0.29534652305743936, 0.2849773171972285, 0.28668928946215655, 0.308290878132929, 0.2918909110484886, 0.2908289701336068, 0.29172088712184485, 0.2773788415053558, 0.3511205076806346, 0.2829205110197588, 0.30119565267539344, 0.23971889557559678, 0.20725149766623946, 0.45066343015991295, 0.349936370794796, 0.2714772311315038, 0.2741480409733024, 0.1569211661211466, 0.17588007131243166, 0.2936463699721265, 0.14085545892729937, 0.14841012156588682, 0.22632750174240324, 0.12701359392446376, 0.12540743391721448, 0.2211589060274311, 0.11930387105250433, 0.12822195364103814, 0.26220314116448007, 0.1537875243802622, 0.14941906938717864, 0.12161997257336603, 0.16109934198719902, 0.1325897787880354, 0.0942430432206922, 0.10602161773645316, 0.09125242902857268, 0.19698934977311966, 0.12611881882810802, 0.16588303613447203, 0.1765662755016665, 0.18912929051343552, 0.20288435485250236, 0.2716896729676968, 0.19471308601721668, 0.2154764083932087, 0.16654115968569247, 0.16648628434542323, 0.21136709569925888, 0.2180948622790833, 0.18583297789896963, 0.15948789389718349, 0.15771517896548715, 0.2208396088336213, 0.2725042217041653, 0.27847215688652416, 0.25234184405440463, 0.1898260943766081, 0.15131866102783315, 0.172438386147281, 0.13101397393267875, 0.1279802831473852, 0.22206030365005028, 0.16961358397231852, 0.12625468993079994, 0.1288426637958815, 0.10099041179400285, 0.1461888400393913, 0.09266055449802786, 0.1127096182998891, 0.09061257964053063, 0.12872080677370382, 0.09985255697085665, 0.1668074679912831, 0.1266390495813638, 0.1155765796000541, 0.12412977530974624, 0.17359883718643965, 0.23672589417967294, 0.09209587947544945, 0.21251279764323167, 0.13685477900251888, 0.20200936482941484, 0.28407663279823897, 0.24340876826118593, 0.18617819095668503, 0.18387857322117637, 0.19864646426316815, 0.219611977087666, 0.25632005794889573, 0.1766210218838288, 0.1850467291156392, 0.2909240221788878, 0.1943543735057545, 0.16362471001375095, 0.17925116767287586, 0.17611978392988015, 0.19803767830403526, 0.15796157737137337, 0.15330874068106393, 0.15360722063214113, 0.4316120832074695, 0.18089990324578936, 0.20312083292583857, 0.38414040254626675, 0.1831639671803646, 0.1393558442288396, 0.13188099902868305, 0.15439181378684733, 0.16116863099800102, 0.13863514826522935, 0.1269507324567688, 0.18131586475771339, 0.11272286007884064, 0.2145458263582368, 0.1350826385638573, 0.1444502536753332, 0.14338740140622208, 0.11662491496211276, 0.09053553247805407, 0.2021317739263551, 0.23602582720634535, 0.08638898218146132, 0.11595819718764135, 0.10145237652707333, 0.1578154180338828, 0.07945633607377672, 0.0903365759394713, 0.10069037925111893, 0.10857047865765825, 0.08424844020646337, 0.11605960026520311, 0.14575686724484327, 0.16125157978975815, 0.2923774571366805, 0.19904319971792186, 0.17872739453250883, 0.20676592441291625, 0.14835123424701258, 0.1648528393638509, 0.20079766991686565, 0.166728897761505, 0.2028832668222913, 0.1967511917451392, 0.15213636821860518, 0.1505095501104731, 0.1598787528157472, 0.15545241000161367, 0.15220037331594316, 0.14790316275526028, 0.1623249171218607, 0.16583339381676643, 0.13874584048992644, 0.12078741722033197, 0.08237025383537687, 0.08247453967260157, 0.14800016682685424, 0.07913065105540783, 0.08933236567349571, 0.05883520519602387, 0.058728623459445316, 0.050557647675495636, 0.14170847662684963, 0.08521897023695796, 0.0662465776049418, 0.06766763782875997, 0.0514725128298973, 0.10919208535219416, 0.07188512249235676, 0.14751859876625267, 0.05030022788827455, 0.051212210483957084, 0.05121158259987965, 0.04489135538566882, 0.05446458658243069, 0.05371111934724658, 0.05338754341041223, 0.18350177269616688, 0.04978495069765718, 0.07568926282283639, 0.07074504356432199, 0.08729850961689227, 0.09327408238183085, 0.10547519553942422, 0.08314351527465867, 0.06992321307185848, 0.060835180881499515, 0.09650930900004809, 0.09411095038083574, 0.08146733116297326, 0.07397188571031328, 0.09110546591232524, 0.0856791902389268, 0.08915452860752351, 0.07429123769971761, 0.0719184257175144, 0.07199608673295053, 0.23663113484735354, 0.1274099715765346, 0.11647540965929905, 0.1584720015662881, 0.09686628017740213, 0.09303831190150091, 0.09447844626671946, 0.08487764031170236, 0.08199656326330644, 0.11899514351597643, 0.07222966363282705, 0.08392160067939171, 0.06567300190884558, 0.08788412569829959, 0.06565704232868175, 0.057544443726326014, 0.06274004212634819, 0.05584258352527602, 0.046045882652841735, 0.05269288174126052, 0.059508061093360896, 0.061830408717317195, 0.05299316246391883, 0.07859497331164057, 0.05950715878494174, 0.04546803870178659, 0.105632005956521, 0.04309384280689761, 0.04574233106216399, 0.10456096586298279, 0.10595077146971063, 0.14807253360573483, 0.07297719482794439, 0.08881453099906324, 0.08152354687265595, 0.10728027279709154, 0.0810541397156821, 0.07629959468376794, 0.10962520946168018, 0.08602367852655222, 0.08105120094728914, 0.11590145378028617, 0.14303329146948487, 0.08795197427859557, 0.07696078624202728, 0.08046790241651959, 0.13954708142755898, 0.17154926942323137, 0.07733119747346168, 0.07668805235189316, 0.0766870962146116, 0.08490456841145304, 0.0960316160255306, 0.07321389649595068, 0.11571179590042767, 0.07795986394476667, 0.1017062411220808, 0.11155079820741295, 0.06525942413837289, 0.11219442760630591, 0.06663822376784205, 0.07512661808428, 0.0780621582165256, 0.04488534936178122, 0.055575591246596404, 0.09642744444272641, 0.11727486926052348, 0.044915846415852584, 0.10432995011818341, 0.09829042826636403, 0.055231505998910115, 0.046934146669589796, 0.0576986133673983, 0.05553812804947372, 0.08158518262144929, 0.04229812259078515, 0.07685927542949497, 0.08041295831426483, 0.11990923856644706, 0.07841486111711315, 0.0912036442831123, 0.07361790174950887, 0.09525283600102173, 0.08331128359673359, 0.0961604648372454, 0.08968950155883415, 0.077464901475788, 0.0767068646633419, 0.06510506470985576, 0.0674404699928691, 0.05683417333742527, 0.08709299398236496, 0.11384996784373905, 0.05708192637596085, 0.041641608956391386, 0.08649986969041326, 0.04320211693550647, 0.09503364357496974, 0.08740471090910756, 0.08846955253236796, 0.08503109178981623, 0.0438788477023701, 0.055254043860918894, 0.03645698257120935, 0.058669167169019626, 0.06414247251474665, 0.031668947055430365, 0.036023550779844926, 0.04306215137887859, 0.04008851176208209, 0.029809006674755868, 0.0352909459854786, 0.03423808731021662, 0.03498774703250679, 0.05672187696026578, 0.03423648030451883, 0.03399682345348166, 0.02928654634594801, 0.05909417167066182, 0.05747370255506464, 0.06529297471206551, 0.05077867639992674, 0.05880697739779562, 0.04599481867717572, 0.050392185202815916, 0.04417456205793845, 0.04396157686183548, 0.04750583003722655, 0.04463338116503767, 0.04417462954374204], \"Total\": [2.0, 2.0, 1.0, 1.0, 1.0, 1.0, 3.0, 1.0, 1.0, 3.0, 0.0, 1.0, 1.0, 0.0, 0.0, 1.0, 1.0, 1.0, 1.0, 1.0, 1.0, 1.0, 2.0, 2.0, 2.0, 3.0, 1.0, 0.0, 1.0, 0.0, 2.111836435781081, 2.428626297679347, 1.9839081747031364, 2.465385779483217, 1.5288659949112562, 1.6773595009891802, 1.6536644524816226, 2.234690403368464, 2.184397109256766, 1.2301462686758582, 1.344386705975601, 1.113364765775533, 1.6820332126850115, 1.7230847612314146, 1.390157007197222, 1.5484402527797714, 2.5152577587806384, 1.918376344981649, 1.674786157213669, 1.1489733356087493, 1.5416387448292568, 1.1362739580853378, 1.45844367395646, 1.773063468754103, 1.211827978383735, 1.084934429601124, 1.8869493356629035, 1.2661136995644462, 1.310337038383198, 1.3903175623975588, 2.102717868428082, 2.616483114317757, 3.218535697963337, 2.1091842376477863, 3.911998308283316, 2.0815382849585675, 2.4788143453973293, 2.5650712675787504, 2.7126086215102485, 3.2620029813882936, 2.215340093166057, 2.2310098422201037, 2.1945690618327793, 2.5972539655819515, 2.1033303890261346, 2.201199579443194, 2.3385957828167494, 1.8177160346338384, 1.107998922636124, 0.7577202606321215, 1.3278439675913891, 1.0748071478485122, 1.542896778831275, 0.8945560096256985, 0.7601410306956856, 1.8097399891959522, 1.325615869159658, 1.065934239765247, 1.084591593032751, 0.8769097582642565, 0.7872159130311346, 0.7638704457090795, 1.8594541248491019, 1.084707982271092, 1.1677251645789972, 0.9800734261332339, 0.8860566649087169, 0.7712770964464937, 1.0670400970372238, 1.0337956856566255, 0.7344179214186645, 1.0185938254874338, 1.0060027124342494, 1.1662864219252758, 0.7481839799071398, 0.9836258734840366, 0.5807400331075054, 2.3089967237918247, 1.7843448306346859, 2.134360973669, 1.9881839192807034, 2.123529783971683, 1.7031814843872608, 1.7983520562730009, 3.911998308283316, 1.5334150618243882, 1.457279827524958, 1.7853623427960847, 2.7126086215102485, 1.788037281384369, 1.3902465462424185, 1.2618116679442417, 1.7701638737135486, 0.8419660870165017, 0.8921049311570215, 0.9172785540992998, 1.1288873860001507, 1.5352113466211068, 1.2103477017777382, 0.6429769775074369, 1.7843952818675206, 0.762720301439415, 0.7551569124542971, 2.3385957828167494, 0.7115067127639203, 0.6612659595003814, 0.5608894247202819, 0.5914471095928258, 1.1989091622329684, 0.9354861341829076, 1.0076278282134596, 0.8037360255992283, 0.7451999986842714, 0.5320579847103944, 0.8171986840317249, 1.3540338899096072, 0.6720608473997876, 0.9203922933371055, 1.1010142075435543, 0.9557746084393196, 0.9648933020086876, 0.8121321516499376, 0.6859006247905365, 2.5972539655819515, 1.3773335300878615, 1.348546192887932, 1.7701638737135486, 3.218535697963337, 1.2729236444033776, 1.5453296212891259, 3.2620029813882936, 2.4015989822050487, 1.4181216230836033, 1.6662738512039283, 1.7260274448295319, 1.8587957790402907, 2.5650712675787504, 2.2310098422201037, 2.4788143453973293, 2.7126086215102485, 2.134360973669, 0.8285463809372946, 0.7937112713459067, 0.8941380973036451, 0.7121716020563292, 0.6568436588527616, 1.6662738512039283, 1.3379354039882914, 1.0610723992214885, 1.0919075625986738, 0.634793844173556, 0.7197919648062785, 1.2103477017777382, 0.5896467285134557, 0.7326267642434987, 1.121269163107991, 0.6293356327668816, 0.6237980461996041, 1.1070232560499205, 0.6039777653555105, 0.6632174539609756, 1.3613179208245685, 0.863239537335785, 0.851478328096184, 0.7004236391156252, 0.9517813152168626, 0.7889697231387024, 0.5615363184742244, 0.6378489930976687, 0.5490240087391295, 1.217525011714107, 0.7814559574919897, 1.0715381406965843, 1.1742734097703544, 1.324733254159771, 1.4639731313567277, 2.4015989822050487, 1.463933893394029, 1.7701638737135486, 1.1827482682228914, 1.2114995875485428, 2.234690403368464, 3.2620029813882936, 2.102717868428082, 1.542896778831275, 1.9558932799390603, 0.787202715606279, 1.0414395097222837, 1.0959867817078297, 1.0919075625986738, 0.8465920705464844, 0.7089179372426051, 0.8127208688767835, 0.6227379863334295, 0.6242958466734402, 1.084707982271092, 0.8631900782551518, 0.6519954449378986, 0.6988295602543312, 0.5543428498286143, 0.8300841240993944, 0.5261425849868953, 0.6475226431601974, 0.5293081965882831, 0.7704930958248533, 0.6104286482563352, 1.022162880495514, 0.7786979367321228, 0.7131113669461666, 0.766117867262991, 1.0715381406965843, 1.4639731313567277, 0.5725008999552496, 1.3231081931911421, 0.8549951571014393, 1.2716717834250213, 1.8587957790402907, 1.6207311501379118, 1.2630308896693048, 1.310337038383198, 1.45844367395646, 1.8177160346338384, 2.4015989822050487, 1.3379354039882914, 1.455066670549639, 3.218535697963337, 1.7260274448295319, 1.2829332091433778, 2.0509404373849747, 2.215340093166057, 3.911998308283316, 1.6662738512039283, 1.463933893394029, 1.9558932799390603, 1.4754523858679567, 0.7004236391156252, 0.7889697231387024, 1.761631408316934, 0.8837221637074556, 0.6794773882700381, 0.6437564261446408, 0.783411183952615, 0.8549951571014393, 0.7400244185426522, 0.6937499706195, 1.0126247740980785, 0.636599933117745, 1.2288492093383185, 0.8097473219939129, 0.873794899090015, 0.8675652933098654, 0.7151925400347, 0.5559686928177665, 1.2618116679442417, 1.4741414361854168, 0.5493858235792847, 0.7393458586853581, 0.6470378749704156, 1.0072016476686372, 0.5086679256841518, 0.5870666881345208, 0.65943926604685, 0.7267940977031323, 0.5705080253647932, 0.8047241298362967, 1.05354984013198, 1.2114995875485428, 2.616483114317757, 1.59893339758824, 1.45349274932499, 1.8869493356629035, 1.1518384963388777, 1.3499323646373445, 1.9558932799390603, 1.431992148891498, 2.0815382849585675, 2.0509404373849747, 1.302531045483439, 1.2706675207562577, 3.2620029813882936, 2.4015989822050487, 2.102717868428082, 2.5972539655819515, 0.9951407812387831, 1.0877843227224877, 0.9678697055791536, 0.9011970506204515, 0.636599933117745, 0.682866717687498, 1.2315175360304071, 0.7004236391156252, 0.7917365483881816, 0.5293081965882831, 0.5528779830170911, 0.5001316568947273, 1.4091292995689155, 0.8503725112790932, 0.6745164856248743, 0.718215420695152, 0.5675979582822602, 1.2126511646369935, 0.7990014864970334, 1.6940993810809013, 0.5823339665228868, 0.5940873861443057, 0.5940873395928709, 0.5224982373314716, 0.6465235137664828, 0.6466060149567738, 0.6437564261446408, 2.2310098422201037, 0.6055178531031638, 0.921837864075083, 0.8791094958804455, 1.1518223212313852, 1.2630308896693048, 1.5332954503293703, 1.1742734097703544, 0.9642788809831818, 0.7959908395833901, 1.7843448306346859, 1.7388118026923025, 1.5453296212891259, 1.3315155514547372, 2.5152577587806384, 2.4788143453973293, 3.2620029813882936, 1.3758606376753795, 1.3027828757928872, 1.542896778831275, 0.8631900782551518, 0.5529206808529581, 0.6251220632957901, 1.0459691698159272, 0.6501899673968029, 0.718215420695152, 0.739466235164457, 0.6971094827873348, 0.6859006247905365, 0.9959464225843877, 0.6590026252424533, 0.7704930958248533, 0.6383462138796897, 0.8584729905783838, 0.6720608473997876, 0.6055178531031638, 0.682866717687498, 0.6192256469083145, 0.5131689650932909, 0.5914471095928258, 0.6800934090184692, 0.7121716020563292, 0.6142614107610193, 0.9200478376396706, 0.6976614320371278, 0.5361878981737506, 1.2467000911202553, 0.5175252272157878, 0.5497663663702358, 1.2618116679442417, 1.293304776128202, 1.8587957790402907, 0.893012268783996, 1.1341123695749864, 1.0356528334722235, 1.542896778831275, 1.068912614552311, 1.0060027124342494, 1.7889969097534537, 1.221171376959115, 1.1518223212313852, 2.465385779483217, 3.911998308283316, 1.9881839192807034, 1.2103477017777382, 1.6533492953710895, 0.7169196130514078, 0.9678697055791536, 0.5213350981540777, 0.5559686928177665, 0.557071516526024, 0.6227379863334295, 0.7206346800981058, 0.5853147656425223, 0.9749374020921283, 0.6799859970569792, 0.9011970506204515, 1.0194798479886464, 0.6251220632957901, 1.0821684794259112, 0.6431605112731312, 0.7302062443956657, 0.766117867262991, 0.46722613386207384, 0.5870666881345208, 1.0220147416195453, 1.271739007977554, 0.48922685357784906, 1.156611056030916, 1.1518384963388777, 0.6506080584979255, 0.5658668730040887, 0.7008665799171123, 0.7124685447957153, 1.0610723992214885, 0.5529206808529581, 1.0068956720754914, 1.0670400970372238, 1.7843952818675206, 1.1022421498099788, 1.438079108532727, 1.0414395097222837, 1.7035337037448763, 1.4339080687141268, 2.0509404373849747, 3.2620029813882936, 2.4015989822050487, 2.1945690618327793, 0.6142614107610193, 0.6466060149567738, 0.5705080253647932, 0.8843858973648809, 1.1802892384034391, 0.6136737023609571, 0.46722613386207384, 0.9959464225843877, 0.5132431185212809, 1.1742734097703544, 1.0919075625986738, 1.1070232560499205, 1.0825643531470233, 0.5669944703916182, 0.7216589829798842, 0.5422750199104904, 0.9362787765426845, 1.0370144070591856, 0.5279014316293675, 0.6031924414449521, 0.7309539772423853, 0.6859006247905365, 0.5226442190006437, 0.6199865713196313, 0.6055178531031638, 0.6365201450699567, 1.0341371143917995, 0.634793844173556, 0.6387364489716681, 0.5528779830170911, 1.1381801965878993, 1.2009886927746032, 1.4259523646745527, 1.0877843227224877, 1.547696493310675, 1.0610723992214885, 1.325615869159658, 1.2716717834250213, 1.2630308896693048, 1.761631408316934, 1.8048535568144266, 2.123529783971683], \"Category\": [\"Default\", \"Default\", \"Default\", \"Default\", \"Default\", \"Default\", \"Default\", \"Default\", \"Default\", \"Default\", \"Default\", \"Default\", \"Default\", \"Default\", \"Default\", \"Default\", \"Default\", \"Default\", \"Default\", \"Default\", \"Default\", \"Default\", \"Default\", \"Default\", \"Default\", \"Default\", \"Default\", \"Default\", \"Default\", \"Default\", \"Topic1\", \"Topic1\", \"Topic1\", \"Topic1\", \"Topic1\", \"Topic1\", \"Topic1\", \"Topic1\", \"Topic1\", \"Topic1\", \"Topic1\", \"Topic1\", \"Topic1\", \"Topic1\", \"Topic1\", \"Topic1\", \"Topic1\", \"Topic1\", \"Topic1\", \"Topic1\", \"Topic1\", \"Topic1\", \"Topic1\", \"Topic1\", \"Topic1\", \"Topic1\", \"Topic1\", \"Topic1\", \"Topic1\", \"Topic1\", \"Topic1\", \"Topic1\", \"Topic1\", \"Topic1\", \"Topic1\", \"Topic1\", \"Topic1\", \"Topic1\", \"Topic1\", \"Topic1\", \"Topic1\", \"Topic1\", \"Topic1\", \"Topic1\", \"Topic1\", \"Topic1\", \"Topic1\", \"Topic2\", \"Topic2\", \"Topic2\", \"Topic2\", \"Topic2\", \"Topic2\", \"Topic2\", \"Topic2\", \"Topic2\", \"Topic2\", \"Topic2\", \"Topic2\", \"Topic2\", \"Topic2\", \"Topic2\", \"Topic2\", \"Topic2\", \"Topic2\", \"Topic2\", \"Topic2\", \"Topic2\", \"Topic2\", \"Topic2\", \"Topic2\", \"Topic2\", \"Topic2\", \"Topic2\", \"Topic2\", \"Topic2\", \"Topic2\", \"Topic2\", \"Topic2\", \"Topic2\", \"Topic2\", \"Topic2\", \"Topic2\", \"Topic2\", \"Topic2\", \"Topic2\", \"Topic2\", \"Topic2\", \"Topic2\", \"Topic2\", \"Topic2\", \"Topic2\", \"Topic2\", \"Topic3\", \"Topic3\", \"Topic3\", \"Topic3\", \"Topic3\", \"Topic3\", \"Topic3\", \"Topic3\", \"Topic3\", \"Topic3\", \"Topic3\", \"Topic3\", \"Topic3\", \"Topic3\", \"Topic3\", \"Topic3\", \"Topic3\", \"Topic3\", \"Topic3\", \"Topic3\", \"Topic3\", \"Topic3\", \"Topic3\", \"Topic3\", \"Topic3\", \"Topic3\", \"Topic3\", \"Topic3\", \"Topic3\", \"Topic3\", \"Topic3\", \"Topic3\", \"Topic3\", \"Topic3\", \"Topic3\", \"Topic3\", \"Topic3\", \"Topic3\", \"Topic3\", \"Topic3\", \"Topic3\", \"Topic3\", \"Topic3\", \"Topic3\", \"Topic3\", \"Topic3\", \"Topic3\", \"Topic3\", \"Topic4\", \"Topic4\", \"Topic4\", \"Topic4\", \"Topic4\", \"Topic4\", \"Topic4\", \"Topic4\", \"Topic4\", \"Topic4\", \"Topic4\", \"Topic4\", \"Topic4\", \"Topic4\", \"Topic4\", \"Topic4\", \"Topic4\", \"Topic4\", \"Topic4\", \"Topic4\", \"Topic4\", \"Topic4\", \"Topic4\", \"Topic4\", \"Topic4\", \"Topic4\", \"Topic4\", \"Topic4\", \"Topic4\", \"Topic4\", \"Topic4\", \"Topic4\", \"Topic4\", \"Topic4\", \"Topic4\", \"Topic4\", \"Topic4\", \"Topic4\", \"Topic4\", \"Topic4\", \"Topic4\", \"Topic4\", \"Topic4\", \"Topic4\", \"Topic4\", \"Topic5\", \"Topic5\", \"Topic5\", \"Topic5\", \"Topic5\", \"Topic5\", \"Topic5\", \"Topic5\", \"Topic5\", \"Topic5\", \"Topic5\", \"Topic5\", \"Topic5\", \"Topic5\", \"Topic5\", \"Topic5\", \"Topic5\", \"Topic5\", \"Topic5\", \"Topic5\", \"Topic5\", \"Topic5\", \"Topic5\", \"Topic5\", \"Topic5\", \"Topic5\", \"Topic5\", \"Topic5\", \"Topic5\", \"Topic5\", \"Topic5\", \"Topic5\", \"Topic5\", \"Topic5\", \"Topic5\", \"Topic5\", \"Topic5\", \"Topic5\", \"Topic5\", \"Topic5\", \"Topic5\", \"Topic5\", \"Topic5\", \"Topic5\", \"Topic5\", \"Topic5\", \"Topic5\", \"Topic5\", \"Topic6\", \"Topic6\", \"Topic6\", \"Topic6\", \"Topic6\", \"Topic6\", \"Topic6\", \"Topic6\", \"Topic6\", \"Topic6\", \"Topic6\", \"Topic6\", \"Topic6\", \"Topic6\", \"Topic6\", \"Topic6\", \"Topic6\", \"Topic6\", \"Topic6\", \"Topic6\", \"Topic6\", \"Topic6\", \"Topic6\", \"Topic6\", \"Topic6\", \"Topic6\", \"Topic6\", \"Topic6\", \"Topic6\", \"Topic6\", \"Topic6\", \"Topic6\", \"Topic6\", \"Topic6\", \"Topic6\", \"Topic6\", \"Topic6\", \"Topic6\", \"Topic6\", \"Topic6\", \"Topic6\", \"Topic6\", \"Topic6\", \"Topic6\", \"Topic6\", \"Topic6\", \"Topic6\", \"Topic6\", \"Topic6\", \"Topic7\", \"Topic7\", \"Topic7\", \"Topic7\", \"Topic7\", \"Topic7\", \"Topic7\", \"Topic7\", \"Topic7\", \"Topic7\", \"Topic7\", \"Topic7\", \"Topic7\", \"Topic7\", \"Topic7\", \"Topic7\", \"Topic7\", \"Topic7\", \"Topic7\", \"Topic7\", \"Topic7\", \"Topic7\", \"Topic7\", \"Topic7\", \"Topic7\", \"Topic7\", \"Topic7\", \"Topic7\", \"Topic7\", \"Topic7\", \"Topic7\", \"Topic7\", \"Topic7\", \"Topic7\", \"Topic7\", \"Topic7\", \"Topic7\", \"Topic7\", \"Topic7\", \"Topic7\", \"Topic7\", \"Topic7\", \"Topic7\", \"Topic7\", \"Topic7\", \"Topic7\", \"Topic7\", \"Topic8\", \"Topic8\", \"Topic8\", \"Topic8\", \"Topic8\", \"Topic8\", \"Topic8\", \"Topic8\", \"Topic8\", \"Topic8\", \"Topic8\", \"Topic8\", \"Topic8\", \"Topic8\", \"Topic8\", \"Topic8\", \"Topic8\", \"Topic8\", \"Topic8\", \"Topic8\", \"Topic8\", \"Topic8\", \"Topic8\", \"Topic8\", \"Topic8\", \"Topic8\", \"Topic8\", \"Topic8\", \"Topic8\", \"Topic8\", \"Topic8\", \"Topic8\", \"Topic8\", \"Topic8\", \"Topic8\", \"Topic8\", \"Topic8\", \"Topic8\", \"Topic8\", \"Topic8\", \"Topic8\", \"Topic8\", \"Topic8\", \"Topic8\", \"Topic8\", \"Topic8\", \"Topic9\", \"Topic9\", \"Topic9\", \"Topic9\", \"Topic9\", \"Topic9\", \"Topic9\", \"Topic9\", \"Topic9\", \"Topic9\", \"Topic9\", \"Topic9\", \"Topic9\", \"Topic9\", \"Topic9\", \"Topic9\", \"Topic9\", \"Topic9\", \"Topic9\", \"Topic9\", \"Topic9\", \"Topic9\", \"Topic9\", \"Topic9\", \"Topic9\", \"Topic9\", \"Topic9\", \"Topic9\", \"Topic9\", \"Topic9\", \"Topic9\", \"Topic9\", \"Topic9\", \"Topic9\", \"Topic9\", \"Topic9\", \"Topic9\", \"Topic9\", \"Topic9\", \"Topic9\", \"Topic9\", \"Topic9\", \"Topic10\", \"Topic10\", \"Topic10\", \"Topic10\", \"Topic10\", \"Topic10\", \"Topic10\", \"Topic10\", \"Topic10\", \"Topic10\", \"Topic10\", \"Topic10\", \"Topic10\", \"Topic10\", \"Topic10\", \"Topic10\", \"Topic10\", \"Topic10\", \"Topic10\", \"Topic10\", \"Topic10\", \"Topic10\", \"Topic10\", \"Topic10\", \"Topic10\", \"Topic10\", \"Topic10\", \"Topic10\", \"Topic10\", \"Topic10\", \"Topic10\", \"Topic10\", \"Topic10\", \"Topic10\", \"Topic10\", \"Topic10\", \"Topic10\", \"Topic10\", \"Topic10\", \"Topic10\", \"Topic10\", \"Topic10\"], \"logprob\": [30.0, 29.0, 28.0, 27.0, 26.0, 25.0, 24.0, 23.0, 22.0, 21.0, 20.0, 19.0, 18.0, 17.0, 16.0, 15.0, 14.0, 13.0, 12.0, 11.0, 10.0, 9.0, 8.0, 7.0, 6.0, 5.0, 4.0, 3.0, 2.0, 1.0, -5.3786, -5.2562, -5.4615, -5.2925, -5.7796, -5.697, -5.724, -5.4321, -5.4571, -6.0357, -5.9557, -6.1801, -5.7714, -5.7476, -5.9716, -5.8841, -5.4022, -5.6818, -5.8185, -6.1964, -5.9032, -6.2125, -5.9657, -5.7743, -6.1618, -6.2793, -5.7273, -6.1271, -6.0933, -6.0397, -5.6377, -5.4298, -5.2331, -5.6458, -5.0911, -5.677, -5.55, -5.5271, -5.4868, -5.3598, -5.6741, -5.6872, -5.7036, -5.6418, -5.7457, -5.7404, -5.7587, -4.7616, -5.443, -5.8719, -5.33, -5.5466, -5.1961, -5.7596, -5.9288, -5.076, -5.3882, -5.6069, -5.6027, -5.8336, -5.9567, -6.006, -5.1194, -5.689, -5.6211, -5.8162, -5.9185, -6.0579, -5.7335, -5.7813, -6.1234, -5.8011, -5.8643, -5.722, -6.1841, -5.9119, -6.442, -5.0997, -5.3899, -5.3189, -5.3754, -5.354, -5.5096, -5.4855, -5.0671, -5.6033, -5.6358, -5.559, -5.4152, -5.5887, -5.701, -5.7289, -5.6494, -5.5402, -5.5302, -5.5123, -5.3272, -5.0741, -5.3474, -6.0818, -5.1882, -6.0407, -6.0635, -4.9507, -6.1664, -6.2414, -6.4327, -6.402, -5.6986, -5.9467, -5.8729, -6.1139, -6.1904, -6.5302, -6.1162, -5.6125, -6.3375, -6.0282, -5.8578, -6.0076, -6.0235, -6.2126, -6.3819, -5.0905, -5.7268, -5.7725, -5.6311, -5.2746, -5.8893, -5.7732, -5.4133, -5.639, -5.8737, -5.8227, -5.8584, -5.8524, -5.7798, -5.8344, -5.8381, -5.835, -5.8854, -5.0783, -5.2943, -5.2317, -5.46, -5.6055, -4.8288, -5.0817, -5.3356, -5.3258, -5.8837, -5.7697, -5.2571, -5.9917, -5.9395, -5.5175, -6.0952, -6.1079, -5.5406, -6.1578, -6.0857, -5.3704, -5.9039, -5.9327, -6.1386, -5.8575, -6.0522, -6.3936, -6.2758, -6.4258, -5.6563, -6.1022, -5.8282, -5.7658, -5.697, -5.6268, -5.3348, -5.6679, -5.5666, -5.8242, -5.8246, -5.5859, -5.5545, -5.7146, -5.8675, -5.8787, -5.5171, -5.3069, -5.2852, -5.3838, -5.6684, -5.8952, -5.7645, -6.0392, -6.0627, -5.5116, -5.781, -6.0762, -6.056, -6.2995, -5.9296, -6.3856, -6.1897, -6.408, -6.0569, -6.3109, -5.7977, -6.0732, -6.1646, -6.0932, -5.7578, -5.4476, -6.3917, -5.5555, -5.9956, -5.6062, -5.2653, -5.4198, -5.6878, -5.7003, -5.623, -5.5227, -5.3681, -5.7405, -5.6939, -5.2415, -5.6449, -5.817, -5.7258, -5.7434, -5.6261, -5.8522, -5.8821, -5.8801, -4.7773, -5.6469, -5.531, -4.8938, -5.6344, -5.9078, -5.9629, -5.8053, -5.7624, -5.913, -6.001, -5.6446, -6.1199, -5.4763, -5.9389, -5.8719, -5.8793, -6.0859, -6.3391, -5.5359, -5.3809, -6.386, -6.0916, -6.2252, -5.7834, -6.4696, -6.3413, -6.2328, -6.1574, -6.4111, -6.0907, -5.8629, -5.7619, -5.1668, -5.5513, -5.659, -5.5132, -5.8452, -5.7398, -5.5425, -5.7285, -5.5322, -5.5629, -5.82, -5.8308, -5.7704, -5.7985, -5.8196, -5.8483, -5.1228, -5.1015, -5.2798, -5.4184, -5.8012, -5.7999, -5.2152, -5.8413, -5.7201, -6.1377, -6.1395, -6.2893, -5.2587, -5.7672, -6.0191, -5.9978, -6.2714, -5.5193, -5.9374, -5.2185, -6.2944, -6.2765, -6.2765, -6.4082, -6.2149, -6.2288, -6.2349, -5.0002, -6.3047, -5.8858, -5.9534, -5.7431, -5.6769, -5.554, -5.7919, -5.965, -6.1043, -5.6428, -5.668, -5.8122, -5.9087, -5.7004, -5.7618, -5.7221, -5.9044, -5.9369, -5.9358, -4.7338, -5.3529, -5.4427, -5.1348, -5.627, -5.6673, -5.652, -5.7591, -5.7937, -5.4213, -5.9205, -5.7705, -6.0157, -5.7243, -6.0159, -6.1478, -6.0613, -6.1778, -6.3707, -6.2359, -6.1142, -6.0759, -6.2302, -5.836, -6.1142, -6.3833, -5.5404, -6.437, -6.3773, -5.5506, -5.5374, -5.2026, -5.9102, -5.7138, -5.7995, -5.5249, -5.8052, -5.8657, -5.5033, -5.7457, -5.8053, -5.4476, -5.2373, -5.7236, -5.857, -5.8125, -5.2527, -5.0463, -5.8431, -5.8514, -5.8514, -5.7496, -5.6265, -5.8978, -5.44, -5.835, -5.5691, -5.4767, -6.0128, -5.4709, -5.9919, -5.872, -5.8336, -6.387, -6.1734, -5.6224, -5.4266, -6.3864, -5.5436, -5.6032, -6.1796, -6.3424, -6.1359, -6.1741, -5.7895, -6.4464, -5.8492, -5.804, -5.4044, -5.8291, -5.6781, -5.8923, -5.6346, -5.7686, -5.6251, -5.6948, -5.8413, -5.8512, -5.6285, -5.5933, -5.7644, -5.3376, -5.0696, -5.76, -6.0754, -5.3444, -6.0386, -5.2503, -5.334, -5.3219, -5.3615, -6.0231, -5.7926, -6.2084, -5.7326, -5.6434, -6.3492, -6.2204, -6.0419, -6.1134, -6.4097, -6.2409, -6.2712, -6.2495, -5.7664, -6.2712, -6.2783, -6.4274, -5.7254, -5.7532, -5.6256, -5.8771, -5.7303, -5.976, -5.8847, -6.0164, -6.0212, -5.9437, -6.006, -6.0164], \"loglift\": [30.0, 29.0, 28.0, 27.0, 26.0, 25.0, 24.0, 23.0, 22.0, 21.0, 20.0, 19.0, 18.0, 17.0, 16.0, 15.0, 14.0, 13.0, 12.0, 11.0, 10.0, 9.0, 8.0, 7.0, 6.0, 5.0, 4.0, 3.0, 2.0, 1.0, 0.6525, 0.6351, 0.6321, 0.5838, 0.5745, 0.5644, 0.5516, 0.5424, 0.5402, 0.5358, 0.527, 0.4911, 0.4872, 0.487, 0.4777, 0.4573, 0.454, 0.4453, 0.4444, 0.4434, 0.4426, 0.4384, 0.4356, 0.4317, 0.4247, 0.4178, 0.4164, 0.4156, 0.4151, 0.4094, 0.3978, 0.387, 0.3766, 0.3866, 0.3235, 0.3685, 0.3208, 0.3096, 0.2939, 0.2365, 0.3091, 0.289, 0.289, 0.1824, 0.2895, 0.2492, 0.1703, 1.4195, 1.2331, 1.1842, 1.1651, 1.1599, 1.1489, 1.1305, 1.1241, 1.1095, 1.1086, 1.1079, 1.0947, 1.0764, 1.0612, 1.042, 1.039, 1.0083, 1.0025, 0.9826, 0.9811, 0.9804, 0.9803, 0.9641, 0.9639, 0.9592, 0.9083, 0.9028, 0.8847, 0.8832, 0.8801, 0.8421, 0.8097, 0.7016, 0.716, 0.6716, 0.7366, 0.7063, 0.3475, 0.7478, 0.7663, 0.6401, 0.3655, 0.6088, 0.7482, 0.8172, 0.5582, 1.4104, 1.3626, 1.3527, 1.3302, 1.2759, 1.2403, 1.1385, 1.0114, 1.0088, 0.996, 0.9784, 0.9526, 0.9508, 0.9242, 0.9018, 0.8987, 0.8986, 0.8982, 0.8832, 0.8824, 0.8794, 0.8643, 0.863, 0.8385, 0.8334, 0.8246, 0.8163, 0.7909, 0.7742, 0.7738, 0.7337, 0.7317, 0.7072, 0.5765, 0.3352, 0.648, 0.5702, 0.183, 0.2635, 0.5556, 0.4454, 0.3744, 0.3063, 0.0569, 0.1418, 0.0328, -0.0543, 0.1351, 1.8884, 1.7154, 1.6588, 1.6581, 1.5934, 1.4393, 1.4058, 1.3838, 1.3649, 1.3494, 1.3378, 1.3306, 1.3151, 1.1503, 1.1467, 1.1466, 1.1427, 1.1364, 1.1251, 1.1036, 1.0998, 1.0218, 1.0067, 0.9961, 0.9706, 0.9635, 0.9621, 0.9525, 0.9524, 0.9255, 0.923, 0.8814, 0.8522, 0.8004, 0.7707, 0.5677, 0.7296, 0.6409, 0.7866, 0.7622, 0.3887, 0.0418, 0.3208, 0.4775, 0.2291, 1.5008, 1.4311, 1.4018, 1.307, 1.2767, 1.2275, 1.2215, 1.213, 1.1871, 1.1857, 1.1447, 1.1301, 1.081, 1.0691, 1.0352, 1.0352, 1.0235, 1.0069, 0.9825, 0.9614, 0.959, 0.9556, 0.9521, 0.9518, 0.9517, 0.9498, 0.9447, 0.9431, 0.9397, 0.9321, 0.8934, 0.876, 0.8573, 0.8081, 0.7783, 0.6584, 0.5344, 0.747, 0.7097, 0.3682, 0.588, 0.7125, 0.3346, 0.2399, -0.2115, 0.4159, 0.5154, 0.2276, 1.6124, 1.4878, 1.4846, 1.3186, 1.2678, 1.2573, 1.2562, 1.2174, 1.1729, 1.1667, 1.1433, 1.1215, 1.1104, 1.0963, 1.0507, 1.0417, 1.0414, 1.028, 1.0266, 1.0102, 1.0097, 0.9916, 0.989, 0.9888, 0.9881, 0.985, 0.97, 0.9622, 0.9403, 0.9288, 0.9052, 0.8636, 0.8249, 0.65, 0.758, 0.7457, 0.6304, 0.792, 0.7388, 0.5653, 0.6911, 0.5133, 0.4975, 0.6943, 0.7083, -0.1741, 0.104, 0.2158, -0.0241, 1.6607, 1.5931, 1.5315, 1.4643, 1.429, 1.3602, 1.3552, 1.2934, 1.2921, 1.2771, 1.2318, 1.1822, 1.177, 1.1735, 1.1534, 1.1118, 1.0736, 1.0665, 1.0657, 1.033, 1.0249, 1.0229, 1.0229, 1.0196, 0.9999, 0.9858, 0.9842, 0.976, 0.9756, 0.9742, 0.9541, 0.8942, 0.8682, 0.7973, 0.8261, 0.85, 0.9025, 0.5568, 0.5575, 0.5312, 0.5836, 0.1559, 0.109, -0.1258, 0.5551, 0.5772, 0.4092, 2.1919, 2.0183, 1.8058, 1.5989, 1.5821, 1.4423, 1.4285, 1.3803, 1.362, 1.3614, 1.2752, 1.2689, 1.2119, 1.2069, 1.1602, 1.1325, 1.0988, 1.0801, 1.0751, 1.068, 1.0499, 1.0421, 1.0358, 1.0259, 1.0244, 1.0186, 1.0178, 1.0004, 0.9996, 0.9955, 0.9841, 0.9561, 0.9816, 0.939, 0.9442, 0.8201, 0.9068, 0.907, 0.6937, 0.8331, 0.832, 0.4287, 0.1773, 0.3679, 0.7307, 0.4634, 1.8587, 1.765, 1.587, 1.5143, 1.5123, 1.5027, 1.4798, 1.4165, 1.364, 1.3294, 1.3136, 1.2827, 1.2357, 1.2288, 1.2281, 1.2211, 1.2114, 1.1525, 1.1379, 1.1345, 1.1116, 1.1072, 1.0896, 1.0341, 1.0289, 1.0056, 0.9982, 0.9436, 0.9299, 0.9248, 0.9226, 0.9098, 0.7952, 0.8522, 0.7373, 0.8458, 0.6113, 0.6497, 0.4352, -0.0985, 0.0612, 0.1415, 1.6375, 1.6214, 1.5755, 1.564, 1.5432, 1.5069, 1.4642, 1.4383, 1.407, 1.3677, 1.3567, 1.3551, 1.3378, 1.323, 1.3123, 1.1822, 1.1119, 1.0989, 1.0683, 1.0638, 1.0502, 1.0422, 1.0178, 1.0158, 1.0091, 0.9809, 0.9787, 0.9619, 0.9486, 0.9439, 0.9238, 0.8423, 0.7982, 0.8175, 0.6116, 0.7434, 0.6121, 0.5219, 0.5239, 0.2687, 0.1821, 0.0092]}, \"token.table\": {\"Topic\": [1, 1, 1, 3, 1, 1, 1, 1, 1, 1, 1, 1, 1, 2, 1, 1, 1, 2, 1, 2, 1, 1, 1, 1, 1, 1, 2, 1, 1, 1, 1, 1, 1, 1, 1, 1, 1, 1, 1, 1, 1, 1, 3, 1, 1, 1, 1, 1, 1, 1, 2, 1, 1, 1, 1, 1, 1, 2, 1, 1, 1, 1, 1, 1, 2, 1, 2, 1, 1, 2, 1, 1, 1, 1, 1, 1, 2, 1, 1, 1, 3, 2, 1, 1, 1, 1, 1, 2, 1, 1, 1, 1, 1, 1, 2, 1, 3, 1, 1, 1, 1, 2, 1, 1, 1, 2, 1, 1, 1, 1, 1, 1, 1, 2, 1, 1, 1, 1, 1, 1, 1, 1, 1, 1, 1, 1, 1, 2, 1, 1, 1, 1, 2, 1, 1, 1, 3, 1, 1, 1], \"Freq\": [0.7898184818188196, 0.5970911544096433, 0.6214005957012015, 0.31070029785060077, 0.8188858819227631, 0.7385339521057026, 0.915584438161289, 0.7415393000802478, 0.7794638044077961, 0.559272455004831, 0.9237326142256505, 0.7345822637773597, 0.8326473063536795, 0.7543663464393541, 0.9124197633494653, 0.7474202394368744, 0.560110391055904, 0.560110391055904, 0.5112476648482117, 0.25562383242410586, 0.7193432071505069, 0.7643848297952789, 0.6254169194966817, 0.6953720376484022, 0.4755749760891911, 0.47091404488317495, 0.47091404488317495, 0.4875812002005466, 0.7797054316887895, 0.6856624070281742, 0.6471111316469765, 0.6879979280697516, 0.40341867548765936, 0.5639956028774765, 0.6170054792338061, 0.5299559352761797, 0.5676556374272425, 0.8785955009565765, 0.8703422168367204, 0.6458111626876094, 0.802117531812662, 0.5604139453638408, 0.5604139453638408, 0.6872537322446254, 0.7557960907098211, 0.6131202244177009, 0.7192601367097252, 1.0081111744495288, 0.5870150956225293, 0.5377922405486352, 0.5377922405486352, 0.8949785603344861, 0.7260405545606727, 0.898178234788518, 0.8817468416950204, 0.8137694945814029, 0.5604297907172479, 0.5604297907172479, 0.6777582316976872, 0.8472499515056886, 0.5751053670395165, 0.5540615725992771, 0.6973947785207466, 0.4685243088384362, 0.4685243088384362, 0.5525655652027057, 0.5525655652027057, 0.5112753391285014, 0.5029715763729674, 0.5029715763729674, 0.7732129490727812, 0.7548689495488379, 0.6830726456524898, 0.7051581357497194, 0.47543648169463815, 0.5560646462475498, 0.5560646462475498, 0.4804139358022448, 0.868189460793679, 0.42760703125682464, 0.42760703125682464, 0.5501409356282873, 0.4163892504159214, 0.5945185817132057, 0.6540795617983809, 0.8129114605829842, 0.4556703260752509, 0.9025279533853917, 0.795147134729274, 0.5793650633977974, 0.6461215130499531, 0.4542977426213009, 0.5803545028657459, 0.4330885313504491, 0.4330885313504491, 0.45139796055911596, 0.6513761132634476, 0.9217146886633968, 0.6983278510109835, 0.7012856984379219, 0.5871364908360083, 0.5871364908360083, 0.7438335975468571, 0.7855930749630332, 0.993151552572197, 0.7531005332003926, 0.6486603968368442, 0.7268177987049441, 0.6047176006591416, 0.8120063017724737, 0.6521391532506828, 0.7675876146218069, 0.5902841422219051, 0.6481314976608399, 0.9470430408879099, 0.47411695107072505, 0.5589724580003956, 0.4482275161121156, 0.7510238982244387, 0.6521900262504451, 0.7096580848229631, 0.7863248620409149, 0.8454884499662171, 0.59617511893561, 0.7631624312733177, 0.5379827150868112, 0.6048328703436818, 0.9303994693389815, 0.8800694523396767, 0.8645948824245635, 0.5212741507243542, 0.7372976640052472, 0.3686488320026236, 0.8235108060515868, 0.8112320662526215, 0.38502203221237, 0.38502203221237, 0.6783609601176833, 0.8251996305067502, 0.6001414469041044], \"Term\": [\"add\", \"adjust\", \"advertis\", \"advertis\", \"agreement\", \"architectur\", \"asset\", \"autom\", \"automot\", \"billion\", \"book\", \"brand\", \"captur\", \"card\", \"career\", \"carrier\", \"channel\", \"channel\", \"client\", \"client\", \"common\", \"communic\", \"communiti\", \"comput\", \"connect\", \"consum\", \"consum\", \"content\", \"data\", \"dealer\", \"decemb\", \"deliv\", \"demand\", \"deploy\", \"design\", \"devic\", \"digit\", \"distributor\", \"domest\", \"ebitda\", \"electron\", \"email\", \"email\", \"employe\", \"engin\", \"enterpris\", \"facil\", \"famili\", \"fee\", \"financi\", \"financi\", \"fiscal\", \"focus\", \"gateway\", \"hardwar\", \"higher\", \"home\", \"home\", \"host\", \"hotel\", \"improv\", \"incom\", \"individu\", \"inform\", \"inform\", \"institut\", \"institut\", \"integr\", \"interact\", \"interact\", \"investor\", \"june\", \"learn\", \"liquid\", \"march\", \"marketplac\", \"marketplac\", \"media\", \"medium\", \"member\", \"member\", \"merchant\", \"mobil\", \"multi\", \"music\", \"neutral\", \"organ\", \"outsourc\", \"payment\", \"perform\", \"person\", \"platform\", \"premium\", \"process\", \"process\", \"profession\", \"project\", \"protect\", \"public\", \"purchas\", \"quarter\", \"quarter\", \"radio\", \"rapid\", \"reach\", \"real\", \"record\", \"relationship\", \"remot\", \"rental\", \"research\", \"resourc\", \"respect\", \"retail\", \"screen\", \"search\", \"secur\", \"septemb\", \"singl\", \"small\", \"social\", \"specif\", \"stock\", \"storag\", \"studi\", \"subscrib\", \"subscript\", \"survey\", \"talent\", \"telecom\", \"total\", \"trade\", \"trade\", \"traffic\", \"travel\", \"user\", \"user\", \"voic\", \"wholesal\", \"wireless\"]}, \"R\": 30, \"lambda.step\": 0.01, \"plot.opts\": {\"xlab\": \"PC1\", \"ylab\": \"PC2\"}, \"topic.order\": [1, 9, 2, 6, 10, 3, 5, 7, 8, 4]};\n",
       "\n",
       "function LDAvis_load_lib(url, callback){\n",
       "  var s = document.createElement('script');\n",
       "  s.src = url;\n",
       "  s.async = true;\n",
       "  s.onreadystatechange = s.onload = callback;\n",
       "  s.onerror = function(){console.warn(\"failed to load library \" + url);};\n",
       "  document.getElementsByTagName(\"head\")[0].appendChild(s);\n",
       "}\n",
       "\n",
       "if(typeof(LDAvis) !== \"undefined\"){\n",
       "   // already loaded: just create the visualization\n",
       "   !function(LDAvis){\n",
       "       new LDAvis(\"#\" + \"ldavis_el21564115317757606474734681\", ldavis_el21564115317757606474734681_data);\n",
       "   }(LDAvis);\n",
       "}else if(typeof define === \"function\" && define.amd){\n",
       "   // require.js is available: use it to load d3/LDAvis\n",
       "   require.config({paths: {d3: \"https://d3js.org/d3.v5\"}});\n",
       "   require([\"d3\"], function(d3){\n",
       "      window.d3 = d3;\n",
       "      LDAvis_load_lib(\"https://cdn.jsdelivr.net/gh/bmabey/pyLDAvis@3.4.0/pyLDAvis/js/ldavis.v3.0.0.js\", function(){\n",
       "        new LDAvis(\"#\" + \"ldavis_el21564115317757606474734681\", ldavis_el21564115317757606474734681_data);\n",
       "      });\n",
       "    });\n",
       "}else{\n",
       "    // require.js not available: dynamically load d3 & LDAvis\n",
       "    LDAvis_load_lib(\"https://d3js.org/d3.v5.js\", function(){\n",
       "         LDAvis_load_lib(\"https://cdn.jsdelivr.net/gh/bmabey/pyLDAvis@3.4.0/pyLDAvis/js/ldavis.v3.0.0.js\", function(){\n",
       "                 new LDAvis(\"#\" + \"ldavis_el21564115317757606474734681\", ldavis_el21564115317757606474734681_data);\n",
       "            })\n",
       "         });\n",
       "}\n",
       "</script>"
      ],
      "text/plain": [
       "PreparedData(topic_coordinates=              x         y  topics  cluster       Freq\n",
       "topic                                                \n",
       "0      0.003088 -0.047013       1        1  43.792882\n",
       "8     -0.054038  0.012919       2        1  15.095792\n",
       "1     -0.011419 -0.011838       3        1  11.354020\n",
       "5      0.024917  0.025541       4        1   6.412468\n",
       "9      0.005663  0.003151       5        1   6.254607\n",
       "2      0.016706 -0.000251       6        1   5.833373\n",
       "4      0.000463  0.006237       7        1   3.099390\n",
       "6      0.004225 -0.000208       8        1   3.062136\n",
       "7      0.005712  0.002303       9        1   3.034112\n",
       "3      0.004685  0.009157      10        1   2.061220, topic_info=           Term      Freq     Total Category  logprob  loglift\n",
       "680      travel  2.000000  2.000000  Default  30.0000  30.0000\n",
       "380     septemb  2.000000  2.000000  Default  29.0000  29.0000\n",
       "712       hotel  1.000000  1.000000  Default  28.0000  28.0000\n",
       "270       digit  1.000000  1.000000  Default  27.0000  27.0000\n",
       "441    subscrib  1.000000  1.000000  Default  26.0000  26.0000\n",
       "..          ...       ...       ...      ...      ...      ...\n",
       "293  manufactur  0.044175  1.271672  Topic10  -6.0164   0.5219\n",
       "11      commerc  0.043962  1.263031  Topic10  -6.0212   0.5239\n",
       "270       digit  0.047506  1.761631  Topic10  -5.9437   0.2687\n",
       "124       incom  0.044633  1.804854  Topic10  -6.0060   0.1821\n",
       "266      consum  0.044175  2.123530  Topic10  -6.0164   0.0092\n",
       "\n",
       "[490 rows x 6 columns], token_table=      Topic      Freq       Term\n",
       "term                            \n",
       "1         1  0.789818        add\n",
       "788       1  0.597091     adjust\n",
       "751       1  0.621401   advertis\n",
       "751       3  0.310700   advertis\n",
       "3         1  0.818886  agreement\n",
       "...     ...       ...        ...\n",
       "50        1  0.385022       user\n",
       "50        3  0.385022       user\n",
       "215       1  0.678361       voic\n",
       "218       1  0.825200   wholesal\n",
       "328       1  0.600141   wireless\n",
       "\n",
       "[140 rows x 3 columns], R=30, lambda_step=0.01, plot_opts={'xlab': 'PC1', 'ylab': 'PC2'}, topic_order=[1, 9, 2, 6, 10, 3, 5, 7, 8, 4])"
      ]
     },
     "execution_count": 14,
     "metadata": {},
     "output_type": "execute_result"
    }
   ],
   "source": [
    "vis = pyLDAvis.gensim.prepare(corpus_tfidf_25, tfidf_corpus, dictionary)\n",
    "vis"
   ]
  },
  {
   "cell_type": "markdown",
   "metadata": {},
   "source": [
    "The screenshots folder shows visuliation of the intertopic distance map for the 10 topic model and 10 topic model with tfidf\n",
    "\n",
    "You can see that normal 10 topic model's topics are more evenly spread so this is the chosen model for the following steps.\n",
    "## Print topics for model 10\n"
   ]
  },
  {
   "cell_type": "code",
   "execution_count": 15,
   "metadata": {},
   "outputs": [
    {
     "data": {
      "text/plain": [
       "[(0,\n",
       "  '0.019*\"email\" + 0.018*\"advertis\" + 0.017*\"home\" + 0.016*\"improv\" + 0.013*\"project\" + 0.011*\"user\" + 0.008*\"content\" + 0.007*\"supplier\" + 0.007*\"target\" + 0.006*\"design\"'),\n",
       " (1,\n",
       "  '0.025*\"trade\" + 0.013*\"price\" + 0.013*\"client\" + 0.012*\"consum\" + 0.011*\"inform\" + 0.010*\"platform\" + 0.010*\"retail\" + 0.009*\"secur\" + 0.009*\"broker\" + 0.009*\"dealer\"'),\n",
       " (2,\n",
       "  '0.018*\"print\" + 0.015*\"design\" + 0.014*\"process\" + 0.012*\"supplier\" + 0.010*\"order\" + 0.009*\"purchas\" + 0.009*\"inform\" + 0.009*\"tradit\" + 0.009*\"system\" + 0.008*\"improv\"'),\n",
       " (3,\n",
       "  '0.016*\"septemb\" + 0.014*\"organ\" + 0.014*\"trade\" + 0.010*\"platform\" + 0.010*\"game\" + 0.010*\"perform\" + 0.008*\"decemb\" + 0.008*\"incom\" + 0.008*\"social\" + 0.008*\"enterpris\"'),\n",
       " (4,\n",
       "  '0.016*\"data\" + 0.013*\"design\" + 0.011*\"purchas\" + 0.011*\"integr\" + 0.009*\"channel\" + 0.009*\"sell\" + 0.008*\"tradit\" + 0.008*\"interact\" + 0.008*\"process\" + 0.007*\"enterpris\"'),\n",
       " (5,\n",
       "  '0.020*\"inform\" + 0.012*\"financi\" + 0.012*\"event\" + 0.012*\"advertis\" + 0.012*\"health\" + 0.010*\"content\" + 0.010*\"organ\" + 0.009*\"client\" + 0.009*\"healthcar\" + 0.009*\"process\"'),\n",
       " (6,\n",
       "  '0.018*\"process\" + 0.017*\"consum\" + 0.015*\"merchant\" + 0.014*\"subscrib\" + 0.013*\"home\" + 0.012*\"content\" + 0.012*\"user\" + 0.009*\"inform\" + 0.009*\"platform\" + 0.008*\"decemb\"'),\n",
       " (7,\n",
       "  '0.016*\"process\" + 0.014*\"profession\" + 0.011*\"enterpris\" + 0.009*\"platform\" + 0.009*\"communic\" + 0.008*\"unit\" + 0.007*\"member\" + 0.007*\"career\" + 0.007*\"financi\" + 0.007*\"respect\"'),\n",
       " (8,\n",
       "  '0.019*\"mobil\" + 0.015*\"secur\" + 0.014*\"enterpris\" + 0.014*\"wireless\" + 0.011*\"data\" + 0.010*\"user\" + 0.009*\"deliv\" + 0.009*\"communic\" + 0.008*\"integr\" + 0.007*\"demand\"'),\n",
       " (9,\n",
       "  '0.016*\"payment\" + 0.011*\"transact\" + 0.010*\"account\" + 0.010*\"capit\" + 0.009*\"merchant\" + 0.008*\"financi\" + 0.007*\"gain\" + 0.007*\"advertis\" + 0.007*\"research\" + 0.006*\"card\"')]"
      ]
     },
     "execution_count": 15,
     "metadata": {},
     "output_type": "execute_result"
    }
   ],
   "source": [
    "corpus_25.print_topics()"
   ]
  },
  {
   "cell_type": "code",
   "execution_count": 78,
   "metadata": {},
   "outputs": [
    {
     "data": {
      "text/plain": [
       "[(0,\n",
       "  '0.019*\"email\" + 0.018*\"advertis\" + 0.017*\"home\" + 0.016*\"improv\" + 0.013*\"project\" + 0.011*\"user\" + 0.008*\"content\" + 0.007*\"supplier\" + 0.007*\"target\" + 0.006*\"design\"'),\n",
       " (1,\n",
       "  '0.025*\"trade\" + 0.013*\"price\" + 0.013*\"client\" + 0.012*\"consum\" + 0.011*\"inform\" + 0.010*\"platform\" + 0.010*\"retail\" + 0.009*\"secur\" + 0.009*\"broker\" + 0.009*\"dealer\"'),\n",
       " (2,\n",
       "  '0.018*\"print\" + 0.015*\"design\" + 0.014*\"process\" + 0.012*\"supplier\" + 0.010*\"order\" + 0.009*\"purchas\" + 0.009*\"inform\" + 0.009*\"tradit\" + 0.009*\"system\" + 0.008*\"improv\"'),\n",
       " (3,\n",
       "  '0.016*\"septemb\" + 0.014*\"organ\" + 0.014*\"trade\" + 0.010*\"platform\" + 0.010*\"game\" + 0.010*\"perform\" + 0.008*\"decemb\" + 0.008*\"incom\" + 0.008*\"social\" + 0.008*\"enterpris\"'),\n",
       " (4,\n",
       "  '0.016*\"data\" + 0.013*\"design\" + 0.011*\"purchas\" + 0.011*\"integr\" + 0.009*\"channel\" + 0.009*\"sell\" + 0.008*\"tradit\" + 0.008*\"interact\" + 0.008*\"process\" + 0.007*\"enterpris\"'),\n",
       " (5,\n",
       "  '0.020*\"inform\" + 0.012*\"financi\" + 0.012*\"event\" + 0.012*\"advertis\" + 0.012*\"health\" + 0.010*\"content\" + 0.010*\"organ\" + 0.009*\"client\" + 0.009*\"healthcar\" + 0.009*\"process\"'),\n",
       " (6,\n",
       "  '0.018*\"process\" + 0.017*\"consum\" + 0.015*\"merchant\" + 0.014*\"subscrib\" + 0.013*\"home\" + 0.012*\"content\" + 0.012*\"user\" + 0.009*\"inform\" + 0.009*\"platform\" + 0.008*\"decemb\"'),\n",
       " (7,\n",
       "  '0.016*\"process\" + 0.014*\"profession\" + 0.011*\"enterpris\" + 0.009*\"platform\" + 0.009*\"communic\" + 0.008*\"unit\" + 0.007*\"member\" + 0.007*\"career\" + 0.007*\"financi\" + 0.007*\"respect\"'),\n",
       " (8,\n",
       "  '0.019*\"mobil\" + 0.015*\"secur\" + 0.014*\"enterpris\" + 0.014*\"wireless\" + 0.011*\"data\" + 0.010*\"user\" + 0.009*\"deliv\" + 0.009*\"communic\" + 0.008*\"integr\" + 0.007*\"demand\"'),\n",
       " (9,\n",
       "  '0.016*\"payment\" + 0.011*\"transact\" + 0.010*\"account\" + 0.010*\"capit\" + 0.009*\"merchant\" + 0.008*\"financi\" + 0.007*\"gain\" + 0.007*\"advertis\" + 0.007*\"research\" + 0.006*\"card\"')]"
      ]
     },
     "execution_count": 78,
     "metadata": {},
     "output_type": "execute_result"
    }
   ],
   "source": [
    "corpus_25.show_topics()"
   ]
  },
  {
   "cell_type": "code",
   "execution_count": 24,
   "metadata": {},
   "outputs": [
    {
     "name": "stdout",
     "output_type": "stream",
     "text": [
      "\n",
      "Score: 0.5242593288421631\t \n",
      "Topic: 0.025*\"trade\" + 0.013*\"price\" + 0.013*\"client\" + 0.012*\"consum\" + 0.011*\"inform\" + 0.010*\"platform\" + 0.010*\"retail\" + 0.009*\"secur\" + 0.009*\"broker\" + 0.009*\"dealer\" + 0.008*\"process\" + 0.007*\"advertis\" + 0.006*\"travel\" + 0.006*\"septemb\" + 0.006*\"data\" + 0.006*\"incom\" + 0.006*\"total\" + 0.006*\"volum\" + 0.006*\"investor\" + 0.006*\"organ\" + 0.005*\"result\" + 0.005*\"state\" + 0.005*\"institut\" + 0.005*\"billion\" + 0.005*\"electron\"\n",
      "\n",
      "Score: 0.45973554253578186\t \n",
      "Topic: 0.016*\"payment\" + 0.011*\"transact\" + 0.010*\"account\" + 0.010*\"capit\" + 0.009*\"merchant\" + 0.008*\"financi\" + 0.007*\"gain\" + 0.007*\"advertis\" + 0.007*\"research\" + 0.006*\"card\" + 0.006*\"total\" + 0.006*\"trade\" + 0.006*\"repres\" + 0.006*\"growth\" + 0.006*\"septemb\" + 0.006*\"marketplac\" + 0.006*\"inform\" + 0.006*\"host\" + 0.006*\"retail\" + 0.006*\"experi\" + 0.006*\"invest\" + 0.006*\"global\" + 0.005*\"search\" + 0.005*\"volum\" + 0.005*\"march\"\n"
     ]
    }
   ],
   "source": [
    "lda_model = corpus_25\n",
    "for index, score in sorted(lda_model[bow_corpus[2]], key=lambda tup: -1*tup[1]):\n",
    "    print(\"\\nScore: {}\\t \\nTopic: {}\".format(score, lda_model.print_topic(index, 25)))"
   ]
  },
  {
   "cell_type": "code",
   "execution_count": 26,
   "metadata": {},
   "outputs": [
    {
     "data": {
      "text/plain": [
       "25"
      ]
     },
     "execution_count": 26,
     "metadata": {},
     "output_type": "execute_result"
    }
   ],
   "source": [
    "s = \"\"\"\n",
    "0.025*\"trade\" + 0.013*\"price\" + 0.013*\"client\" + 0.012*\"consum\" + 0.011*\"inform\" + 0.010*\"platform\" + 0.010*\"retail\" + 0.009*\"secur\" + 0.009*\"broker\" + 0.009*\"dealer\" + 0.008*\"process\" + 0.007*\"advertis\" + 0.006*\"travel\" + 0.006*\"septemb\" + 0.006*\"data\" + 0.006*\"incom\" + 0.006*\"total\" + 0.006*\"volum\" + 0.006*\"investor\" + 0.006*\"organ\" + 0.005*\"result\" + 0.005*\"state\" + 0.005*\"institut\" + 0.005*\"billion\" + 0.005*\"electron\"\n",
    "\"\"\"\n",
    "#[*s.split(\"+\")][0].split(\"*\")[1].strip()\n",
    "len([*s.split(\"+\")])"
   ]
  },
  {
   "cell_type": "markdown",
   "metadata": {},
   "source": [
    "## Output topic"
   ]
  },
  {
   "cell_type": "code",
   "execution_count": 72,
   "metadata": {},
   "outputs": [],
   "source": [
    "# bow_corpus\n",
    "# corpus_tfidf\n",
    "\n",
    "def output_topics(model, is_tfidf, num_topics):\n",
    "    corpus = tfidf_corpus if is_tfidf else bow_corpus\n",
    "    d = {\"index\": [], \"score\":[], \"topic\":[], \"weight\": []}\n",
    "    for item_index, item in enumerate(corpus):\n",
    "        for index, score in sorted(model[item], key=lambda tup: -1*tup[1]):\n",
    "            topic_str = model.print_topic(index, num_topics)\n",
    "            #print(topic_str)\n",
    "            topic_weight_str_list = [*topic_str.split(\"+\")]\n",
    "            #print(len(topic_scores_str))\n",
    "            for topic_weight_str in topic_weight_str_list:\n",
    "                weight, topic =[*topic_weight_str.split(\"*\")]\n",
    "                #print(s)\n",
    "                weight = float(weight.strip())\n",
    "                topic = topic.strip().replace('\"', '')\n",
    "                d['index'].append(item_index)\n",
    "                d['score'].append(score)\n",
    "                d['topic'].append(topic)\n",
    "                d['weight'].append(weight)\n",
    "            break\n",
    "    return d"
   ]
  },
  {
   "cell_type": "code",
   "execution_count": 71,
   "metadata": {},
   "outputs": [
    {
     "data": {
      "text/plain": [
       "[(8, 0.9867613)]"
      ]
     },
     "execution_count": 71,
     "metadata": {},
     "output_type": "execute_result"
    }
   ],
   "source": [
    "#corpus_25\n",
    "#sorted(model[item], key=lambda tup: -1*tup[1])\n",
    "corpus_25[bow_corpus[0]]"
   ]
  },
  {
   "cell_type": "code",
   "execution_count": 73,
   "metadata": {},
   "outputs": [
    {
     "data": {
      "text/html": [
       "<div>\n",
       "<style scoped>\n",
       "    .dataframe tbody tr th:only-of-type {\n",
       "        vertical-align: middle;\n",
       "    }\n",
       "\n",
       "    .dataframe tbody tr th {\n",
       "        vertical-align: top;\n",
       "    }\n",
       "\n",
       "    .dataframe thead th {\n",
       "        text-align: right;\n",
       "    }\n",
       "</style>\n",
       "<table border=\"1\" class=\"dataframe\">\n",
       "  <thead>\n",
       "    <tr style=\"text-align: right;\">\n",
       "      <th></th>\n",
       "      <th>index</th>\n",
       "      <th>score</th>\n",
       "      <th>topic</th>\n",
       "      <th>weight</th>\n",
       "    </tr>\n",
       "  </thead>\n",
       "  <tbody>\n",
       "    <tr>\n",
       "      <th>0</th>\n",
       "      <td>0</td>\n",
       "      <td>0.986761</td>\n",
       "      <td>mobil</td>\n",
       "      <td>0.019</td>\n",
       "    </tr>\n",
       "    <tr>\n",
       "      <th>1</th>\n",
       "      <td>0</td>\n",
       "      <td>0.986761</td>\n",
       "      <td>secur</td>\n",
       "      <td>0.015</td>\n",
       "    </tr>\n",
       "    <tr>\n",
       "      <th>2</th>\n",
       "      <td>0</td>\n",
       "      <td>0.986761</td>\n",
       "      <td>enterpris</td>\n",
       "      <td>0.014</td>\n",
       "    </tr>\n",
       "    <tr>\n",
       "      <th>3</th>\n",
       "      <td>0</td>\n",
       "      <td>0.986761</td>\n",
       "      <td>wireless</td>\n",
       "      <td>0.014</td>\n",
       "    </tr>\n",
       "    <tr>\n",
       "      <th>4</th>\n",
       "      <td>0</td>\n",
       "      <td>0.986761</td>\n",
       "      <td>data</td>\n",
       "      <td>0.011</td>\n",
       "    </tr>\n",
       "    <tr>\n",
       "      <th>...</th>\n",
       "      <td>...</td>\n",
       "      <td>...</td>\n",
       "      <td>...</td>\n",
       "      <td>...</td>\n",
       "    </tr>\n",
       "    <tr>\n",
       "      <th>3045</th>\n",
       "      <td>121</td>\n",
       "      <td>0.746249</td>\n",
       "      <td>program</td>\n",
       "      <td>0.006</td>\n",
       "    </tr>\n",
       "    <tr>\n",
       "      <th>3046</th>\n",
       "      <td>121</td>\n",
       "      <td>0.746249</td>\n",
       "      <td>enterpris</td>\n",
       "      <td>0.006</td>\n",
       "    </tr>\n",
       "    <tr>\n",
       "      <th>3047</th>\n",
       "      <td>121</td>\n",
       "      <td>0.746249</td>\n",
       "      <td>agreement</td>\n",
       "      <td>0.006</td>\n",
       "    </tr>\n",
       "    <tr>\n",
       "      <th>3048</th>\n",
       "      <td>121</td>\n",
       "      <td>0.746249</td>\n",
       "      <td>entertain</td>\n",
       "      <td>0.006</td>\n",
       "    </tr>\n",
       "    <tr>\n",
       "      <th>3049</th>\n",
       "      <td>121</td>\n",
       "      <td>0.746249</td>\n",
       "      <td>public</td>\n",
       "      <td>0.006</td>\n",
       "    </tr>\n",
       "  </tbody>\n",
       "</table>\n",
       "<p>3050 rows × 4 columns</p>\n",
       "</div>"
      ],
      "text/plain": [
       "      index     score      topic  weight\n",
       "0         0  0.986761      mobil   0.019\n",
       "1         0  0.986761      secur   0.015\n",
       "2         0  0.986761  enterpris   0.014\n",
       "3         0  0.986761   wireless   0.014\n",
       "4         0  0.986761       data   0.011\n",
       "...     ...       ...        ...     ...\n",
       "3045    121  0.746249    program   0.006\n",
       "3046    121  0.746249  enterpris   0.006\n",
       "3047    121  0.746249  agreement   0.006\n",
       "3048    121  0.746249  entertain   0.006\n",
       "3049    121  0.746249     public   0.006\n",
       "\n",
       "[3050 rows x 4 columns]"
      ]
     },
     "execution_count": 73,
     "metadata": {},
     "output_type": "execute_result"
    }
   ],
   "source": [
    "d = output_topics(corpus_25, False, 25)\n",
    "corpus_25_result = pd.DataFrame(d)\n",
    "corpus_25_result"
   ]
  },
  {
   "cell_type": "code",
   "execution_count": 74,
   "metadata": {},
   "outputs": [],
   "source": [
    "def assign_col_name(row):\n",
    "    row_idx = row.name\n",
    "    suffix = str(row_idx%25)\n",
    "    return f\"topic_{suffix}\"\n",
    "corpus_25_result['column_name'] = corpus_25_result.apply(lambda r: assign_col_name(r), axis=1)"
   ]
  },
  {
   "cell_type": "code",
   "execution_count": 75,
   "metadata": {},
   "outputs": [
    {
     "ename": "KeyError",
     "evalue": "\"['prob'] not in index\"",
     "output_type": "error",
     "traceback": [
      "\u001b[0;31m---------------------------------------------------------------------------\u001b[0m",
      "\u001b[0;31mKeyError\u001b[0m                                  Traceback (most recent call last)",
      "Cell \u001b[0;32mIn[75], line 1\u001b[0m\n\u001b[0;32m----> 1\u001b[0m corpus_25_result_pivoted \u001b[39m=\u001b[39m corpus_25_result\u001b[39m.\u001b[39;49mpivot(index\u001b[39m=\u001b[39;49m\u001b[39m\"\u001b[39;49m\u001b[39mindex\u001b[39;49m\u001b[39m\"\u001b[39;49m, columns\u001b[39m=\u001b[39;49m\u001b[39m\"\u001b[39;49m\u001b[39mcolumn_name\u001b[39;49m\u001b[39m\"\u001b[39;49m, values\u001b[39m=\u001b[39;49m[\u001b[39m'\u001b[39;49m\u001b[39mtopic\u001b[39;49m\u001b[39m'\u001b[39;49m,\u001b[39m'\u001b[39;49m\u001b[39mscore\u001b[39;49m\u001b[39m'\u001b[39;49m,\u001b[39m'\u001b[39;49m\u001b[39mprob\u001b[39;49m\u001b[39m'\u001b[39;49m])\n",
      "File \u001b[0;32m~/anaconda3/lib/python3.10/site-packages/pandas/core/frame.py:8414\u001b[0m, in \u001b[0;36mDataFrame.pivot\u001b[0;34m(self, columns, index, values)\u001b[0m\n\u001b[1;32m   8409\u001b[0m \u001b[39m@Substitution\u001b[39m(\u001b[39m\"\u001b[39m\u001b[39m\"\u001b[39m)\n\u001b[1;32m   8410\u001b[0m \u001b[39m@Appender\u001b[39m(_shared_docs[\u001b[39m\"\u001b[39m\u001b[39mpivot\u001b[39m\u001b[39m\"\u001b[39m])\n\u001b[1;32m   8411\u001b[0m \u001b[39mdef\u001b[39;00m \u001b[39mpivot\u001b[39m(\u001b[39mself\u001b[39m, \u001b[39m*\u001b[39m, columns, index\u001b[39m=\u001b[39mlib\u001b[39m.\u001b[39mNoDefault, values\u001b[39m=\u001b[39mlib\u001b[39m.\u001b[39mNoDefault) \u001b[39m-\u001b[39m\u001b[39m>\u001b[39m DataFrame:\n\u001b[1;32m   8412\u001b[0m     \u001b[39mfrom\u001b[39;00m \u001b[39mpandas\u001b[39;00m\u001b[39m.\u001b[39;00m\u001b[39mcore\u001b[39;00m\u001b[39m.\u001b[39;00m\u001b[39mreshape\u001b[39;00m\u001b[39m.\u001b[39;00m\u001b[39mpivot\u001b[39;00m \u001b[39mimport\u001b[39;00m pivot\n\u001b[0;32m-> 8414\u001b[0m     \u001b[39mreturn\u001b[39;00m pivot(\u001b[39mself\u001b[39;49m, index\u001b[39m=\u001b[39;49mindex, columns\u001b[39m=\u001b[39;49mcolumns, values\u001b[39m=\u001b[39;49mvalues)\n",
      "File \u001b[0;32m~/anaconda3/lib/python3.10/site-packages/pandas/core/reshape/pivot.py:550\u001b[0m, in \u001b[0;36mpivot\u001b[0;34m(data, columns, index, values)\u001b[0m\n\u001b[1;32m    546\u001b[0m \u001b[39mif\u001b[39;00m is_list_like(values) \u001b[39mand\u001b[39;00m \u001b[39mnot\u001b[39;00m \u001b[39misinstance\u001b[39m(values, \u001b[39mtuple\u001b[39m):\n\u001b[1;32m    547\u001b[0m     \u001b[39m# Exclude tuple because it is seen as a single column name\u001b[39;00m\n\u001b[1;32m    548\u001b[0m     values \u001b[39m=\u001b[39m cast(Sequence[Hashable], values)\n\u001b[1;32m    549\u001b[0m     indexed \u001b[39m=\u001b[39m data\u001b[39m.\u001b[39m_constructor(\n\u001b[0;32m--> 550\u001b[0m         data[values]\u001b[39m.\u001b[39m_values, index\u001b[39m=\u001b[39mmultiindex, columns\u001b[39m=\u001b[39mvalues\n\u001b[1;32m    551\u001b[0m     )\n\u001b[1;32m    552\u001b[0m \u001b[39melse\u001b[39;00m:\n\u001b[1;32m    553\u001b[0m     indexed \u001b[39m=\u001b[39m data\u001b[39m.\u001b[39m_constructor_sliced(data[values]\u001b[39m.\u001b[39m_values, index\u001b[39m=\u001b[39mmultiindex)\n",
      "File \u001b[0;32m~/anaconda3/lib/python3.10/site-packages/pandas/core/frame.py:3767\u001b[0m, in \u001b[0;36mDataFrame.__getitem__\u001b[0;34m(self, key)\u001b[0m\n\u001b[1;32m   3765\u001b[0m     \u001b[39mif\u001b[39;00m is_iterator(key):\n\u001b[1;32m   3766\u001b[0m         key \u001b[39m=\u001b[39m \u001b[39mlist\u001b[39m(key)\n\u001b[0;32m-> 3767\u001b[0m     indexer \u001b[39m=\u001b[39m \u001b[39mself\u001b[39;49m\u001b[39m.\u001b[39;49mcolumns\u001b[39m.\u001b[39;49m_get_indexer_strict(key, \u001b[39m\"\u001b[39;49m\u001b[39mcolumns\u001b[39;49m\u001b[39m\"\u001b[39;49m)[\u001b[39m1\u001b[39m]\n\u001b[1;32m   3769\u001b[0m \u001b[39m# take() does not accept boolean indexers\u001b[39;00m\n\u001b[1;32m   3770\u001b[0m \u001b[39mif\u001b[39;00m \u001b[39mgetattr\u001b[39m(indexer, \u001b[39m\"\u001b[39m\u001b[39mdtype\u001b[39m\u001b[39m\"\u001b[39m, \u001b[39mNone\u001b[39;00m) \u001b[39m==\u001b[39m \u001b[39mbool\u001b[39m:\n",
      "File \u001b[0;32m~/anaconda3/lib/python3.10/site-packages/pandas/core/indexes/base.py:5877\u001b[0m, in \u001b[0;36mIndex._get_indexer_strict\u001b[0;34m(self, key, axis_name)\u001b[0m\n\u001b[1;32m   5874\u001b[0m \u001b[39melse\u001b[39;00m:\n\u001b[1;32m   5875\u001b[0m     keyarr, indexer, new_indexer \u001b[39m=\u001b[39m \u001b[39mself\u001b[39m\u001b[39m.\u001b[39m_reindex_non_unique(keyarr)\n\u001b[0;32m-> 5877\u001b[0m \u001b[39mself\u001b[39;49m\u001b[39m.\u001b[39;49m_raise_if_missing(keyarr, indexer, axis_name)\n\u001b[1;32m   5879\u001b[0m keyarr \u001b[39m=\u001b[39m \u001b[39mself\u001b[39m\u001b[39m.\u001b[39mtake(indexer)\n\u001b[1;32m   5880\u001b[0m \u001b[39mif\u001b[39;00m \u001b[39misinstance\u001b[39m(key, Index):\n\u001b[1;32m   5881\u001b[0m     \u001b[39m# GH 42790 - Preserve name from an Index\u001b[39;00m\n",
      "File \u001b[0;32m~/anaconda3/lib/python3.10/site-packages/pandas/core/indexes/base.py:5941\u001b[0m, in \u001b[0;36mIndex._raise_if_missing\u001b[0;34m(self, key, indexer, axis_name)\u001b[0m\n\u001b[1;32m   5938\u001b[0m     \u001b[39mraise\u001b[39;00m \u001b[39mKeyError\u001b[39;00m(\u001b[39mf\u001b[39m\u001b[39m\"\u001b[39m\u001b[39mNone of [\u001b[39m\u001b[39m{\u001b[39;00mkey\u001b[39m}\u001b[39;00m\u001b[39m] are in the [\u001b[39m\u001b[39m{\u001b[39;00maxis_name\u001b[39m}\u001b[39;00m\u001b[39m]\u001b[39m\u001b[39m\"\u001b[39m)\n\u001b[1;32m   5940\u001b[0m not_found \u001b[39m=\u001b[39m \u001b[39mlist\u001b[39m(ensure_index(key)[missing_mask\u001b[39m.\u001b[39mnonzero()[\u001b[39m0\u001b[39m]]\u001b[39m.\u001b[39munique())\n\u001b[0;32m-> 5941\u001b[0m \u001b[39mraise\u001b[39;00m \u001b[39mKeyError\u001b[39;00m(\u001b[39mf\u001b[39m\u001b[39m\"\u001b[39m\u001b[39m{\u001b[39;00mnot_found\u001b[39m}\u001b[39;00m\u001b[39m not in index\u001b[39m\u001b[39m\"\u001b[39m)\n",
      "\u001b[0;31mKeyError\u001b[0m: \"['prob'] not in index\""
     ]
    }
   ],
   "source": [
    "corpus_25_result_pivoted = corpus_25_result.pivot(index=\"index\", columns=\"column_name\", values=['topic','score','prob'])"
   ]
  },
  {
   "cell_type": "code",
   "execution_count": 77,
   "metadata": {},
   "outputs": [],
   "source": [
    "corpus_25_result_pivoted.to_excel(\"25_topic_pivoted.xlsx\")"
   ]
  },
  {
   "cell_type": "code",
   "execution_count": 76,
   "metadata": {},
   "outputs": [],
   "source": [
    "corpus_25_result.to_excel(\"25_topic.xlsx\")"
   ]
  },
  {
   "cell_type": "code",
   "execution_count": 36,
   "metadata": {},
   "outputs": [
    {
     "data": {
      "text/plain": [
       "(0, 4)"
      ]
     },
     "execution_count": 36,
     "metadata": {},
     "output_type": "execute_result"
    }
   ],
   "source": [
    "corpus_25_result[corpus_25_result['index']==122].shape"
   ]
  },
  {
   "cell_type": "code",
   "execution_count": 19,
   "metadata": {},
   "outputs": [
    {
     "ename": "NameError",
     "evalue": "name 'corpus_tfidf' is not defined",
     "output_type": "error",
     "traceback": [
      "\u001b[0;31m---------------------------------------------------------------------------\u001b[0m",
      "\u001b[0;31mNameError\u001b[0m                                 Traceback (most recent call last)",
      "Cell \u001b[0;32mIn[19], line 1\u001b[0m\n\u001b[0;32m----> 1\u001b[0m d \u001b[39m=\u001b[39m output_topics(corpus_25, \u001b[39mTrue\u001b[39;49;00m)\n\u001b[1;32m      2\u001b[0m model_10_result \u001b[39m=\u001b[39m pd\u001b[39m.\u001b[39mDataFrame(d)\n\u001b[1;32m      3\u001b[0m model_10_result\n",
      "Cell \u001b[0;32mIn[17], line 5\u001b[0m, in \u001b[0;36moutput_topics\u001b[0;34m(model, is_tfidf)\u001b[0m\n\u001b[1;32m      4\u001b[0m \u001b[39mdef\u001b[39;00m \u001b[39moutput_topics\u001b[39m(model, is_tfidf):\n\u001b[0;32m----> 5\u001b[0m     corpus \u001b[39m=\u001b[39m corpus_tfidf \u001b[39mif\u001b[39;00m is_tfidf \u001b[39melse\u001b[39;00m bow_corpus\n\u001b[1;32m      6\u001b[0m     d \u001b[39m=\u001b[39m {\u001b[39m\"\u001b[39m\u001b[39mindex\u001b[39m\u001b[39m\"\u001b[39m: [], \u001b[39m\"\u001b[39m\u001b[39mscore\u001b[39m\u001b[39m\"\u001b[39m:[], \u001b[39m\"\u001b[39m\u001b[39mtopic\u001b[39m\u001b[39m\"\u001b[39m:[], \u001b[39m\"\u001b[39m\u001b[39mprob\u001b[39m\u001b[39m\"\u001b[39m: []}\n\u001b[1;32m      7\u001b[0m     \u001b[39mfor\u001b[39;00m item_index, item \u001b[39min\u001b[39;00m \u001b[39menumerate\u001b[39m(corpus):\n",
      "\u001b[0;31mNameError\u001b[0m: name 'corpus_tfidf' is not defined"
     ]
    }
   ],
   "source": [
    "d = output_topics(corpus_25, True)\n",
    "model_10_result = pd.DataFrame(d)\n",
    "model_10_result"
   ]
  },
  {
   "cell_type": "code",
   "execution_count": 162,
   "metadata": {},
   "outputs": [
    {
     "data": {
      "text/plain": [
       "122"
      ]
     },
     "execution_count": 162,
     "metadata": {},
     "output_type": "execute_result"
    }
   ],
   "source": [
    "len(bow_corpus)"
   ]
  },
  {
   "cell_type": "markdown",
   "metadata": {},
   "source": [
    "## Model IO"
   ]
  },
  {
   "cell_type": "code",
   "execution_count": 5,
   "metadata": {},
   "outputs": [],
   "source": [
    "# save model\n",
    "from gensim.test.utils import datapath\n",
    "from gensim import  models\n",
    "\n",
    "def save_model(model, path_=\"models/model\"):\n",
    "    #saving model to disk.\n",
    "\n",
    "    temp_file = datapath(path_)\n",
    "\n",
    "    model.save(temp_file)\n",
    "\n",
    "def load_model(path_=\"models/lda_25_topics\"):\n",
    "    temp_file = datapath(path_)\n",
    "    #loading model from disk\n",
    "    model = models.ldamodel.LdaModel.load(temp_file)\n",
    "    return model"
   ]
  },
  {
   "cell_type": "code",
   "execution_count": 176,
   "metadata": {},
   "outputs": [],
   "source": [
    "save_model(corpus_25, \"/Users/bohaocao/Codebase/uw-lda/models/lda_25_topics\")"
   ]
  },
  {
   "cell_type": "code",
   "execution_count": 7,
   "metadata": {},
   "outputs": [],
   "source": [
    "corpus_25= load_model(\"/Users/bohaocao/Codebase/uw-lda/models/lda_25_topics\")"
   ]
  },
  {
   "cell_type": "code",
   "execution_count": 10,
   "metadata": {},
   "outputs": [
    {
     "data": {
      "text/plain": [
       "888"
      ]
     },
     "execution_count": 10,
     "metadata": {},
     "output_type": "execute_result"
    }
   ],
   "source": [
    "len(corpus_25.id2word)"
   ]
  },
  {
   "cell_type": "markdown",
   "metadata": {},
   "source": [
    "## Phase 2: text similarity \n",
    "\n",
    "\n",
    "### Reference\n",
    "[LDA + document similarity on Kaggle](https://www.kaggle.com/code/ktattan/lda-and-document-similarity/notebook)\n",
    "\n",
    "[Different similarity search approaches](https://medium.com/@adriensieg/text-similarities-da019229c894)"
   ]
  },
  {
   "cell_type": "code",
   "execution_count": 22,
   "metadata": {},
   "outputs": [],
   "source": [
    "def create_document_topic_distribution_matrix(model, corpus, num_topics=25):\n",
    "    \"\"\"\n",
    "    This function create a 2D matrix M that has dimension of num_document X num_topics. \n",
    "    M(i,j) is the weight of topic j for document i.\n",
    "    \"\"\"\n",
    "    topic_distribution = []\n",
    "    for document_topics in model.get_document_topics(bow=corpus):\n",
    "        documenet_topic_dist = [0]*num_topics\n",
    "        for document_id, topic_dist in document_topics: \n",
    "            documenet_topic_dist[document_id] = topic_dist\n",
    "        topic_distribution.append(documenet_topic_dist)\n",
    "\n",
    "    return topic_distribution\n",
    "\n",
    "\n",
    "from scipy.spatial import distance\n",
    "\n",
    "def perform_jensens_hannon_similarity_search(topic_distribution_list, k=5):\n",
    "    \"\"\"\n",
    "    Perform brute force similairty search for all the documents in the topic_distriction_list \n",
    "    using jensens hannon approach, and keep the closest k+1(document)\n",
    "    \"\"\"\n",
    "    num_documents = len(topic_distribution_list) \n",
    "    result = []\n",
    "    for query_document_id in range(num_documents):\n",
    "        distances = []\n",
    "        for search_document_id in range(num_documents):\n",
    "            distance_ = distance.jensenshannon(\n",
    "                topic_distribution_list[query_document_id],\n",
    "                topic_distribution_list[search_document_id]\n",
    "            )\n",
    "            distances.append(distance_)\n",
    "        result.append(np.array(distances).argsort()[:k+1])\n",
    "    \n",
    "    return result\n",
    "\n",
    "def perform_jensens_hannon_similarity_search_all_documents(topic_distribution_list):\n",
    "    \"\"\"\n",
    "    Perform brute force similairty search for all the documents in the topic_distriction_list \n",
    "    using jensens hannon approach\n",
    "    \"\"\"\n",
    "    num_documents = len(topic_distribution_list) \n",
    "    result = []\n",
    "    result_dist = []\n",
    "    for query_document_id in range(num_documents):\n",
    "        distances = []\n",
    "        for search_document_id in range(num_documents):\n",
    "            distance_ = distance.jensenshannon(\n",
    "                topic_distribution_list[query_document_id],\n",
    "                topic_distribution_list[search_document_id]\n",
    "            )\n",
    "            distances.append(distance_)\n",
    "        result_dist.append(np.array(distances))\n",
    "        result.append(np.array(distances).argsort())\n",
    "    \n",
    "    return result, result_dist"
   ]
  },
  {
   "cell_type": "code",
   "execution_count": 18,
   "metadata": {},
   "outputs": [],
   "source": [
    "topic_dist = create_document_topic_distribution_matrix(corpus_25, bow_corpus, 25)"
   ]
  },
  {
   "cell_type": "code",
   "execution_count": 19,
   "metadata": {},
   "outputs": [
    {
     "data": {
      "text/plain": [
       "(122,\n",
       " 25,\n",
       " [0,\n",
       "  0,\n",
       "  0,\n",
       "  0,\n",
       "  0,\n",
       "  0,\n",
       "  0,\n",
       "  0,\n",
       "  0.9867613,\n",
       "  0,\n",
       "  0,\n",
       "  0,\n",
       "  0,\n",
       "  0,\n",
       "  0,\n",
       "  0,\n",
       "  0,\n",
       "  0,\n",
       "  0,\n",
       "  0,\n",
       "  0,\n",
       "  0,\n",
       "  0,\n",
       "  0,\n",
       "  0])"
      ]
     },
     "execution_count": 19,
     "metadata": {},
     "output_type": "execute_result"
    }
   ],
   "source": [
    "len(topic_dist), len(topic_dist[0]), topic_dist[0]"
   ]
  },
  {
   "cell_type": "code",
   "execution_count": 23,
   "metadata": {},
   "outputs": [],
   "source": [
    "result, dist = perform_jensens_hannon_similarity_search_all_documents(topic_dist)"
   ]
  },
  {
   "cell_type": "code",
   "execution_count": 24,
   "metadata": {},
   "outputs": [
    {
     "data": {
      "text/html": [
       "<div>\n",
       "<style scoped>\n",
       "    .dataframe tbody tr th:only-of-type {\n",
       "        vertical-align: middle;\n",
       "    }\n",
       "\n",
       "    .dataframe tbody tr th {\n",
       "        vertical-align: top;\n",
       "    }\n",
       "\n",
       "    .dataframe thead th {\n",
       "        text-align: right;\n",
       "    }\n",
       "</style>\n",
       "<table border=\"1\" class=\"dataframe\">\n",
       "  <thead>\n",
       "    <tr style=\"text-align: right;\">\n",
       "      <th></th>\n",
       "      <th>0</th>\n",
       "      <th>1</th>\n",
       "      <th>2</th>\n",
       "      <th>3</th>\n",
       "      <th>4</th>\n",
       "      <th>5</th>\n",
       "      <th>6</th>\n",
       "      <th>7</th>\n",
       "      <th>8</th>\n",
       "      <th>9</th>\n",
       "      <th>...</th>\n",
       "      <th>112</th>\n",
       "      <th>113</th>\n",
       "      <th>114</th>\n",
       "      <th>115</th>\n",
       "      <th>116</th>\n",
       "      <th>117</th>\n",
       "      <th>118</th>\n",
       "      <th>119</th>\n",
       "      <th>120</th>\n",
       "      <th>121</th>\n",
       "    </tr>\n",
       "  </thead>\n",
       "  <tbody>\n",
       "    <tr>\n",
       "      <th>0</th>\n",
       "      <td>0</td>\n",
       "      <td>85</td>\n",
       "      <td>74</td>\n",
       "      <td>57</td>\n",
       "      <td>56</td>\n",
       "      <td>11</td>\n",
       "      <td>36</td>\n",
       "      <td>92</td>\n",
       "      <td>45</td>\n",
       "      <td>93</td>\n",
       "      <td>...</td>\n",
       "      <td>9</td>\n",
       "      <td>55</td>\n",
       "      <td>54</td>\n",
       "      <td>61</td>\n",
       "      <td>20</td>\n",
       "      <td>28</td>\n",
       "      <td>59</td>\n",
       "      <td>100</td>\n",
       "      <td>97</td>\n",
       "      <td>26</td>\n",
       "    </tr>\n",
       "    <tr>\n",
       "      <th>1</th>\n",
       "      <td>1</td>\n",
       "      <td>2</td>\n",
       "      <td>29</td>\n",
       "      <td>64</td>\n",
       "      <td>62</td>\n",
       "      <td>67</td>\n",
       "      <td>98</td>\n",
       "      <td>43</td>\n",
       "      <td>18</td>\n",
       "      <td>28</td>\n",
       "      <td>...</td>\n",
       "      <td>56</td>\n",
       "      <td>55</td>\n",
       "      <td>51</td>\n",
       "      <td>50</td>\n",
       "      <td>49</td>\n",
       "      <td>48</td>\n",
       "      <td>100</td>\n",
       "      <td>66</td>\n",
       "      <td>59</td>\n",
       "      <td>20</td>\n",
       "    </tr>\n",
       "    <tr>\n",
       "      <th>2</th>\n",
       "      <td>2</td>\n",
       "      <td>98</td>\n",
       "      <td>101</td>\n",
       "      <td>1</td>\n",
       "      <td>97</td>\n",
       "      <td>64</td>\n",
       "      <td>29</td>\n",
       "      <td>62</td>\n",
       "      <td>67</td>\n",
       "      <td>28</td>\n",
       "      <td>...</td>\n",
       "      <td>52</td>\n",
       "      <td>51</td>\n",
       "      <td>50</td>\n",
       "      <td>49</td>\n",
       "      <td>48</td>\n",
       "      <td>55</td>\n",
       "      <td>59</td>\n",
       "      <td>66</td>\n",
       "      <td>100</td>\n",
       "      <td>20</td>\n",
       "    </tr>\n",
       "    <tr>\n",
       "      <th>3</th>\n",
       "      <td>46</td>\n",
       "      <td>3</td>\n",
       "      <td>89</td>\n",
       "      <td>80</td>\n",
       "      <td>77</td>\n",
       "      <td>96</td>\n",
       "      <td>55</td>\n",
       "      <td>100</td>\n",
       "      <td>37</td>\n",
       "      <td>115</td>\n",
       "      <td>...</td>\n",
       "      <td>31</td>\n",
       "      <td>68</td>\n",
       "      <td>67</td>\n",
       "      <td>65</td>\n",
       "      <td>71</td>\n",
       "      <td>0</td>\n",
       "      <td>92</td>\n",
       "      <td>106</td>\n",
       "      <td>66</td>\n",
       "      <td>40</td>\n",
       "    </tr>\n",
       "    <tr>\n",
       "      <th>4</th>\n",
       "      <td>4</td>\n",
       "      <td>89</td>\n",
       "      <td>77</td>\n",
       "      <td>55</td>\n",
       "      <td>96</td>\n",
       "      <td>46</td>\n",
       "      <td>80</td>\n",
       "      <td>3</td>\n",
       "      <td>100</td>\n",
       "      <td>37</td>\n",
       "      <td>...</td>\n",
       "      <td>68</td>\n",
       "      <td>67</td>\n",
       "      <td>66</td>\n",
       "      <td>65</td>\n",
       "      <td>64</td>\n",
       "      <td>63</td>\n",
       "      <td>62</td>\n",
       "      <td>61</td>\n",
       "      <td>22</td>\n",
       "      <td>0</td>\n",
       "    </tr>\n",
       "  </tbody>\n",
       "</table>\n",
       "<p>5 rows × 122 columns</p>\n",
       "</div>"
      ],
      "text/plain": [
       "   0    1    2    3    4    5    6    7    8    9    ...  112  113  114  115  \\\n",
       "0    0   85   74   57   56   11   36   92   45   93  ...    9   55   54   61   \n",
       "1    1    2   29   64   62   67   98   43   18   28  ...   56   55   51   50   \n",
       "2    2   98  101    1   97   64   29   62   67   28  ...   52   51   50   49   \n",
       "3   46    3   89   80   77   96   55  100   37  115  ...   31   68   67   65   \n",
       "4    4   89   77   55   96   46   80    3  100   37  ...   68   67   66   65   \n",
       "\n",
       "   116  117  118  119  120  121  \n",
       "0   20   28   59  100   97   26  \n",
       "1   49   48  100   66   59   20  \n",
       "2   48   55   59   66  100   20  \n",
       "3   71    0   92  106   66   40  \n",
       "4   64   63   62   61   22    0  \n",
       "\n",
       "[5 rows x 122 columns]"
      ]
     },
     "execution_count": 24,
     "metadata": {},
     "output_type": "execute_result"
    }
   ],
   "source": [
    "result_df = pd.DataFrame(result)\n",
    "result_df.head()"
   ]
  },
  {
   "cell_type": "code",
   "execution_count": 31,
   "metadata": {},
   "outputs": [],
   "source": [
    "result_df.to_csv(\"search_result.csv\",index=False)"
   ]
  },
  {
   "cell_type": "code",
   "execution_count": 26,
   "metadata": {},
   "outputs": [
    {
     "data": {
      "text/html": [
       "<div>\n",
       "<style scoped>\n",
       "    .dataframe tbody tr th:only-of-type {\n",
       "        vertical-align: middle;\n",
       "    }\n",
       "\n",
       "    .dataframe tbody tr th {\n",
       "        vertical-align: top;\n",
       "    }\n",
       "\n",
       "    .dataframe thead th {\n",
       "        text-align: right;\n",
       "    }\n",
       "</style>\n",
       "<table border=\"1\" class=\"dataframe\">\n",
       "  <thead>\n",
       "    <tr style=\"text-align: right;\">\n",
       "      <th></th>\n",
       "      <th>0</th>\n",
       "      <th>1</th>\n",
       "      <th>2</th>\n",
       "      <th>3</th>\n",
       "      <th>4</th>\n",
       "      <th>5</th>\n",
       "      <th>6</th>\n",
       "      <th>7</th>\n",
       "      <th>8</th>\n",
       "      <th>9</th>\n",
       "      <th>...</th>\n",
       "      <th>112</th>\n",
       "      <th>113</th>\n",
       "      <th>114</th>\n",
       "      <th>115</th>\n",
       "      <th>116</th>\n",
       "      <th>117</th>\n",
       "      <th>118</th>\n",
       "      <th>119</th>\n",
       "      <th>120</th>\n",
       "      <th>121</th>\n",
       "    </tr>\n",
       "  </thead>\n",
       "  <tbody>\n",
       "    <tr>\n",
       "      <th>0</th>\n",
       "      <td>0.000000</td>\n",
       "      <td>0.832555</td>\n",
       "      <td>0.832555</td>\n",
       "      <td>0.832555</td>\n",
       "      <td>0.832555</td>\n",
       "      <td>0.832555</td>\n",
       "      <td>0.832555</td>\n",
       "      <td>0.832555</td>\n",
       "      <td>0.832555</td>\n",
       "      <td>0.832555</td>\n",
       "      <td>...</td>\n",
       "      <td>0.832555</td>\n",
       "      <td>0.832555</td>\n",
       "      <td>0.832555</td>\n",
       "      <td>0.832555</td>\n",
       "      <td>0.832555</td>\n",
       "      <td>0.832555</td>\n",
       "      <td>0.832555</td>\n",
       "      <td>0.733648</td>\n",
       "      <td>0.432129</td>\n",
       "      <td>0.787225</td>\n",
       "    </tr>\n",
       "    <tr>\n",
       "      <th>1</th>\n",
       "      <td>0.832555</td>\n",
       "      <td>0.000000</td>\n",
       "      <td>0.253493</td>\n",
       "      <td>0.832555</td>\n",
       "      <td>0.832555</td>\n",
       "      <td>0.832555</td>\n",
       "      <td>0.579266</td>\n",
       "      <td>0.646936</td>\n",
       "      <td>0.707398</td>\n",
       "      <td>0.832555</td>\n",
       "      <td>...</td>\n",
       "      <td>0.832555</td>\n",
       "      <td>0.832555</td>\n",
       "      <td>0.660942</td>\n",
       "      <td>0.832555</td>\n",
       "      <td>0.734563</td>\n",
       "      <td>0.832555</td>\n",
       "      <td>0.658730</td>\n",
       "      <td>0.747308</td>\n",
       "      <td>0.700421</td>\n",
       "      <td>0.832555</td>\n",
       "    </tr>\n",
       "    <tr>\n",
       "      <th>2</th>\n",
       "      <td>0.832555</td>\n",
       "      <td>0.253493</td>\n",
       "      <td>0.000000</td>\n",
       "      <td>0.832555</td>\n",
       "      <td>0.832555</td>\n",
       "      <td>0.832555</td>\n",
       "      <td>0.614416</td>\n",
       "      <td>0.483917</td>\n",
       "      <td>0.628880</td>\n",
       "      <td>0.832555</td>\n",
       "      <td>...</td>\n",
       "      <td>0.832555</td>\n",
       "      <td>0.832555</td>\n",
       "      <td>0.521101</td>\n",
       "      <td>0.832555</td>\n",
       "      <td>0.832555</td>\n",
       "      <td>0.832555</td>\n",
       "      <td>0.515397</td>\n",
       "      <td>0.832555</td>\n",
       "      <td>0.614001</td>\n",
       "      <td>0.832555</td>\n",
       "    </tr>\n",
       "    <tr>\n",
       "      <th>3</th>\n",
       "      <td>0.832555</td>\n",
       "      <td>0.832555</td>\n",
       "      <td>0.832555</td>\n",
       "      <td>0.000000</td>\n",
       "      <td>0.408129</td>\n",
       "      <td>0.832555</td>\n",
       "      <td>0.743542</td>\n",
       "      <td>0.832555</td>\n",
       "      <td>0.402384</td>\n",
       "      <td>0.591903</td>\n",
       "      <td>...</td>\n",
       "      <td>0.832555</td>\n",
       "      <td>0.832555</td>\n",
       "      <td>0.745268</td>\n",
       "      <td>0.232100</td>\n",
       "      <td>0.718233</td>\n",
       "      <td>0.832555</td>\n",
       "      <td>0.832555</td>\n",
       "      <td>0.832555</td>\n",
       "      <td>0.832555</td>\n",
       "      <td>0.637941</td>\n",
       "    </tr>\n",
       "    <tr>\n",
       "      <th>4</th>\n",
       "      <td>0.832555</td>\n",
       "      <td>0.832555</td>\n",
       "      <td>0.832555</td>\n",
       "      <td>0.408129</td>\n",
       "      <td>0.000000</td>\n",
       "      <td>0.520545</td>\n",
       "      <td>0.756451</td>\n",
       "      <td>0.832555</td>\n",
       "      <td>0.527026</td>\n",
       "      <td>0.643461</td>\n",
       "      <td>...</td>\n",
       "      <td>0.832555</td>\n",
       "      <td>0.747130</td>\n",
       "      <td>0.667574</td>\n",
       "      <td>0.450621</td>\n",
       "      <td>0.736326</td>\n",
       "      <td>0.832555</td>\n",
       "      <td>0.746413</td>\n",
       "      <td>0.832555</td>\n",
       "      <td>0.832555</td>\n",
       "      <td>0.675901</td>\n",
       "    </tr>\n",
       "  </tbody>\n",
       "</table>\n",
       "<p>5 rows × 122 columns</p>\n",
       "</div>"
      ],
      "text/plain": [
       "        0         1         2         3         4         5         6    \\\n",
       "0  0.000000  0.832555  0.832555  0.832555  0.832555  0.832555  0.832555   \n",
       "1  0.832555  0.000000  0.253493  0.832555  0.832555  0.832555  0.579266   \n",
       "2  0.832555  0.253493  0.000000  0.832555  0.832555  0.832555  0.614416   \n",
       "3  0.832555  0.832555  0.832555  0.000000  0.408129  0.832555  0.743542   \n",
       "4  0.832555  0.832555  0.832555  0.408129  0.000000  0.520545  0.756451   \n",
       "\n",
       "        7         8         9    ...       112       113       114       115  \\\n",
       "0  0.832555  0.832555  0.832555  ...  0.832555  0.832555  0.832555  0.832555   \n",
       "1  0.646936  0.707398  0.832555  ...  0.832555  0.832555  0.660942  0.832555   \n",
       "2  0.483917  0.628880  0.832555  ...  0.832555  0.832555  0.521101  0.832555   \n",
       "3  0.832555  0.402384  0.591903  ...  0.832555  0.832555  0.745268  0.232100   \n",
       "4  0.832555  0.527026  0.643461  ...  0.832555  0.747130  0.667574  0.450621   \n",
       "\n",
       "        116       117       118       119       120       121  \n",
       "0  0.832555  0.832555  0.832555  0.733648  0.432129  0.787225  \n",
       "1  0.734563  0.832555  0.658730  0.747308  0.700421  0.832555  \n",
       "2  0.832555  0.832555  0.515397  0.832555  0.614001  0.832555  \n",
       "3  0.718233  0.832555  0.832555  0.832555  0.832555  0.637941  \n",
       "4  0.736326  0.832555  0.746413  0.832555  0.832555  0.675901  \n",
       "\n",
       "[5 rows x 122 columns]"
      ]
     },
     "execution_count": 26,
     "metadata": {},
     "output_type": "execute_result"
    }
   ],
   "source": [
    "result_dist_df = pd.DataFrame(dist)\n",
    "result_dist_df.head()"
   ]
  },
  {
   "cell_type": "code",
   "execution_count": 34,
   "metadata": {},
   "outputs": [],
   "source": [
    "result_dist_df.to_csv(\"search_result_distance.csv\", index=False)"
   ]
  },
  {
   "cell_type": "code",
   "execution_count": 163,
   "metadata": {},
   "outputs": [],
   "source": [
    "index_cat_df = df.reset_index()[['index','Category']].sort_values(by=\"Category\")"
   ]
  },
  {
   "cell_type": "code",
   "execution_count": 171,
   "metadata": {},
   "outputs": [
    {
     "data": {
      "text/plain": [
       "Category\n",
       " E commerce                                                        [16]\n",
       "Advertising                                                    [51, 31]\n",
       "Application services                                               [19]\n",
       "Broker                                                              [1]\n",
       "Business Optimization                                              [43]\n",
       "Business intelligence                                              [96]\n",
       "CDM                                                                [67]\n",
       "Career website                                                     [63]\n",
       "Clinical research                                                  [80]\n",
       "Commercial real estate                                             [44]\n",
       "Compensation management                                            [54]\n",
       "Computing                                                          [45]\n",
       "Connectivity                                                       [79]\n",
       "Content delivery                                                   [60]\n",
       "Credit                                                             [10]\n",
       "Customer engagement                                            [90, 91]\n",
       "Data Management                                                [46, 49]\n",
       "Digital marketing                                                  [61]\n",
       "E Commerce                                                         [42]\n",
       "E mail                                                             [50]\n",
       "Education                                                  [86, 73, 94]\n",
       "Electronic retailer                                                [28]\n",
       "Email marketing                                                    [68]\n",
       "Employement                                                        [66]\n",
       "Enterprise software                 [95, 8, 62, 11, 13, 70, 74, 78, 81]\n",
       "Entertainment                                                       [5]\n",
       "Entertainment Software                                              [4]\n",
       "Family history                                                     [84]\n",
       "Financial Services                                             [14, 97]\n",
       "Forex                                                             [101]\n",
       "Health information                                                 [33]\n",
       "Health insurance                                                   [48]\n",
       "Hotels                                                             [15]\n",
       "ISP                                                            [57, 92]\n",
       "Integrated circuit design                                           [3]\n",
       "Internet services                                                  [36]\n",
       "Internet survey                                                    [22]\n",
       "Jewelry                                                            [18]\n",
       "Marketing                                                  [72, 71, 88]\n",
       "Mobile data                                                        [93]\n",
       "Mobile gaming                                                      [58]\n",
       "Network management                                                 [77]\n",
       "Network security                                                   [85]\n",
       "Network services                                                   [52]\n",
       "Non-profit                                                         [17]\n",
       "On-demand software                                             [99, 24]\n",
       "Online auction                                                     [41]\n",
       "Online brokerage                                                   [39]\n",
       "Online content                                                     [59]\n",
       "Online media                                                       [27]\n",
       "Online payments                                                     [7]\n",
       "Online retail                                   [12, 53, 6, 30, 83, 25]\n",
       "Online tradiing                                                    [29]\n",
       "Online transactions                                                [23]\n",
       "Online travel                                                      [64]\n",
       "Payment processing                                                 [32]\n",
       "Pritning                                                           [34]\n",
       "Pubishing                                                          [47]\n",
       "Revenue management                                                 [82]\n",
       "Security                                                           [75]\n",
       "Service management software                                        [20]\n",
       "Software                                                           [87]\n",
       "Supply chain                                               [89, 9, 100]\n",
       "Talent management                                                  [69]\n",
       "Text imagiing                                                      [65]\n",
       "Traffic                                                            [40]\n",
       "Transaction services                                                [2]\n",
       "Travel                                                             [98]\n",
       "Web Design                                                         [35]\n",
       "Web analytics                                                      [26]\n",
       "Web hosting                                                        [76]\n",
       "Web search                                                         [21]\n",
       "nternet infrastructure equipment                                    [0]\n",
       "on-demand software                                             [37, 38]\n",
       "Name: index, dtype: object"
      ]
     },
     "execution_count": 171,
     "metadata": {},
     "output_type": "execute_result"
    }
   ],
   "source": [
    "pd.set_option('display.max_columns', None)\n",
    "pd.set_option('display.max_rows', None)\n",
    "index_cat_df.groupby(\"Category\")['index'].apply(list)"
   ]
  }
 ],
 "metadata": {
  "kernelspec": {
   "display_name": "base",
   "language": "python",
   "name": "python3"
  },
  "language_info": {
   "codemirror_mode": {
    "name": "ipython",
    "version": 3
   },
   "file_extension": ".py",
   "mimetype": "text/x-python",
   "name": "python",
   "nbconvert_exporter": "python",
   "pygments_lexer": "ipython3",
   "version": "3.10.9"
  },
  "orig_nbformat": 4
 },
 "nbformat": 4,
 "nbformat_minor": 2
}
